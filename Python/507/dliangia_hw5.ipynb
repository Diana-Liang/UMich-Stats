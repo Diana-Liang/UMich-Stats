{
 "cells": [
  {
   "cell_type": "markdown",
   "metadata": {},
   "source": [
    "# Homework 5 (35 points + 3 extra credits)\n",
    "\n",
    "name: Diana Liang\n",
    "\n",
    "email: dliangia@umich.edu\n",
    "\n",
    "I did not discuss this homework with anyone else.\n",
    "\n",
    "This homework assignment took me 7 hours in total to complete. (Please help us to gauge the difficulty of the assignment.)\n",
    "\n",
    "### <span style=\"color:red\"> New Submission Instructions </span>\n",
    "Your homework solutions should be written entirely in this Jupyter notebook file. Once it contains your solutions, you should submit this notebook through Canvas. Before submitting, please make sure make sure __Cells->Run__ executes without errors; errors in your code cause problems for our auto-grader. Thus, even though we frequently ask you to check for errors in your functions, you should not include in your submission any examples of your functions actually raising those errors."
   ]
  },
  {
   "cell_type": "code",
   "execution_count": 1,
   "metadata": {},
   "outputs": [],
   "source": [
    "%load_ext pycodestyle_magic\n",
    "%pycodestyle_on"
   ]
  },
  {
   "cell_type": "code",
   "execution_count": 24,
   "metadata": {},
   "outputs": [],
   "source": [
    "import numpy as np\n",
    "import itertools\n",
    "import functools\n",
    "import random\n",
    "import math"
   ]
  },
  {
   "cell_type": "markdown",
   "metadata": {},
   "source": [
    "### Problem 1: Basic Review Questions (10 points)\n",
    "\n",
    "1. Write a function called __collatz__ takes a positive integer $num$ as its argument, and returns a list. Your function should perform appropriate error checking for it. The list is generated as follows: The first element of the list is $num$. Continue doing the following things: if the last element of the list, $number$, is even,then the next element of the list is $number$ / 2; if the last element of the list, $number$, is add, then the next element of the list is 3 * number + 1. Stop when the last element of the list is 1. (Note: We guarantee the length of the list is finite.)"
   ]
  },
  {
   "cell_type": "code",
   "execution_count": 6,
   "metadata": {},
   "outputs": [],
   "source": [
    "def collatz(num):\n",
    "    if type(num) is not int:\n",
    "        raise TypeError(\"Input should be integer\")\n",
    "    elif num <= 0:\n",
    "        raise ValueError(\"Integer should be positive\")\n",
    "    temp = [num]\n",
    "    while temp[-1] != 1:\n",
    "        if temp[-1]%2 == 0:\n",
    "            temp.append(temp[-1]/2)\n",
    "        else:\n",
    "            temp.append(3*temp[-1]+1)\n",
    "    return temp"
   ]
  },
  {
   "cell_type": "code",
   "execution_count": 7,
   "metadata": {},
   "outputs": [
    {
     "name": "stdout",
     "output_type": "stream",
     "text": [
      "True\n"
     ]
    }
   ],
   "source": [
    "print(collatz(3) == [3, 10, 5, 16, 8, 4, 2, 1])"
   ]
  },
  {
   "cell_type": "markdown",
   "metadata": {},
   "source": [
    "2. __Casino Game:__ This game in the casino consists of tossing a die with N faces twice. There is a number written on each face of the die (these numbers are not necessarily distinct). In order to win, you must get the number $A$ on the first toss and the number $B$ on the second toss of the die. The excited viewers want to know the probability that you will win the game. Define a function __casino_game__ that takes a list of $N$ integers, an integer $A$ and an integer $B$ as its arguments and returns the probability that you win the game. Your function should perform appropriate error checking. Assume that you get each face of the die with the same probability on each toss and that tosses are mutually independent."
   ]
  },
  {
   "cell_type": "code",
   "execution_count": 8,
   "metadata": {},
   "outputs": [],
   "source": [
    "def casino_game(die, A, B):\n",
    "    if type(die) is not int or type(A) is not int or type(B) is not int:\n",
    "        raise TypeError(\"Inputs should be integers\")\n",
    "    elif die < 0 or A < 0 or B < 0:\n",
    "        raise ValueError(\"Inputs should non-negative\")\n",
    "    count_a = 0; count_b = 0\n",
    "    for i in die:\n",
    "        if i == A:\n",
    "            count_a += 1\n",
    "        if i == B:\n",
    "            count_b += 1\n",
    "    prob_a = count_a / len(die)\n",
    "    prob_b = count_b / len(die)\n",
    "    win = prob_a * prob_b\n",
    "    return win"
   ]
  },
  {
   "cell_type": "code",
   "execution_count": 9,
   "metadata": {},
   "outputs": [
    {
     "name": "stdout",
     "output_type": "stream",
     "text": [
      "True\n",
      "True\n"
     ]
    }
   ],
   "source": [
    "print(casino_game([1, 2, 3, 4], 1, 1) == 0.0625)\n",
    "print(casino_game([1, 2, 3, 4], 1, 5) == 0)"
   ]
  },
  {
   "cell_type": "markdown",
   "metadata": {},
   "source": [
    "3. Write a function __dict_comp__ that takes a positive integer $n$ as its argument and returns a dictionary that contains a number (between 1 and n) as its keys and the first $n$ composite numbers as its values. Your function should perform appropriate error checking for it. Recall that a composite number is any integer $p > 1$ which is not prime."
   ]
  },
  {
   "cell_type": "code",
   "execution_count": 16,
   "metadata": {
    "scrolled": true
   },
   "outputs": [],
   "source": [
    "def composites():\n",
    "    num = int(2)\n",
    "    num_list = []\n",
    "    while True:\n",
    "        div_list = list(map(lambda x: num % x, num_list))\n",
    "        if 0 in div_list:\n",
    "            yield num\n",
    "        num_list.append(num)\n",
    "        num += 1"
   ]
  },
  {
   "cell_type": "code",
   "execution_count": 38,
   "metadata": {},
   "outputs": [],
   "source": [
    "def dict_comp(n):\n",
    "    if type(n) not int:\n",
    "        raise TypeError(\"Input should be integer\")\n",
    "    elif n <= 0:\n",
    "        raise ValueError(\"Input should be greater than 0\")\n",
    "    x = composites()\n",
    "    values = [next(x) for _ in range(n)]\n",
    "    d = dict()\n",
    "    for i in range(n):\n",
    "        d[i+1] = values[i]\n",
    "    return d"
   ]
  },
  {
   "cell_type": "code",
   "execution_count": 39,
   "metadata": {},
   "outputs": [
    {
     "data": {
      "text/plain": [
       "True"
      ]
     },
     "execution_count": 39,
     "metadata": {},
     "output_type": "execute_result"
    }
   ],
   "source": [
    "dict_comp(5) == {1: 4, 2: 6, 3: 8, 4: 9, 5: 10}"
   ]
  },
  {
   "cell_type": "markdown",
   "metadata": {},
   "source": [
    "4. Write a one-line expression that computes the sum of the first 10 even square numbers (starting from 4). For ease of grading, please assign the output of this expression to a variable called __even_squares__."
   ]
  },
  {
   "cell_type": "code",
   "execution_count": 20,
   "metadata": {},
   "outputs": [],
   "source": [
    "even_squares = sum(list(map(lambda x: (2*x)**2, range(1, 11))))"
   ]
  },
  {
   "cell_type": "markdown",
   "metadata": {},
   "source": [
    "5. Write a generator expression that enumerates the tetrahedral numbers. The n-th tetrahedral number ($n = 1,\\ 2,\\ \\cdots$) is given by $Tn = \\binom{n+2}{3}$， where $\\binom{x}{y}$ is the binomial coefficient\n",
    "$$\\binom{x}{y} = \\frac{x!}{y!(x-y)!}$$\n",
    "For ease of grading, please assign this generator expression to a variable called tetra. Hint: you may find it useful to define a generator that enumerates the positive integers."
   ]
  },
  {
   "cell_type": "code",
   "execution_count": 21,
   "metadata": {},
   "outputs": [],
   "source": [
    "def pos_int():\n",
    "    n = int(1)\n",
    "    while True:\n",
    "        yield n\n",
    "        n += 1"
   ]
  },
  {
   "cell_type": "code",
   "execution_count": 77,
   "metadata": {},
   "outputs": [],
   "source": [
    "tetra = (math.factorial(n+2)/(math.factorial(n-1)*6) for n in pos_int())"
   ]
  },
  {
   "cell_type": "markdown",
   "metadata": {},
   "source": [
    "6. Write a one-line expression that computes the geometric mean of the first 12 tetrahedral numbers. You may use the generator that you wrote in the previous problem. Recall that the geometric mean of a collection of n numbers $a_1,\\ a_2,\\ \\cdots,\\ a_n$ is given by ($\\prod^n_{i=1} a_i)^{\\frac{1}{n}}$. For ease of grading, please assign the output of this expression to a variable called __tetra_geom__."
   ]
  },
  {
   "cell_type": "code",
   "execution_count": 78,
   "metadata": {},
   "outputs": [],
   "source": [
    "tetra_geom = (functools.reduce(lambda x, y: x*y,\n",
    "                               [next(tetra) for _ in range(12)]))**(1/12)"
   ]
  },
  {
   "cell_type": "markdown",
   "metadata": {},
   "source": [
    "7. You are given a string $s$, which contains alphanumeric characters only. Your task is to sort the string $s$ in the following manner:  \n",
    " - All sorted lowercase letters are ahead of uppercase letters.\n",
    " - All sorted uppercase letters are ahead of digits.\n",
    " - All sorted odd digits are ahead of sorted even digits.\n",
    "\n",
    "Write a function called __sort_str__, which takes the string $s$ as its argument, and return the result. Your function should perform appropriate error checking."
   ]
  },
  {
   "cell_type": "code",
   "execution_count": 48,
   "metadata": {},
   "outputs": [],
   "source": [
    "def sort_str(s):\n",
    "    if type(s) is not str:\n",
    "        raise TypeError(\"Input should be string\")\n",
    "    lower = []; upper = []\n",
    "    odd = []; even = []\n",
    "    for char in s:\n",
    "        if char in 'abcdefghijklmnopqrstuvwxyz':\n",
    "            lower.append(char)\n",
    "        elif char in 'ABCDEFGHIJKLMNOPQRSTUVWXYZ':\n",
    "            upper.append(char)\n",
    "        elif char in '13579':\n",
    "            odd.append(char)\n",
    "        elif char in '02468':\n",
    "            even.append(char)\n",
    "        else:\n",
    "            raise ValueError(\"String should only contain alphanumeric characters\")\n",
    "    lower.sort(); upper.sort()\n",
    "    odd.sort(); even.sort()\n",
    "    final = lower + upper + odd + even\n",
    "    final_s = ''\n",
    "    for i in final:\n",
    "        final_s = final_s + i\n",
    "    return final_s"
   ]
  },
  {
   "cell_type": "code",
   "execution_count": 49,
   "metadata": {},
   "outputs": [
    {
     "name": "stdout",
     "output_type": "stream",
     "text": [
      "True\n",
      "True\n"
     ]
    }
   ],
   "source": [
    "print(sort_str('Sorting1234') == 'ginortS1324')\n",
    "print(sort_str('Stats5072020') == 'asttS5700022')"
   ]
  },
  {
   "cell_type": "markdown",
   "metadata": {},
   "source": [
    "### Problem 2: Fantasy Game (5 points)\n",
    "1. __Fantasy Game Inventory:__ You are creating a fantasy video game. The data structure to model the player’s inventory will be a dictionary where the keys are string values describing the item in the inventory and the value is an integer value detailing how many of that item the player has. For example, the dictionary value `{'rope': 1, 'torch': 6, 'gold coin': 42, 'dagger': 1, 'arrow': 12}` means the player has 1 rope, 6 torches, 42 gold coins, and so on. Write a function named __displayInventory__ that takes a dictionary “inventory” as its argument and print it like the following:\n",
    "***\n",
    "Inventory:\n",
    "\n",
    "12 arrow\n",
    "\n",
    "42 gold coin\n",
    "\n",
    "1 rope\n",
    "\n",
    "6 torch\n",
    "\n",
    "1 dagger\n",
    "\n",
    "Total number of items: 62\n",
    "\n",
    "__Note:__ Your function should raise TypeError if the input is not a dictionary."
   ]
  },
  {
   "cell_type": "code",
   "execution_count": 18,
   "metadata": {},
   "outputs": [],
   "source": [
    "def display_inventory(inventory):\n",
    "    if type(inventory) is not dict:\n",
    "        raise TypeError(\"Input should be dictionary\")\n",
    "    items = 0\n",
    "    print(\"Inventory: \")\n",
    "    for i in inventory:\n",
    "        print(\"%d %s\" % (inventory[i], i))\n",
    "        items += inventory[i]\n",
    "    print(\"Total number of items: %d\" % items)"
   ]
  },
  {
   "cell_type": "code",
   "execution_count": 19,
   "metadata": {},
   "outputs": [
    {
     "name": "stdout",
     "output_type": "stream",
     "text": [
      "Inventory: \n",
      "1 rope\n",
      "6 torch\n",
      "42 gold coin\n",
      "1 dagger\n",
      "12 arrow\n",
      "3 map fragments\n",
      "Total number of items: 65\n"
     ]
    }
   ],
   "source": [
    "stuff = {'rope': 1, 'torch': 6, 'gold coin': 42,\n",
    "         'dagger': 1, 'arrow': 12, 'map fragments': 3}\n",
    "\n",
    "display_inventory(stuff)"
   ]
  },
  {
   "cell_type": "markdown",
   "metadata": {},
   "source": [
    "2. __List to Dictionary Function for Fantasy Game Inventory:__ Imagine that a vanquished dragon’s loot is represented as a list of strings like this: `dragonLoot = ['gold coin', 'dagger', 'gold coin', 'gold coin', 'ruby']`. Write a function named `addToInventory(inventory, addedItems)`, where the __inventory__ argument is a dictionary representing the player’s inventory (like in the previous question) and the __addedItems__ argument is a list like dragonLoot. Your function should check to make sure that the types of the input are appropriate (e.g., that inventory is a dictionary and addedItems should be a list of strings). The __addToInventory__ function should return a dictionary that represents the updated inventory. __Note:__ the addedItems list can contain multiples of the same item."
   ]
  },
  {
   "cell_type": "code",
   "execution_count": 24,
   "metadata": {},
   "outputs": [],
   "source": [
    "def add_to_inventory(inventory, addedItems):\n",
    "    if type(inventory) is not dict or type(addedItems) is not list:\n",
    "        raise TypeError(\"Input should be dictionary and list\")\n",
    "    for i in addedItems:\n",
    "        if type(i) is not str:\n",
    "            raise TypeError(\"Input should be list of strings\")\n",
    "        if i in inventory:\n",
    "            inventory[i] += 1\n",
    "        else:\n",
    "            inventory[i] = 1\n",
    "    return inventory"
   ]
  },
  {
   "cell_type": "code",
   "execution_count": 25,
   "metadata": {},
   "outputs": [
    {
     "data": {
      "text/plain": [
       "True"
      ]
     },
     "execution_count": 25,
     "metadata": {},
     "output_type": "execute_result"
    }
   ],
   "source": [
    "inv = {'gold coin': 42, 'rope': 1}\n",
    "dragon_loot = ['gold coin', 'dagger', 'gold coin', 'gold coin', 'ruby']\n",
    "add_to_inventory(inv, dragon_loot) == {'dagger': 1, 'gold coin': 45,\n",
    "                                       'rope': 1, 'ruby': 1}"
   ]
  },
  {
   "cell_type": "markdown",
   "metadata": {},
   "source": [
    "### Problem 3: More Fun with Strings (5 points)\n",
    "1. __Merge the Tools:__ Consider the following: A string, $s$, of length $n$  where $s=c_0c_1 \\ldots c_{n-1}$. An integer, $k$ , where $k$ is a factor of $n$.We can split $s$ into $n/k$ subsegments where each subsegment, $t_i$ , consists of a contiguous block of $k$ characters in $s$. Then, use each $t_i$ to create string $u_i$ such that:  \n",
    " - The characters in $u_i$ are a subsequence of the characters in $t_i$.  \n",
    " - Any repeat occurrence of a character is removed from the string such that each character in $u_i$ occurs exactly once. In other words, if the character at some index $j$  in $t_i$  occurs at a previous index $< j$ in $t_i$, then do not include the character in string $u_i$.\n",
    "  \n",
    " Write a function called __str_seg__, which takes the string $s$ and the value $k$ as its two argument, and return a list containing $\\frac{n}{k}$ elements, where $i$-th element denotes the string $u_i$. __Note:__ You don't need to worry about error checking for this question, but you are welcome to perform some appropriate error checking."
   ]
  },
  {
   "cell_type": "code",
   "execution_count": 46,
   "metadata": {},
   "outputs": [],
   "source": [
    "def str_seg(s, k):\n",
    "    t = int(len(s)/k)\n",
    "    final = []\n",
    "    for i in range(t):\n",
    "        seg = (k*i, k*(i+1))\n",
    "        char_list = []\n",
    "        for j in range(seg[0], seg[1]):\n",
    "            if s[j] not in char_list:\n",
    "                char_list.append(s[j])\n",
    "        unit = ''\n",
    "        for char in char_list:\n",
    "            unit += char\n",
    "        final.append(unit)\n",
    "    return final"
   ]
  },
  {
   "cell_type": "code",
   "execution_count": 47,
   "metadata": {},
   "outputs": [
    {
     "name": "stdout",
     "output_type": "stream",
     "text": [
      "True\n",
      "True\n"
     ]
    }
   ],
   "source": [
    "print(str_seg('AABCAAADA', 3) == ['AB', 'CA', 'AD'])\n",
    "print(str_seg('AABCAABDAB', 5) == ['ABC', 'ABD'])"
   ]
  },
  {
   "cell_type": "markdown",
   "metadata": {},
   "source": [
    "2. __Simple Arithmetics:__ You are given multiple sequences of button presses of a simple pocket calculator that consist of digits and arithmetic operators. For each such sequence find the number it would produce on a pocket calculator's display. Note that the pocket calculator evaluates the operators in the order in which they are given. (i.e., there is no operator precedence.) Assume that the display of the calculator is large enough to show the result, and that its memory is sufficient to store all intermediate results. Write a function called __simple_arith__, which takes a string as its only argument, and returns the result as a float. In this problem, A string represents one sequence of button presses for a pocket calculator. The sequence consists of non-negative integers and arithmetic operators and ends with an equal sign. __It may also contain spaces to improve readability.__ The operator / represents integer division, rounded down. You may assume that no test case contains division by zero and that in all test cases all intermediate results are non-negative. __Hint:__ you may use eval() function. __Note:__ You don't need to worry about error checking for this question, but you are welcome to perform some appropriate error checking."
   ]
  },
  {
   "cell_type": "code",
   "execution_count": 70,
   "metadata": {},
   "outputs": [],
   "source": [
    "def simple_arith(eq):\n",
    "    start = 0; seg = ''\n",
    "    eq = eq.replace(\" \", \"\")\n",
    "    for i in range(len(eq)):\n",
    "        if eq[i] in '+-*/^=':\n",
    "            for j in range(start, i):\n",
    "                seg = seg + eq[j]\n",
    "            seg = str(eval(seg))\n",
    "            start = i\n",
    "    final = eval(seg)\n",
    "    return final"
   ]
  },
  {
   "cell_type": "code",
   "execution_count": 71,
   "metadata": {
    "scrolled": true
   },
   "outputs": [
    {
     "name": "stdout",
     "output_type": "stream",
     "text": [
      "True\n"
     ]
    }
   ],
   "source": [
    "print(simple_arith('1 + 1 * 2 =') == 4.0)"
   ]
  },
  {
   "cell_type": "markdown",
   "metadata": {},
   "source": [
    "### Problem 4: More Practice (15 points)"
   ]
  },
  {
   "cell_type": "markdown",
   "metadata": {},
   "source": [
    "1. You are given a string $s$. Suppose a character '$c$' occurs consecutively $x$ times in the string. Replace these consecutive occurrences of the character '$c$' with $(x,c)$ in the string and store into a list. Write a function called __comp_str__, which takes the string $s$ as its argument, and return the list containing the replacements. For example, the result of `comp_str('1222311')` is `[(1, 1), (3, 2), (1, 3), (2, 1)]`. Reason: First, the character '1' occurs only once, so it is replaced by (1,1). Then the character '2' occurs three times, and it is replaced by (3,2) and so on. __Hint:__ _itertools.groupby_ might be helpful in this question. __Note:__ You don't need to worry about error checking for this question, but you are welcome to perform some appropriate error checking."
   ]
  },
  {
   "cell_type": "code",
   "execution_count": 138,
   "metadata": {},
   "outputs": [],
   "source": [
    "def comp_str(s):\n",
    "    unique = []\n",
    "    group = []\n",
    "    for (u, g) in itertools.groupby(s):\n",
    "        unique.append(u)\n",
    "        group.append(list(g))\n",
    "    count = list(map(len, group))\n",
    "    num = list(map(int, unique))\n",
    "    final = []\n",
    "    for i in range(len(count)):\n",
    "        final.append((count[i], num[i]))\n",
    "    return final"
   ]
  },
  {
   "cell_type": "code",
   "execution_count": 139,
   "metadata": {},
   "outputs": [
    {
     "name": "stdout",
     "output_type": "stream",
     "text": [
      "True\n"
     ]
    }
   ],
   "source": [
    "print(comp_str('1222311') == [(1, 1), (3, 2), (1, 3), (2, 1)])"
   ]
  },
  {
   "cell_type": "markdown",
   "metadata": {},
   "source": [
    "2. __The Mirror of Galadriel:__ With water from the stream Galadriel filled the basin to the brim, and breathed on it, and when the water was still again she spoke. 'Here is the Mirror of Galadriel,' she said. 'I have brought you here so that you may look in it, if you will. For this is what your folk would call magic, I believe; though I do not understand clearly what they mean; and they seem also to use the same word of the deceits of the Enemy. But this, if you will, is the magic of Galadriel. Did you not say that you wished to see Elf-magic?' - Galadriel to Frodo and Sam, describing her Mirror. We call a string S magical if every substring of S appears in Galadriel's Mirror (under lateral inversion). In other words, a magical string is a string where every substring has its reverse in the string. Write a function __magical__, that takes a string S as its argument, determine if it is magical or not, and return the result: \"Yes\" is it is magical, or \"No\" if it is not magical. For example, magical('aba') is 'Yes'. Reason: the list of substrings are : a, b, ab, ba, aba. The reverse of each of these strings is present as a substring of S too. __Note:__ You don't need to worry about error checking for this question, but you are welcome to perform some appropriate error checking."
   ]
  },
  {
   "cell_type": "code",
   "execution_count": 13,
   "metadata": {},
   "outputs": [],
   "source": [
    "def magical(s):\n",
    "    # magical must at least be a palindrome\n",
    "    # and a palindrome already fulfills requirements for magical\n",
    "    # so this is basically a test for a palindrome\n",
    "    magic = 'Yes'\n",
    "    length = len(s)//2\n",
    "    for i in range(length):\n",
    "        if not s[i] == s[(i+1)*-1]:\n",
    "            magic = 'No'\n",
    "    return magic"
   ]
  },
  {
   "cell_type": "code",
   "execution_count": 14,
   "metadata": {},
   "outputs": [
    {
     "name": "stdout",
     "output_type": "stream",
     "text": [
      "True\n"
     ]
    }
   ],
   "source": [
    "print(magical('aba') == 'Yes')"
   ]
  },
  {
   "cell_type": "markdown",
   "metadata": {},
   "source": [
    "3. Everybody hates Raymond. He’s the largest stamp collector on planet earth and because of that he always makes fun of all the others at the stamp collector parties. Fortunately everybody loves Lucy, and she has a plan. She secretly asks her friends whether they could lend her some stamps, so that she can embarrass Raymond by showing an even larger collection than his. Raymond is so sure about his superiority that he always tells how many stamps he’ll show.And since Lucy knows how many she owns, she knows how many more she needs. She also knows how many friends would lend her some stamps and how many each would lend. But she’s like to borrow from as few friends as possible and if she needs too many then she’d rather not do it at all. Can you tell her the minimum number of friends she needs to borrow from?\n",
    "\n",
    " Write a function called __stamps__, which contains the following arguments: how many stamps Lucy needs to borrow and a list containing the number of stamps each of her friends id offering. This function should return the minimum number of friends Lucy needs to borrow stamps from. If it’s impossible even if she borrows everything from everybody, return \"Impossible!\" instead. __Note:__ You don't need to worry about error checking for this question, but you are welcome to perform some appropriate error checking."
   ]
  },
  {
   "cell_type": "code",
   "execution_count": 48,
   "metadata": {},
   "outputs": [],
   "source": [
    "def stamps(min_needed, stamp_list):\n",
    "    if sum(stamp_list) < min_needed:\n",
    "        return \"Impossible!\"\n",
    "    else:\n",
    "        current = 0; count = 0\n",
    "        while current < min_needed:\n",
    "            next_max = max(stamp_list)\n",
    "            current += next_max\n",
    "            stamp_list.remove(next_max)\n",
    "            count += 1\n",
    "        return count"
   ]
  },
  {
   "cell_type": "code",
   "execution_count": 49,
   "metadata": {},
   "outputs": [
    {
     "name": "stdout",
     "output_type": "stream",
     "text": [
      "True\n",
      "True\n"
     ]
    }
   ],
   "source": [
    "print(stamps(100, [13, 17, 42, 9, 23, 57]) == 3)\n",
    "print(stamps(10, [1, 2, 3]) == \"Impossible!\")"
   ]
  },
  {
   "cell_type": "markdown",
   "metadata": {},
   "source": [
    "4. You are given a grid with R rows (numbered 1 through R) and C columns (numbered 1 through C). A cell in row r and column c is denoted by (r, c). Two cells in the grid are adjacent if they have a common side. For each valid i and j, there is a value $a_{i, j}$ written in cell (i, j). A cell in the grid is stable if the number of cells in the grid which are adjacent to this cell is strictly greater than the value written in this cell. The whole grid is stable if all cells in the grid are stable.\n",
    "\n",
    " Define a function __is_stable__ that takes an r-by-c n numpy array (i.e., an ndarray) as its only argument and returns a Python Boolean that is True if and only if the argument is a stable array. Your function should perform appropriate error checking."
   ]
  },
  {
   "cell_type": "code",
   "execution_count": 74,
   "metadata": {},
   "outputs": [],
   "source": [
    "def is_stable(mat):\n",
    "    if type(mat) is not ndarray:\n",
    "        raise TypeError(\"Input should be numpy array\")\n",
    "    stable = True\n",
    "    (r, c) = mat.shape\n",
    "    if r == 1 or c == 1:\n",
    "        for i in range(r):\n",
    "            for j in range(c):\n",
    "                if type(mat[i, j]) is not float:\n",
    "                    raise ValueError(\"Array should only contain numbers\")\n",
    "                if (i, j) in [(0, 0), (r-1, c-1)]:\n",
    "                    if mat[i, j] >= 1:\n",
    "                        stable = False\n",
    "                else:\n",
    "                    if mat[i, j] >= 2:\n",
    "                        stable = False\n",
    "    else:\n",
    "        for i in range(r):\n",
    "            for j in range(c):\n",
    "                if type(mat[i, j]) is not float:\n",
    "                    raise ValueError(\"Array should only contain numbers\")\n",
    "                if (i, j) in [(0, 0), (0, c-1), (r-1, 0), (r-1, c-1)]:\n",
    "                    if mat[i, j] >= 3:\n",
    "                        stable = False\n",
    "                elif i in [0, r-1] or j in [0, c-1]:\n",
    "                    if mat[i, j] >= 5:\n",
    "                        stable = False\n",
    "                else:\n",
    "                    if mat[i, j] >= 8:\n",
    "                        stable = False\n",
    "    return stable"
   ]
  },
  {
   "cell_type": "code",
   "execution_count": 75,
   "metadata": {},
   "outputs": [
    {
     "name": "stdout",
     "output_type": "stream",
     "text": [
      "True\n",
      "True\n"
     ]
    }
   ],
   "source": [
    "array1 = np.array([1, 0, 0,\n",
    "                   0, 0, 0,\n",
    "                   0, 0, 0]).reshape(3, 3)\n",
    "array2 = np.array([3, 0, 0,\n",
    "                   0, 0, 0,\n",
    "                   0, 0, 0]).reshape(3, 3)\n",
    "\n",
    "\n",
    "print(is_stable(array1) is True)\n",
    "print(is_stable(array2) is False)"
   ]
  },
  {
   "cell_type": "markdown",
   "metadata": {},
   "source": [
    "5. The Fibonacci sequence $F_0,\\ F_1,\\cdots$ is a special infinite sequence of non-negative integers, where $F_0=0,\\ F_1=1$ and for each integer $n \\ge 2$, $F_n=F_{n−1}+F_{n−2}$. Consider the sequence $D$ of the last decimal digits of the first $N$ Fibonacci numbers, i.e. $D=(F_0\\%10,F_1\\%10,…,F_{N−1}\\%10)$. Now, you should perform the following process: \n",
    " - Let $D=(D_1,D_2,\\cdots,D_l)$.\n",
    " - If $l=1$, the process ends.\n",
    " - Create a new sequence $E=(D_2,D_4,…,D_{2⌊l/2⌋})$. In other words, $E$ is the sequence created by removing all odd-indexed elements from $D$. \n",
    " - Change $D$ to $E$. \n",
    " \n",
    " When this process terminates, the sequence $D$ contains only one number. You have to find this number. Define a function __find_D__ that takes a positive integer as its only argument and returns the only number in $D$. Your function should perform appropriate error checking. __Hints:__ Fibonacci's final digits cycle every 60 numbers."
   ]
  },
  {
   "cell_type": "code",
   "execution_count": 115,
   "metadata": {},
   "outputs": [],
   "source": [
    "def find_D(n):\n",
    "    if type(n) is not int:\n",
    "        raise TypeError(\"Input should be an integer\")\n",
    "    elif n <= 2:\n",
    "        raise ValueError(\"Input should be greater than 2\")\n",
    "    n = n % 60\n",
    "    fibo = [0, 1]\n",
    "    for i in range(2, n):\n",
    "        fibo.append(fibo[i-1] + fibo[i-2])\n",
    "    D = list(map(lambda x: x % 10, fibo))\n",
    "    while len(D) != 1:\n",
    "        E = []\n",
    "        for i in range(len(D)):\n",
    "            if i % 2 == 1:\n",
    "                E.append(D[i])\n",
    "        D = E\n",
    "    return D[0]"
   ]
  },
  {
   "cell_type": "code",
   "execution_count": 116,
   "metadata": {},
   "outputs": [
    {
     "name": "stdout",
     "output_type": "stream",
     "text": [
      "True\n",
      "True\n"
     ]
    }
   ],
   "source": [
    "print(find_D(5) == 2)\n",
    "print(find_D(10) == 3)"
   ]
  },
  {
   "cell_type": "markdown",
   "metadata": {},
   "source": [
    "6. You are given a function $f(X) = X^2$. You are also given $K$ lists. The $i$-th list consists of $N_i$ elements. You have to pick one element from each list so that the value from the equation below is maximized:\n",
    "$$S=\\left(f\\left(X_{1}\\right)+f\\left(X_{2}\\right)+\\ldots+f\\left(X_{k}\\right)\\right) \\% M$$\n",
    " $X_i$ denotes the element picked from the $i$-th list. Find the maximized value of $S$ obtained. \\% denotes the modulo operator.   Note that you need to take exactly one element from each list, not necessarily the largest element. You add the squares of the chosen elements and perform the modulo operation. The maximum value that you can obtain, will be the answer to the problem.\n",
    "\n",
    " Write a function called __max_mod__, which takes $K$, $M$ and $K$ lists as its arguments, and return the maximized value of $S$.\n",
    "\n",
    " For example, max_mod(3, 1000, [2,5,4], [3,7,8,9], [5,7,8,9,10]) is 206.  Reason: Picking 5 from the 1-st list, 9 from the 2-nd list and 10 from the 3-rd list gives the maximum S value equal to $\\left(5^{2}+9^{2}+10^{2}\\right) \\% 1000 = 206$. __Hint:__ _itertools.product_ might be helpful."
   ]
  },
  {
   "cell_type": "code",
   "execution_count": 93,
   "metadata": {},
   "outputs": [],
   "source": [
    "def max_mod(k, m, *args):\n",
    "    arg_list = []\n",
    "    for i in args:\n",
    "        temp = list(map(lambda x: x**2, i))\n",
    "        arg_list.append(temp)\n",
    "    every = itertools.product(*arg_list)\n",
    "    sq_list = []\n",
    "    for i in every:\n",
    "        temp = sum(i)\n",
    "        sq_list.append(temp)\n",
    "    final = list(map(lambda x: x % m, sq_list))\n",
    "    final = max(final)\n",
    "    return final"
   ]
  },
  {
   "cell_type": "code",
   "execution_count": 94,
   "metadata": {},
   "outputs": [
    {
     "name": "stdout",
     "output_type": "stream",
     "text": [
      "True\n"
     ]
    }
   ],
   "source": [
    "print(max_mod(3, 1000, [2, 5, 4], [3, 7, 8, 9], [5, 7, 8, 9, 10]) == 206)"
   ]
  },
  {
   "cell_type": "markdown",
   "metadata": {},
   "source": [
    "### Problem 5: Extra Credit (3 points)"
   ]
  },
  {
   "cell_type": "markdown",
   "metadata": {},
   "source": [
    "1. __Coin Flip Streaks:__ Suppose you flip a coin 100 times and write down an “H” for each heads and “T” for each tails, you’ll create a list that looks like “T T T T H H H H T T.” If you ask a human to make up 100 random coin flips, you’ll probably end up with alternating headtail results like “H T H T H H T H T T,” which looks random (to humans), but isn’t mathematically random. A human will almost never write down a streak of several heads or several tails in a row, even though it is highly likely to happen in truly random coin flips. Humans are predictably bad at being random.\n",
    "\n",
    " Write a function called __coin_streaks__, which takes a positive integer $n$ as its only argument. Your function should perform appropriate error checking. Your function breaks up the experiment into two parts: the first part generates a list of randomly selected 'heads' and 'tails' values, and the second part checks if there is a streak in it. Put all of this code in a loop that repeats the experiment 10,000 times so we can find out what percentage of the coin flips contains a streak of $n$ heads or $n$ tails in a row. Return this percentage. As a hint, the function call __random.randint(0, 1)__ will return a 0 value 50% of the time and a 1 value the other 50% of the time."
   ]
  },
  {
   "cell_type": "code",
   "execution_count": 26,
   "metadata": {},
   "outputs": [],
   "source": [
    "def coin_streaks():\n",
    "    pass"
   ]
  },
  {
   "cell_type": "code",
   "execution_count": 27,
   "metadata": {},
   "outputs": [],
   "source": [
    "# print((coin_streaks(6) >= 76) and (coin_streaks(6) <= 85))"
   ]
  },
  {
   "cell_type": "markdown",
   "metadata": {},
   "source": [
    "2. The only printer in the computer science students' union is experiencing an extremely heavy workload. Sometimes there are a hundred jobs in the printer queue and you may have to wait for hours to get a single page of output.\n",
    "\n",
    " Because some jobs are more important than others, the Hacker General has invented and implemented a simple priority system for the print job queue. Now, each job is assigned a priority between 1 and 9 (with 9 being the highest priority, and 1 being the lowest), The first position in the queue is number 0, the second is number 1, and so on. The printer operates as follows.\n",
    "\n",
    " - The first job J in queue is taken from the queue.\n",
    " - If there is some job in the queue with a higher priority than job J, then move J to the end of the queue without printing it.\n",
    " - Otherwise, print job J (and do not put it back in the queue).\n",
    "\n",
    " In this way, all those important muffin recipes that the Hacker General is printing get printed very quickly. Of course, those annoying term papers that others are printing may have to wait for quite some time to get printed, but that's life.\n",
    "\n",
    " Your problem with the new policy is that it has become quite tricky to determine when your print job will actually be completed. You decide to write a program to figure this out. The program will be given the current queue (as a list of priorities) as well as the position of your job in the queue, and must then calculate how long it will take until your job is printed, assuming that no additional jobs will be added to the queue. To simplify matters, we assume that printing a job always takes exactly one minute, and that adding and removing jobs from the queue is instantaneous.\n",
    "\n",
    " Write a function called __printer_queue__, which contains the following arguments: $m$ (the position of your job), a list containing integers in the range 1 to 9 giving the priorities of the jobs in the queue (The first integer gives the priority of the first job, the second integer the priority of the second job, and so on). This function should return a number , which is the number of minutes until your job is completely printed, assuming that no additional print jobs will arrive."
   ]
  },
  {
   "cell_type": "code",
   "execution_count": 28,
   "metadata": {},
   "outputs": [],
   "source": [
    "def printer_queue():\n",
    "    pass"
   ]
  },
  {
   "cell_type": "code",
   "execution_count": 29,
   "metadata": {},
   "outputs": [],
   "source": [
    "# print(printer_queue(2, [1, 2, 3, 4]) == 2)"
   ]
  },
  {
   "cell_type": "markdown",
   "metadata": {},
   "source": [
    "3. Johnny has some difficulty memorizing the small prime numbers. So, his computer science teacher has asked him to play with the following puzzle game frequently. The puzzle is a 3x3 board consisting of numbers from 1 to 9. The objective of the puzzle is to swap the tiles until the following final state is reached:\n",
    "\n",
    " 1 2 3\n",
    "\n",
    " 4 5 6\n",
    "\n",
    " 7 8 9\n",
    "\n",
    " At each step, Johnny may swap two adjacent tiles if their sum is a prime number. Two tiles are considered adjacent if they have a common edge. Help Johnny to figure out whether the given 3-by-3 board can reach the goal state or not. Define a function __solve_puzzle__ that takes an 3-by-3 numpy array (i.e., an ndarray) as its only argument and returns Python Boolean that is True if and only if the given 3-by-3 board can reach the goal state. __Hint:__ You can start from the goal state, walk through all the possible states and save them into a global variable. You function just need to judge if the given state is inside the possible states or not."
   ]
  },
  {
   "cell_type": "code",
   "execution_count": 30,
   "metadata": {},
   "outputs": [],
   "source": [
    "def solve_puzzle():\n",
    "    pass"
   ]
  },
  {
   "cell_type": "code",
   "execution_count": 31,
   "metadata": {},
   "outputs": [],
   "source": [
    "# print(solve_puzzle(np.array([[1, 2, 9], [5, 6, 4], [7, 3, 8]])) is True)\n",
    "# print(solve_puzzle(np.array([[9, 8, 5], [2, 4, 1], [3, 7, 6]])) is False)"
   ]
  }
 ],
 "metadata": {
  "kernelspec": {
   "display_name": "Python 3",
   "language": "python",
   "name": "python3"
  },
  "language_info": {
   "codemirror_mode": {
    "name": "ipython",
    "version": 3
   },
   "file_extension": ".py",
   "mimetype": "text/x-python",
   "name": "python",
   "nbconvert_exporter": "python",
   "pygments_lexer": "ipython3",
   "version": "3.7.6"
  }
 },
 "nbformat": 4,
 "nbformat_minor": 2
}
