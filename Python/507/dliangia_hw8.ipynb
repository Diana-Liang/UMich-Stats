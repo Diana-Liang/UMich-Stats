{
 "cells": [
  {
   "cell_type": "markdown",
   "metadata": {},
   "source": [
    "# Homework 8: Regexes and Structured Data (35 points)\n",
    "name: Diana Liang\n",
    "\n",
    "email: dliangia@umich.edu\n",
    "\n",
    "I did not discuss this homework with anyone. \n",
    "\n",
    "Even if you discuss questions with other, the code you submit must be only yours. All work is checked with the [MOSS plagiarism detector](https://theory.stanford.edu/~aiken/moss/).)\n",
    "\n",
    "This homework assignment took me 7 hours in total to complete. (Please help us to gauge the difficulty of the assignment.)\n",
    "\n",
    "### Submission Instructions\n",
    "Your homework solutions should be written entirely in this Jupyter notebook file. Once it contains your solutions, you should submit this notebook through Canvas. Before submitting, please make sure make sure __Cells->Run__ executes without errors; errors in your code cause problems for our auto-grader. Thus, even though we may ask you to check for errors in your functions, you should not include in your submission any examples of your functions actually raising those errors.\n",
    "\n",
    "### Coding style\n",
    "Please follow the [PEP8 guidelines](https://www.python.org/dev/peps/pep-0008/). The `pycodestyle_magic` package will remind you if you are not. To install it, run\n",
    "```\n",
    "pip install flake8 pycodestyle_magic\n",
    "```\n",
    "Once it is installed the following two Jupyter directives will enable syntax checking:"
   ]
  },
  {
   "cell_type": "code",
   "execution_count": null,
   "metadata": {},
   "outputs": [],
   "source": [
    "%load_ext pycodestyle_magic\n",
    "%pycodestyle_on"
   ]
  },
  {
   "cell_type": "code",
   "execution_count": 8,
   "metadata": {},
   "outputs": [],
   "source": [
    "from urllib import request\n",
    "from os import path\n",
    "from zipfile import ZipFile\n",
    "\n",
    "url = \"https://regier.stat.lsa.umich.edu/stats507/\"\n",
    "fn = \"hw8data.zip\"\n",
    "if not path.exists(fn):\n",
    "    data = request.urlopen(url + fn).read()\n",
    "    with open(fn, 'wb') as fhand:\n",
    "        fhand.write(data)\n",
    "    with ZipFile(fn, 'r') as zipObj:\n",
    "        zipObj.extractall()"
   ]
  },
  {
   "cell_type": "markdown",
   "metadata": {},
   "source": [
    "## 1 Regular Expressions: Warmup (8 points)"
   ]
  },
  {
   "cell_type": "markdown",
   "metadata": {},
   "source": [
    "In this problem, you'll get practice with basic regular expressions. Pay particular attention to edge cases such as the empty string\n",
    "and single-character strings when writing your regexes. At the URL http://www.greenteapress.com/thinkpython/code/words.txt is a list of about 100,000 English words."
   ]
  },
  {
   "cell_type": "markdown",
   "metadata": {},
   "source": [
    "1. Use __urllib__ to open the URL and read the file, and produce a list of ASCII strings so that each line of the file corresponds to an element of the list. You will likely need to convert the raw bytes read from the webpage to ASCII characters, for which you should see the documentation for the string methods __encode__ and __decode__. How many words are in the file?"
   ]
  },
  {
   "cell_type": "code",
   "execution_count": 9,
   "metadata": {},
   "outputs": [],
   "source": [
    "word_file = request.urlopen(\"http://www.greenteapress.com/thinkpython/code/words.txt\").read()\n",
    "num_words = 0\n",
    "word_list = []\n",
    "wd = []\n",
    "for line in word_file:\n",
    "    if line != 10 and line != 13:\n",
    "        wd.append(chr(line))\n",
    "    elif line == 13:\n",
    "        word = ''\n",
    "        for i in range(len(wd)):\n",
    "            word = word + wd[i]\n",
    "        word_list.append(word)\n",
    "        num_words += 1\n",
    "        wd = []"
   ]
  },
  {
   "cell_type": "code",
   "execution_count": 11,
   "metadata": {},
   "outputs": [
    {
     "data": {
      "text/plain": [
       "113809"
      ]
     },
     "execution_count": 11,
     "metadata": {},
     "output_type": "execute_result"
    }
   ],
   "source": [
    "num_words"
   ]
  },
  {
   "cell_type": "markdown",
   "metadata": {},
   "source": [
    "2. It is a good habit to always look at your data to check that it makes sense. Have a look at the words in the list. Does anything jump out at you? __Note:__ I am not requiring you to do anything specific, here. Just look at the data!"
   ]
  },
  {
   "cell_type": "code",
   "execution_count": 24,
   "metadata": {},
   "outputs": [],
   "source": [
    "for word in word_list:\n",
    "    if re.match(r'^[abcdefghijklmnopqrstuvwxyz]+$', word) is None:\n",
    "        print(word)"
   ]
  },
  {
   "cell_type": "markdown",
   "metadata": {},
   "source": [
    "All of the words only contain lower case alphabetic letters."
   ]
  },
  {
   "cell_type": "markdown",
   "metadata": {},
   "source": [
    "3. Write a regular expression that matches any string containing exactly three consecutive vowels. Compile this regular expression, and assign it to a variable called `three_consecutive_vowels`. Use this regex to determine how many words from the list contain exactly three consecutive vowels. For the purposes of this __specific__ subproblem, the vowels are __a, e, i, o, u__. All other letters are consonants. Produce a list of all such words."
   ]
  },
  {
   "cell_type": "code",
   "execution_count": 5,
   "metadata": {},
   "outputs": [],
   "source": [
    "import re"
   ]
  },
  {
   "cell_type": "code",
   "execution_count": 71,
   "metadata": {
    "scrolled": true
   },
   "outputs": [],
   "source": [
    "three_consecutive_vowels = re.compile(r'^[aeiou]{3}$')"
   ]
  },
  {
   "cell_type": "code",
   "execution_count": 72,
   "metadata": {},
   "outputs": [
    {
     "name": "stdout",
     "output_type": "stream",
     "text": [
      "True\n",
      "True\n"
     ]
    }
   ],
   "source": [
    "print(three_consecutive_vowels.match(\"aei\").group(0) == 'aei')\n",
    "print(three_consecutive_vowels.match(\"uiuu\") is None)"
   ]
  },
  {
   "cell_type": "markdown",
   "metadata": {},
   "source": [
    "4. Write a regular expression that matches any string that contains no instances of the letter e. Compile this regular expression, and assign it to a variable called `gadsby`. (__Gadsby__ is the title of an English novel written in the 1930s that contains __almost__ no instances of the letter e). How many words in the list do not contain the letter e?"
   ]
  },
  {
   "cell_type": "code",
   "execution_count": 69,
   "metadata": {},
   "outputs": [],
   "source": [
    "gadsby = re.compile(r'^[^e]+$')"
   ]
  },
  {
   "cell_type": "code",
   "execution_count": 70,
   "metadata": {},
   "outputs": [
    {
     "name": "stdout",
     "output_type": "stream",
     "text": [
      "True\n",
      "True\n"
     ]
    }
   ],
   "source": [
    "print(gadsby.match(\"stats\").group(0) == 'stats')\n",
    "print(gadsby.match(\"state\") is None)"
   ]
  },
  {
   "cell_type": "markdown",
   "metadata": {},
   "source": [
    "5. Write a regular expression that matches any string that begins and ends with a consonant and has no consonants in between. For the purposes of this __specific__ subproblem, y is neither consonant nor vowel,so consonants are the 20 letters that are not one of __a, e, i, o, u, y__ and vowels are __a, e, i, o, u__. The words need not begin and end with the _same_ consonant, so _door_ is a valid match. Compile this regular expression, and assign it to a variable called `consonant_consonant`. How many words begin and end with a consonant with no consonants in between?"
   ]
  },
  {
   "cell_type": "code",
   "execution_count": 4,
   "metadata": {},
   "outputs": [],
   "source": [
    "consonant_consonant = re.compile(r'^[^aeiouy][aeiou]+[^aeiouy]$')"
   ]
  },
  {
   "cell_type": "code",
   "execution_count": 5,
   "metadata": {},
   "outputs": [
    {
     "name": "stdout",
     "output_type": "stream",
     "text": [
      "True\n",
      "True\n"
     ]
    }
   ],
   "source": [
    "print(consonant_consonant.match(\"door\").group(0) == 'door')\n",
    "print(consonant_consonant.match(\"stats\") is None)"
   ]
  },
  {
   "cell_type": "markdown",
   "metadata": {},
   "source": [
    "6. Write a regular expression that matches any string whose last two characters are the first two characters in reverse order. So, for example, your regex should match _repeater_ and _stats_, but not _neoprene_. Compile this regular expression and assign it to a variable called `bookends`. How many words in the list have this property?\n",
    "__Hint:__ Be careful of the cases in which the word is length less or equal to 3. You may handle the case of a single character (e.g., _a_), as you like, but please give an explanation for your choice."
   ]
  },
  {
   "cell_type": "code",
   "execution_count": 81,
   "metadata": {
    "scrolled": true
   },
   "outputs": [],
   "source": [
    "bookends = re.compile(r'^(.)(.)(.)*\\2\\1$')"
   ]
  },
  {
   "cell_type": "code",
   "execution_count": 82,
   "metadata": {},
   "outputs": [
    {
     "name": "stdout",
     "output_type": "stream",
     "text": [
      "True\n",
      "True\n"
     ]
    }
   ],
   "source": [
    "print(bookends.match(\"repeater\").group(0) == 'repeater')\n",
    "print(bookends.match(\"neoprene\") is None)"
   ]
  },
  {
   "cell_type": "markdown",
   "metadata": {},
   "source": [
    "## 2 Exploring Internet Traffic with Regexes (7 points)"
   ]
  },
  {
   "cell_type": "markdown",
   "metadata": {},
   "source": [
    "In this problem, you'll get a taste of a more realistic application of regular expressions. The file __SkypeIRC.txt__ contains data generated by web traffic associated with Skype and IRC, captured using the Wireshark program, a common tool for analyzing web traffic. The original data file can be found on the Wireshark wiki, https://wiki.wireshark.org/SampleCaptures, but please use the file provided on my website for this assignment."
   ]
  },
  {
   "cell_type": "markdown",
   "metadata": {},
   "source": [
    "1. Each line of `SkypeIRC.txt` corresponds to a single packet sent over the internet. How many packets are in this file? Save the answer in a variable `n_packets`. __Note:__ if you decide to download the file, don't forget to include a copy of it in your submission so that we can run your code."
   ]
  },
  {
   "cell_type": "code",
   "execution_count": 137,
   "metadata": {},
   "outputs": [],
   "source": [
    "text = open('SkypeIRC.txt', 'r')"
   ]
  },
  {
   "cell_type": "code",
   "execution_count": 138,
   "metadata": {},
   "outputs": [],
   "source": [
    "packets = []\n",
    "for line in text:\n",
    "    packets.append(line)"
   ]
  },
  {
   "cell_type": "code",
   "execution_count": 139,
   "metadata": {},
   "outputs": [],
   "source": [
    "text.close()"
   ]
  },
  {
   "cell_type": "code",
   "execution_count": 14,
   "metadata": {},
   "outputs": [],
   "source": [
    "n_packets = len(packets)"
   ]
  },
  {
   "cell_type": "code",
   "execution_count": 64,
   "metadata": {},
   "outputs": [
    {
     "data": {
      "text/plain": [
       "2262"
      ]
     },
     "execution_count": 64,
     "metadata": {},
     "output_type": "execute_result"
    }
   ],
   "source": [
    "n_packets"
   ]
  },
  {
   "cell_type": "markdown",
   "metadata": {},
   "source": [
    "2. Use regular expressions to extract all the IP addresses from the file and collect them in a Python list. An IP address consists of four numbers, which are displayed as __A.B.C.D__ where __A,B,C__ and D are each numbers between 0 and 255 inclusive. How many unique IP addresses appear in the data set? Save the answer in a variable `ip_addresses`. __Note:__ There are a few pieces of text in the file that _look_ like IP addresses but aren't (e.g., they are of the form A.B.C.D, but one or more of A, B, C and D are outside the range 0 to 255). You should try to craft a regex that matches as few of these as you can, but of course it will not be possible to avoid certain edge cases."
   ]
  },
  {
   "cell_type": "code",
   "execution_count": 55,
   "metadata": {},
   "outputs": [],
   "source": [
    "all_ip = []\n",
    "for each in packets:\n",
    "    x = re.findall(r'[12]?[0-9]?[0-9][.][12]?[0-9]?[0-9][.][12]?[0-9]?[0-9][.][12]?[0-9]?[0-9]', each)\n",
    "    for match in x:\n",
    "        all_ip.append(match)"
   ]
  },
  {
   "cell_type": "code",
   "execution_count": 56,
   "metadata": {},
   "outputs": [],
   "source": [
    "ip_addresses = all_ip"
   ]
  },
  {
   "cell_type": "markdown",
   "metadata": {},
   "source": [
    "3. Write a function called `get_packets_by_regex` that takes a single raw string as its argument and returns a list of all the lines from the input file that match the input raw string as a regular expression. So, for example, `get_packets_by_regex(r'comcast')` will return all lines from the file containing the string _'comcast'_. Your function should perform appropriate error checking to ensure that the input is a string, but you do not need to check that it is a raw string."
   ]
  },
  {
   "cell_type": "code",
   "execution_count": 140,
   "metadata": {},
   "outputs": [],
   "source": [
    "def get_packets_by_regex(regex):\n",
    "    if type(regex) is not str:\n",
    "        raise TypeError(\"Input must be string\")\n",
    "    lines = []\n",
    "    for each in packets:\n",
    "        if re.search(regex, each) is not None:\n",
    "            lines.append(each)\n",
    "    return lines"
   ]
  },
  {
   "cell_type": "code",
   "execution_count": 141,
   "metadata": {},
   "outputs": [
    {
     "data": {
      "text/plain": [
       "True"
      ]
     },
     "execution_count": 141,
     "metadata": {},
     "output_type": "execute_result"
    }
   ],
   "source": [
    "len(get_packets_by_regex(r'114.214.204.212')) == 2"
   ]
  },
  {
   "cell_type": "markdown",
   "metadata": {},
   "source": [
    "4. The second piece of text (i.e., non-whitespace) on each line is a time stamp, counting the time (in seconds) since the beginning of the traffic recording. Using _matplotlib_, create a plot displaying how many packets appeared in each second of the recording. A histogram or line plot is the most obvious way to do this, but you should feel free to use a more creative way of displaying this information if you wish to do so. Save your plot as a PDF, in a file called _timestamps.pdf_. This file does not need to be including in your submission. __Note:__ in case it wasn't obvious, there is no need to use a regular expression for this subproblem if you do not want to."
   ]
  },
  {
   "cell_type": "code",
   "execution_count": 6,
   "metadata": {},
   "outputs": [
    {
     "data": {
      "text/plain": [
       "2263"
      ]
     },
     "execution_count": 6,
     "metadata": {},
     "output_type": "execute_result"
    }
   ],
   "source": [
    "time_stamp = []\n",
    "for each in packets:\n",
    "    x = re.findall(r'[0-9]?[0-9]?[0-9]?[.][0-9]+', each)\n",
    "    time_stamp.append(float(x[0]))\n",
    "len(time_stamp)"
   ]
  },
  {
   "cell_type": "code",
   "execution_count": 10,
   "metadata": {},
   "outputs": [],
   "source": [
    "x = list(range(1, int(max(time_stamp)//1)+1))\n",
    "y = []\n",
    "maxim = 1\n",
    "num = 0\n",
    "for time in time_stamp:\n",
    "    if time < maxim:\n",
    "        num += 1\n",
    "    else:\n",
    "        y.append(num)\n",
    "        maxim += 1\n",
    "        num = 1"
   ]
  },
  {
   "cell_type": "code",
   "execution_count": 14,
   "metadata": {},
   "outputs": [],
   "source": [
    "import matplotlib as mpl\n",
    "import matplotlib.pyplot as plt\n",
    "%matplotlib inline"
   ]
  },
  {
   "cell_type": "code",
   "execution_count": 24,
   "metadata": {},
   "outputs": [
    {
     "data": {
      "image/png": "[encoded data removed]",
      "text/plain": [
       "<Figure size 432x288 with 1 Axes>"
      ]
     },
     "metadata": {
      "needs_background": "light"
     },
     "output_type": "display_data"
    }
   ],
   "source": [
    "plt.title(\"Number of Packets per Second of Recording\")\n",
    "plt.xlabel(\"Seconds\")\n",
    "plt.ylabel(\"Packets\")\n",
    "plt.plot(x, y)\n",
    "plt.savefig(\"timestamps.pdf\")"
   ]
  },
  {
   "cell_type": "markdown",
   "metadata": {},
   "source": [
    "## 3 Retrieving Data from the Web (10 points)\n",
    "In this problem, we'll scrape data from Wikipedia using __BeautifulSoup__. Documentation for BeauitfulSoup can be found at https://www.crummy.com/software/BeautifulSoup/bs4/doc/. As mentioned in lecture, there is another package, called __requests__, which is becoming quite popular, which you are welcome to use for this problem instead, if you wish. Documentation for the \\detok{requests} package can be found at http://docs.python-requests.org/en/master/.\n",
    "\n",
    "Suppose you are trying to choose a city to vacation in. A major factor in your decision is weather. Conveniently, lots of weather information is present in the Wikipedia articles for most world cities. Your job in this problem is to use __BeautifulSoup__ to retrieve weather information from Wikipedia articles. We should note that in practice, such information is typically more easily obtained from, for example, the National Oceanic and Atmospheric Administration (NOAA), in the case of cities in the United States, and from analogous organizations in other countries."
   ]
  },
  {
   "cell_type": "markdown",
   "metadata": {},
   "source": [
    "1. Look at a few Wikipedia pages corresponding to cities. For example:\n",
    " - https://en.wikipedia.org/wiki/Ann_Arbor,_Michigan\n",
    " - https://en.wikipedia.org/wiki/Buenos_Aires\n",
    " - https://en.wikipedia.org/wiki/Harbin\n",
    "\n",
    " Note that most city pages include a table titled something like \"Climate data for [Cityname] (normals YYYY-YYYY, extremes YYYY-YYYY)\". Find a Wikipedia page for a city that includes such a table (such as one of the three above). In your jupyter notebook, open the URL and read the HTML using either __urllib__ or __requests__, and parse it with __BeautifulSoup__ using the standard parser, __html.parser__. Have a look at the parsed HTML and find the climate data table, which will have the tag __table__ and will contain a child tag __th__ containing a string similar to\n",
    "\n",
    " Climate data for [Cityname] (normals YYYY-YYYY, extremes YYYY-YYYY)}.\n",
    "\n",
    " Find the node in the __BeautifulSoup__ object corresponding to this table. Describe the structure of this node of the tree (e.g., how many children does the table have, what are their tags, etc. A sentence or two is fine, here). You may want to learn a bit about the structure of HTML tables by looking at the resources available on these websites:\n",
    " - https://developer.mozilla.org/en-US/docs/Web/HTML/Element/table\n",
    " - https://www.w3schools.com/html/html_tables.asp\n",
    " - https://www.w3.org/TR/html401/struct/tables.html"
   ]
  },
  {
   "cell_type": "code",
   "execution_count": 1,
   "metadata": {},
   "outputs": [],
   "source": [
    "import urllib.request\n",
    "import re\n",
    "from bs4 import BeautifulSoup"
   ]
  },
  {
   "cell_type": "code",
   "execution_count": 11,
   "metadata": {},
   "outputs": [],
   "source": [
    "city = urllib.request.urlopen('https://en.wikipedia.org/wiki/Ann_Arbor,_Michigan')\n",
    "city = BeautifulSoup(city, 'html.parser')"
   ]
  },
  {
   "cell_type": "code",
   "execution_count": 40,
   "metadata": {},
   "outputs": [
    {
     "data": {
      "text/plain": [
       "2"
      ]
     },
     "execution_count": 40,
     "metadata": {},
     "output_type": "execute_result"
    }
   ],
   "source": [
    "city.find_all('table')[4].find_all('th')"
   ]
  },
  {
   "cell_type": "code",
   "execution_count": 133,
   "metadata": {},
   "outputs": [
    {
     "data": {
      "text/plain": [
       "<table class=\"wikitable collapsible\" style=\"width:auto; text-align:center; line-height: 1.2em; margin:auto;\">\n",
       "<tbody><tr>\n",
       "<th colspan=\"14\">Climate data for Ann Arbor, Michigan (UMich, 1981–2010)\n",
       "</th></tr>\n",
       "<tr>\n",
       "<th scope=\"row\">Month\n",
       "</th>\n",
       "<th scope=\"col\">Jan\n",
       "</th>\n",
       "<th scope=\"col\">Feb\n",
       "</th>\n",
       "<th scope=\"col\">Mar\n",
       "</th>\n",
       "<th scope=\"col\">Apr\n",
       "</th>\n",
       "<th scope=\"col\">May\n",
       "</th>\n",
       "<th scope=\"col\">Jun\n",
       "</th>\n",
       "<th scope=\"col\">Jul\n",
       "</th>\n",
       "<th scope=\"col\">Aug\n",
       "</th>\n",
       "<th scope=\"col\">Sep\n",
       "</th>\n",
       "<th scope=\"col\">Oct\n",
       "</th>\n",
       "<th scope=\"col\">Nov\n",
       "</th>\n",
       "<th scope=\"col\">Dec\n",
       "</th>\n",
       "<th scope=\"col\" style=\"border-left-width:medium\">Year\n",
       "</th></tr>\n",
       "<tr style=\"text-align: center;\">\n",
       "<th scope=\"row\" style=\"height: 16px;\">Record high °F (°C)\n",
       "</th>\n",
       "<td style=\"background: #FF860D; color:#000000;\">72<br/>(22)\n",
       "</td>\n",
       "<td style=\"background: #FF9B37; color:#000000;\">67<br/>(19)\n",
       "</td>\n",
       "<td style=\"background: #FF5600; color:#000000;\">85<br/>(29)\n",
       "</td>\n",
       "<td style=\"background: #FF4800; color:#000000;\">88<br/>(31)\n",
       "</td>\n",
       "<td style=\"background: #FF2C00; color:#000000;\">95<br/>(35)\n",
       "</td>\n",
       "<td style=\"background: #FF1100; color:#FFFFFF;\">103<br/>(39)\n",
       "</td>\n",
       "<td style=\"background: #FF0300; color:#FFFFFF;\">105<br/>(41)\n",
       "</td>\n",
       "<td style=\"background: #FF0A00; color:#FFFFFF;\">104<br/>(40)\n",
       "</td>\n",
       "<td style=\"background: #FF1F00; color:#000000;\">99<br/>(37)\n",
       "</td>\n",
       "<td style=\"background: #FF3A00; color:#000000;\">91<br/>(33)\n",
       "</td>\n",
       "<td style=\"background: #FF6A00; color:#000000;\">78<br/>(26)\n",
       "</td>\n",
       "<td style=\"background: #FF9B37; color:#000000;\">67<br/>(19)\n",
       "</td>\n",
       "<td style=\"background: #FF0300; color:#FFFFFF; border-left-width:medium\">105<br/>(41)\n",
       "</td></tr>\n",
       "<tr style=\"text-align: center;\">\n",
       "<th scope=\"row\" style=\"height: 16px;\">Average high °F (°C)\n",
       "</th>\n",
       "<td style=\"background: #E4E4FF; color:#000000;\">31.2<br/>(−0.4)\n",
       "</td>\n",
       "<td style=\"background: #EFEFFF; color:#000000;\">34.9<br/>(1.6)\n",
       "</td>\n",
       "<td style=\"background: #FFE8D2; color:#000000;\">45.9<br/>(7.7)\n",
       "</td>\n",
       "<td style=\"background: #FFB46A; color:#000000;\">59.6<br/>(15.3)\n",
       "</td>\n",
       "<td style=\"background: #FF8A16; color:#000000;\">70.6<br/>(21.4)\n",
       "</td>\n",
       "<td style=\"background: #FF6700; color:#000000;\">79.7<br/>(26.5)\n",
       "</td>\n",
       "<td style=\"background: #FF5A00; color:#000000;\">83.2<br/>(28.4)\n",
       "</td>\n",
       "<td style=\"background: #FF6100; color:#000000;\">81.2<br/>(27.3)\n",
       "</td>\n",
       "<td style=\"background: #FF7C00; color:#000000;\">74.2<br/>(23.4)\n",
       "</td>\n",
       "<td style=\"background: #FFAD5C; color:#000000;\">61.4<br/>(16.3)\n",
       "</td>\n",
       "<td style=\"background: #FFE1C3; color:#000000;\">47.9<br/>(8.8)\n",
       "</td>\n",
       "<td style=\"background: #EFEFFF; color:#000000;\">34.9<br/>(1.6)\n",
       "</td>\n",
       "<td style=\"background: #FFB76F; color:#000000; border-left-width:medium\">58.8<br/>(14.9)\n",
       "</td></tr>\n",
       "<tr style=\"text-align: center;\">\n",
       "<th scope=\"row\" style=\"height: 16px;\">Daily mean °F (°C)\n",
       "</th>\n",
       "<td style=\"background: #D0D0FF; color:#000000;\">24.7<br/>(−4.1)\n",
       "</td>\n",
       "<td style=\"background: #D9D9FF; color:#000000;\">27.6<br/>(−2.4)\n",
       "</td>\n",
       "<td style=\"background: #F4F4FF; color:#000000;\">36.7<br/>(2.6)\n",
       "</td>\n",
       "<td style=\"background: #FFDDBB; color:#000000;\">49.0<br/>(9.4)\n",
       "</td>\n",
       "<td style=\"background: #FFB46A; color:#000000;\">59.6<br/>(15.3)\n",
       "</td>\n",
       "<td style=\"background: #FF9022; color:#000000;\">68.9<br/>(20.5)\n",
       "</td>\n",
       "<td style=\"background: #FF8205; color:#000000;\">72.7<br/>(22.6)\n",
       "</td>\n",
       "<td style=\"background: #FF8710; color:#000000;\">71.2<br/>(21.8)\n",
       "</td>\n",
       "<td style=\"background: #FFA449; color:#000000;\">63.9<br/>(17.7)\n",
       "</td>\n",
       "<td style=\"background: #FFD0A2; color:#000000;\">52.1<br/>(11.2)\n",
       "</td>\n",
       "<td style=\"background: #FFFCFA; color:#000000;\">40.6<br/>(4.8)\n",
       "</td>\n",
       "<td style=\"background: #DDDDFF; color:#000000;\">29.0<br/>(−1.7)\n",
       "</td>\n",
       "<td style=\"background: #FFDAB5; color:#000000; border-left-width:medium\">49.7<br/>(9.8)\n",
       "</td></tr>\n",
       "<tr style=\"text-align: center;\">\n",
       "<th scope=\"row\" style=\"height: 16px;\">Average low °F (°C)\n",
       "</th>\n",
       "<td style=\"background: #BCBCFF; color:#000000;\">17.9<br/>(−7.8)\n",
       "</td>\n",
       "<td style=\"background: #C2C2FF; color:#000000;\">19.9<br/>(−6.7)\n",
       "</td>\n",
       "<td style=\"background: #D8D8FF; color:#000000;\">27.2<br/>(−2.7)\n",
       "</td>\n",
       "<td style=\"background: #F8F8FF; color:#000000;\">38.0<br/>(3.3)\n",
       "</td>\n",
       "<td style=\"background: #FFDFC0; color:#000000;\">48.2<br/>(9.0)\n",
       "</td>\n",
       "<td style=\"background: #FFBA76; color:#000000;\">57.9<br/>(14.4)\n",
       "</td>\n",
       "<td style=\"background: #FFAA56; color:#000000;\">62.1<br/>(16.7)\n",
       "</td>\n",
       "<td style=\"background: #FFAF5F; color:#000000;\">61.0<br/>(16.1)\n",
       "</td>\n",
       "<td style=\"background: #FFCC99; color:#000000;\">53.4<br/>(11.9)\n",
       "</td>\n",
       "<td style=\"background: #FFF6ED; color:#000000;\">42.4<br/>(5.8)\n",
       "</td>\n",
       "<td style=\"background: #E9E9FF; color:#000000;\">33.0<br/>(0.6)\n",
       "</td>\n",
       "<td style=\"background: #CBCBFF; color:#000000;\">23.0<br/>(−5.0)\n",
       "</td>\n",
       "<td style=\"background: #FFFDFC; color:#000000; border-left-width:medium\">40.4<br/>(4.7)\n",
       "</td></tr>\n",
       "<tr style=\"text-align: center;\">\n",
       "<th scope=\"row\" style=\"height: 16px;\">Record low °F (°C)\n",
       "</th>\n",
       "<td style=\"background: #4444FF; color:#FFFFFF;\">−22<br/>(−30)\n",
       "</td>\n",
       "<td style=\"background: #3F3FFF; color:#FFFFFF;\">−23<br/>(−31)\n",
       "</td>\n",
       "<td style=\"background: #6F6FFF; color:#000000;\">−8<br/>(−22)\n",
       "</td>\n",
       "<td style=\"background: #9B9BFF; color:#000000;\">7<br/>(−14)\n",
       "</td>\n",
       "<td style=\"background: #C0C0FF; color:#000000;\">20<br/>(−7)\n",
       "</td>\n",
       "<td style=\"background: #F1F1FF; color:#000000;\">35<br/>(2)\n",
       "</td>\n",
       "<td style=\"background: #F6F6FF; color:#000000;\">37<br/>(3)\n",
       "</td>\n",
       "<td style=\"background: #FCFCFF; color:#000000;\">39<br/>(4)\n",
       "</td>\n",
       "<td style=\"background: #D6D6FF; color:#000000;\">27<br/>(−3)\n",
       "</td>\n",
       "<td style=\"background: #C0C0FF; color:#000000;\">19<br/>(−7)\n",
       "</td>\n",
       "<td style=\"background: #8A8AFF; color:#000000;\">1<br/>(−17)\n",
       "</td>\n",
       "<td style=\"background: #4A4AFF; color:#FFFFFF;\">−20<br/>(−29)\n",
       "</td>\n",
       "<td style=\"background: #3F3FFF; color:#FFFFFF; border-left-width:medium\">−23<br/>(−31)\n",
       "</td></tr>\n",
       "<tr style=\"text-align: center;\">\n",
       "<th scope=\"row\" style=\"height: 16px;\">Average <a href=\"/wiki/Precipitation\" title=\"Precipitation\">precipitation</a> inches (mm)\n",
       "</th>\n",
       "<td style=\"background: #9CFF9C; color:#000000;\">2.59<br/>(66)\n",
       "</td>\n",
       "<td style=\"background: #9BFF9B; color:#000000;\">2.40<br/>(61)\n",
       "</td>\n",
       "<td style=\"background: #99FF99; color:#000000;\">2.66<br/>(68)\n",
       "</td>\n",
       "<td style=\"background: #7FFF7F; color:#000000;\">3.25<br/>(83)\n",
       "</td>\n",
       "<td style=\"background: #7DFF7D; color:#000000;\">3.42<br/>(87)\n",
       "</td>\n",
       "<td style=\"background: #6FFF6F; color:#000000;\">3.68<br/>(93)\n",
       "</td>\n",
       "<td style=\"background: #75FF75; color:#000000;\">3.61<br/>(92)\n",
       "</td>\n",
       "<td style=\"background: #72FF72; color:#000000;\">3.69<br/>(94)\n",
       "</td>\n",
       "<td style=\"background: #77FF77; color:#000000;\">3.45<br/>(88)\n",
       "</td>\n",
       "<td style=\"background: #93FF93; color:#000000;\">2.83<br/>(72)\n",
       "</td>\n",
       "<td style=\"background: #86FF86; color:#000000;\">3.09<br/>(78)\n",
       "</td>\n",
       "<td style=\"background: #92FF92; color:#000000;\">2.89<br/>(73)\n",
       "</td>\n",
       "<td style=\"background: #86FF86; color:#000000; border-left-width:medium\">37.55<br/>(954)\n",
       "</td></tr>\n",
       "<tr style=\"text-align: center;\">\n",
       "<th scope=\"row\" style=\"height: 16px;\">Average snowfall inches (cm)\n",
       "</th>\n",
       "<td style=\"background: #000030; color:#FFFFFF;\">16.8<br/>(43)\n",
       "</td>\n",
       "<td style=\"background: #000030; color:#FFFFFF;\">13.4<br/>(34)\n",
       "</td>\n",
       "<td style=\"background: #0000B6; color:#FFFFFF;\">8.6<br/>(22)\n",
       "</td>\n",
       "<td style=\"background: #9191FF; color:#000000;\">2.8<br/>(7.1)\n",
       "</td>\n",
       "<td style=\"background: #FFFFFF; color:#000000;\">0<br/>(0)\n",
       "</td>\n",
       "<td style=\"background: #FFFFFF; color:#000000;\">0<br/>(0)\n",
       "</td>\n",
       "<td style=\"background: #FFFFFF; color:#000000;\">0<br/>(0)\n",
       "</td>\n",
       "<td style=\"background: #FFFFFF; color:#000000;\">0<br/>(0)\n",
       "</td>\n",
       "<td style=\"background: #FFFFFF; color:#000000;\">0<br/>(0)\n",
       "</td>\n",
       "<td style=\"background: #F7F7FF; color:#000000;\">0.2<br/>(0.51)\n",
       "</td>\n",
       "<td style=\"background: #8585FF; color:#000000;\">3.1<br/>(7.9)\n",
       "</td>\n",
       "<td style=\"background: #000030; color:#FFFFFF;\">13.5<br/>(34)\n",
       "</td>\n",
       "<td style=\"background: #4343FF; color:#FFFFFF; border-left-width:medium\">58.4<br/>(148.51)\n",
       "</td></tr>\n",
       "<tr style=\"text-align: center;\">\n",
       "<th scope=\"row\" style=\"height: 16px;\">Average precipitation days <span class=\"nowrap\" style=\"font-size:90%;\">(≥ 0.01 in)</span>\n",
       "</th>\n",
       "<td style=\"background: #2C2CFF; color:#FFFFFF;\">17.1\n",
       "</td>\n",
       "<td style=\"background: #4444FF; color:#FFFFFF;\">13.8\n",
       "</td>\n",
       "<td style=\"background: #5151FF; color:#FFFFFF;\">14.1\n",
       "</td>\n",
       "<td style=\"background: #5454FF; color:#FFFFFF;\">13.4\n",
       "</td>\n",
       "<td style=\"background: #5757FF; color:#FFFFFF;\">13.6\n",
       "</td>\n",
       "<td style=\"background: #6767FF; color:#000000;\">11.9\n",
       "</td>\n",
       "<td style=\"background: #7272FF; color:#000000;\">11.4\n",
       "</td>\n",
       "<td style=\"background: #7676FF; color:#000000;\">11.1\n",
       "</td>\n",
       "<td style=\"background: #7676FF; color:#000000;\">10.7\n",
       "</td>\n",
       "<td style=\"background: #6666FF; color:#FFFFFF;\">12.4\n",
       "</td>\n",
       "<td style=\"background: #4F4FFF; color:#FFFFFF;\">13.8\n",
       "</td>\n",
       "<td style=\"background: #2F2FFF; color:#FFFFFF;\">16.8\n",
       "</td>\n",
       "<td style=\"background: #5757FF; color:#FFFFFF; border-left-width:medium\">160.1\n",
       "</td></tr>\n",
       "<tr style=\"text-align: center;\">\n",
       "<th scope=\"row\" style=\"height: 16px;\">Average snowy days <span class=\"nowrap\" style=\"font-size:90%;\">(≥ 0.1 in)</span>\n",
       "</th>\n",
       "<td style=\"background: #4949FF; color:#FFFFFF;\">14.7\n",
       "</td>\n",
       "<td style=\"background: #6464FF; color:#FFFFFF;\">11.4\n",
       "</td>\n",
       "<td style=\"background: #A1A1FF; color:#000000;\">7.6\n",
       "</td>\n",
       "<td style=\"background: #DFDFFF; color:#000000;\">2.5\n",
       "</td>\n",
       "<td style=\"background: #FFFFFF; color:#000000;\">0\n",
       "</td>\n",
       "<td style=\"background: #FFFFFF; color:#000000;\">0\n",
       "</td>\n",
       "<td style=\"background: #FFFFFF; color:#000000;\">0\n",
       "</td>\n",
       "<td style=\"background: #FFFFFF; color:#000000;\">0\n",
       "</td>\n",
       "<td style=\"background: #FFFFFF; color:#000000;\">0\n",
       "</td>\n",
       "<td style=\"background: #F8F8FF; color:#000000;\">0.5\n",
       "</td>\n",
       "<td style=\"background: #C5C5FF; color:#000000;\">4.5\n",
       "</td>\n",
       "<td style=\"background: #6969FF; color:#000000;\">12.1\n",
       "</td>\n",
       "<td style=\"background: #C7C7FF; color:#000000; border-left-width:medium\">53.2\n",
       "</td></tr>\n",
       "<tr>\n",
       "<td colspan=\"14\" style=\"text-align:center;font-size:95%;\">Source: NOAA<sup class=\"reference\" id=\"cite_ref-NOAA_45-3\"><a href=\"#cite_note-NOAA-45\">[45]</a></sup><sup class=\"reference\" id=\"cite_ref-46\"><a href=\"#cite_note-46\">[46]</a></sup>\n",
       "</td></tr></tbody></table>"
      ]
     },
     "execution_count": 133,
     "metadata": {},
     "output_type": "execute_result"
    }
   ],
   "source": [
    "city.find_all('table')[4]"
   ]
  },
  {
   "cell_type": "markdown",
   "metadata": {},
   "source": [
    "The climate table has a single body with a header, a row of months as column names, then rows of weather data with a row title, a color, a numerical value, and sometimes another numerical value in parentheses, and a link at the bottom to NOAA. There are 9 children in this node each corresponding to a different row in the table and each with children that correspond to the type of row it is (header, data, or concluding link)."
   ]
  },
  {
   "cell_type": "markdown",
   "metadata": {},
   "source": [
    "2. Write a function `retrieve_climate_table` that takes as its only argument a Wikipedia URL, and returns the __BeautifulSoup__ object corresponding to the climate data table (if it exists in the page) and returns __None__ if no such table exists on the page. You should check that the URL is retrieved successfully, and raise an error if __urllib2__ fails to successfully read the website. You may notice that some city pages include more than one climate data table or several nested tables (see, for example, https://en.wikipedia.org/wiki/Los_Angeles). In this case, your function may arbitrarily choose one of the tables to return as a __BeautifulSoup__ object. __Note:__ a good way to check for edge cases is to test your script on the Wikipedia pages for a few of your favorite cities. The pages for Los Angeles, Hyderabad and Boston will give good examples of edge cases that you should be able to handle, but note that these are by no means exhaustive of all the possible edge cases. __Hint:__ make use of the __contents__ attribute of the __BeautifulSoup__ objects and the ability to change the elements of the contents list to Unicode."
   ]
  },
  {
   "cell_type": "code",
   "execution_count": 101,
   "metadata": {},
   "outputs": [],
   "source": [
    "def retrieve_climate_table(wiki_url):\n",
    "    try:\n",
    "        city_site = urllib.request.urlopen(wiki_url)\n",
    "    except:\n",
    "        raise TypeError(\"urllib2 fails to read: input must be Wikipedia URL\")\n",
    "    city_html = BeautifulSoup(city_site, 'html.parser')\n",
    "    exist = False\n",
    "    for i in range(len(city_html.find_all('table'))):\n",
    "        for each in city_html.find_all('table')[i].find_all('th'):\n",
    "            if re.search(r'Climate data for', each.get_text()) is not None:\n",
    "                index = i\n",
    "                exist = True\n",
    "    if exist == True:\n",
    "        return city_html.find_all('table')[index]\n",
    "    else:\n",
    "        return None"
   ]
  },
  {
   "cell_type": "markdown",
   "metadata": {},
   "source": [
    "3. As you look at some of the climate data tables, you may notice that different cities' tables contain different information. For example, not all cities include snowfall data. Write a function `list_climate_table_row_names` that takes as its only argument a Wikipedia URL and returns a list of the row names of the climate data table, or returns __None__ if no such table exists. The list returned by your function should, ideally, consist solely of Python strings (either Unicode or ASCII), and should not include any __BeautifulSoup__ objects or HTML (__Hint:__ see the __BeautifulSoup__ method `get_text()`). The list returned by your script should _not_ include an entry corresponding to the __Climate data for...__ row in the table. __Second hint:__ you are looking for HTML table header (__th__) objects. The HTML attribute `scope` is your friend here, because in the context of an HTML table it tells you when a `th` tag is the header of a row or a column."
   ]
  },
  {
   "cell_type": "code",
   "execution_count": 132,
   "metadata": {},
   "outputs": [],
   "source": [
    "def list_climate_table_row_names(wiki_url):\n",
    "    table = retrieve_climate_table(wiki_url)\n",
    "    if table is None:\n",
    "        return None\n",
    "    else:\n",
    "        row_names = []\n",
    "        for each in table.find_all('th'):\n",
    "            if each.get('scope') == 'row':\n",
    "                row_names.append(each.get_text())\n",
    "        return row_names"
   ]
  },
  {
   "cell_type": "markdown",
   "metadata": {},
   "source": [
    "4. The next natural step would be to write a function that takes a URL and a row name and retrieves the data from that row of the climate data table (if the table exists and has that row name). Doing this would require some complicated string wrangling to get right, so I'll spare you the trouble. Instead, please __briefly__ describe either in pseudo code or in plain English how you would accomplish this, using the two functions you wrote above and the tools available to you in the __BeautifulSoup__ package. __Note:__ just to be clear, you __do not__ have to write any Python code for this last step."
   ]
  },
  {
   "cell_type": "markdown",
   "metadata": {},
   "source": [
    "Answer: \n",
    "1. Check to see if list_climate_table_row_names(URL) is not None and that row name is in the list\n",
    "2. Request from URL and convert into BeautifulSoup\n",
    "3. Use retrieve_climate_table(URL) to find the right table\n",
    "4. Go through table.find_all('th') to find the right index for the row with the matching row name\n",
    "5. Figure out how many columns are in each row by counting how many 'td' exist between each 'tr' using table.find_all(['th', 'td'])\n",
    "6. Find indeces that match all the columns in the row of interest based on row index and number of columns\n",
    "7. Create an empty list that will be appended with the get_text() for the table.find_all('td') of the proper indeces\n",
    "8. Return none if either the URL doesn't contain a climate table or the climate table doesn't contain the row name\n",
    "9. Else return the list of values"
   ]
  },
  {
   "cell_type": "markdown",
   "metadata": {},
   "source": [
    "## 4 Relational Databases and SQL (10 points)\n",
    "In this problem, you'll interact with a toy SQL database using Python's built-in __sqlite3__ package. Documentation can be found at https://docs.python.org/3/library/sqlite3.html. For this problem, we'll use a popular toy SQLite database, called Chinook, which represents a digital music collection. See the documentation at\n",
    " \n",
    " https://github.com/lerocha/chinook-database/blob/master/ChinookDatabase/DataSources/Chinook_Sqlite.sqlite\n",
    "\n",
    " for a more detailed explanation. We'll use the __.sqlite__ file __Chinook\\_Sqlite.sqlite__, which you downloaded above."
   ]
  },
  {
   "cell_type": "markdown",
   "metadata": {},
   "source": [
    "1. Load the database using the Python __sqlite3__ package. How many tables are in the database? Save the answer in the variable `n_tables`."
   ]
  },
  {
   "cell_type": "code",
   "execution_count": 1,
   "metadata": {},
   "outputs": [],
   "source": [
    "import sqlite3"
   ]
  },
  {
   "cell_type": "code",
   "execution_count": 84,
   "metadata": {},
   "outputs": [],
   "source": [
    "conn = sqlite3.connect('Chinook_Sqlite.sqlite')\n",
    "c = conn.cursor()"
   ]
  },
  {
   "cell_type": "code",
   "execution_count": null,
   "metadata": {},
   "outputs": [],
   "source": [
    "c.execute(\"SELECT name FROM sqlite_master WHERE type='table';\")\n",
    "tb_names = c.fetchall()"
   ]
  },
  {
   "cell_type": "code",
   "execution_count": 98,
   "metadata": {},
   "outputs": [],
   "source": [
    "c.close()\n",
    "conn.close()"
   ]
  },
  {
   "cell_type": "code",
   "execution_count": 3,
   "metadata": {},
   "outputs": [],
   "source": [
    "n_tables = len(tb_names)"
   ]
  },
  {
   "cell_type": "markdown",
   "metadata": {},
   "source": [
    "2. What are the names of the tables in the database? Save the answer as a list of strings, `table_names`. __Note:__ you should write Python __sqlite3__ code to answer this; don't just look up the answer in the documentation!"
   ]
  },
  {
   "cell_type": "code",
   "execution_count": 37,
   "metadata": {},
   "outputs": [],
   "source": [
    "names = []\n",
    "for table in tb_names:\n",
    "    table = str(table)\n",
    "    i = len(table)-3\n",
    "    table = table[2:i]\n",
    "    names.append(table)"
   ]
  },
  {
   "cell_type": "code",
   "execution_count": 38,
   "metadata": {},
   "outputs": [],
   "source": [
    "table_names = names"
   ]
  },
  {
   "cell_type": "code",
   "execution_count": 39,
   "metadata": {},
   "outputs": [
    {
     "data": {
      "text/plain": [
       "['Album',\n",
       " 'Artist',\n",
       " 'Customer',\n",
       " 'Employee',\n",
       " 'Genre',\n",
       " 'Invoice',\n",
       " 'InvoiceLine',\n",
       " 'MediaType',\n",
       " 'Playlist',\n",
       " 'PlaylistTrack',\n",
       " 'Track']"
      ]
     },
     "execution_count": 39,
     "metadata": {},
     "output_type": "execute_result"
    }
   ],
   "source": [
    "table_names"
   ]
  },
  {
   "cell_type": "markdown",
   "metadata": {},
   "source": [
    "3. Write a function `list_album_ids_by_letter` that takes as an argument a single character and returns a list of the primary keys of all the albums whose titles start with that character. Your function should ignore case, so that the inputs `a` and `A` yield the same results. Include error checking that raises an error in the event that the input is not a single character."
   ]
  },
  {
   "cell_type": "code",
   "execution_count": 7,
   "metadata": {},
   "outputs": [
    {
     "data": {
      "text/plain": [
       "[(0, 'AlbumId', 'INTEGER', 1, None, 1),\n",
       " (1, 'Title', 'NVARCHAR(160)', 1, None, 0),\n",
       " (2, 'ArtistId', 'INTEGER', 1, None, 0)]"
      ]
     },
     "execution_count": 7,
     "metadata": {},
     "output_type": "execute_result"
    }
   ],
   "source": [
    "c.execute(\"PRAGMA table_info(Album);\")\n",
    "c.fetchall()"
   ]
  },
  {
   "cell_type": "code",
   "execution_count": 29,
   "metadata": {},
   "outputs": [],
   "source": [
    "def list_album_ids_by_letter(char):\n",
    "    if re.match(r'^[a-zA-Z]$', char) is None:\n",
    "        raise ValueError('Input should be single character')\n",
    "    conn = sqlite3.connect('Chinook_Sqlite.sqlite')\n",
    "    c = conn.cursor()\n",
    "    executable = \"SELECT AlbumId FROM Album WHERE Lower(Title) LIKE \"\n",
    "    execute = executable + \"'\" + char.lower() + \"%';\"\n",
    "    c.execute(execute)\n",
    "    albums = c.fetchall()\n",
    "    c.close()\n",
    "    conn.close()\n",
    "    final = []\n",
    "    for each in albums:\n",
    "        each = str(each)\n",
    "        i = len(each) - 2\n",
    "        each = int(each[1:i])\n",
    "        final.append(each)\n",
    "    return final"
   ]
  },
  {
   "cell_type": "code",
   "execution_count": 30,
   "metadata": {},
   "outputs": [
    {
     "data": {
      "text/plain": [
       "True"
      ]
     },
     "execution_count": 30,
     "metadata": {},
     "output_type": "execute_result"
    }
   ],
   "source": [
    "list_album_ids_by_letter('z') == [240]"
   ]
  },
  {
   "cell_type": "markdown",
   "metadata": {},
   "source": [
    "4. Write a function `list_song_ids_by_album_letter` that takes as an argument a single character and returns a list of the primary keys of all the songs whose album names begin with that letter. Again, your function should ignore case and perform error checking as in `list_album_ids_by_letter`. (again ignoring case). __Hint:__ You'll need a JOIN statement here. Don't forget that you can use the `cursor.description` attribute to find out about tables and the names of their columns."
   ]
  },
  {
   "cell_type": "code",
   "execution_count": 46,
   "metadata": {},
   "outputs": [
    {
     "data": {
      "text/plain": [
       "[(0, 'TrackId', 'INTEGER', 1, None, 1),\n",
       " (1, 'Name', 'NVARCHAR(200)', 1, None, 0),\n",
       " (2, 'AlbumId', 'INTEGER', 0, None, 0),\n",
       " (3, 'MediaTypeId', 'INTEGER', 1, None, 0),\n",
       " (4, 'GenreId', 'INTEGER', 0, None, 0),\n",
       " (5, 'Composer', 'NVARCHAR(220)', 0, None, 0),\n",
       " (6, 'Milliseconds', 'INTEGER', 1, None, 0),\n",
       " (7, 'Bytes', 'INTEGER', 0, None, 0),\n",
       " (8, 'UnitPrice', 'NUMERIC(10,2)', 1, None, 0)]"
      ]
     },
     "execution_count": 46,
     "metadata": {},
     "output_type": "execute_result"
    }
   ],
   "source": [
    "c.execute(\"PRAGMA table_info(Track);\")\n",
    "c.fetchall()"
   ]
  },
  {
   "cell_type": "code",
   "execution_count": 88,
   "metadata": {},
   "outputs": [],
   "source": [
    "def list_song_ids_by_album_letter(char):\n",
    "    if re.match(r'^[a-zA-Z]$', char) is None:\n",
    "        raise ValueError('Input should be single character')\n",
    "    conn = sqlite3.connect('Chinook_Sqlite.sqlite')\n",
    "    c = conn.cursor()\n",
    "    executable = \"SELECT TrackID FROM Track INNER JOIN Album on Track.AlbumId = Album.AlbumId WHERE Lower(Title) LIKE \"\n",
    "    execute = executable + \"'\" + char.lower() + \"%';\"\n",
    "    c.execute(execute)\n",
    "    songs = c.fetchall()\n",
    "    c.close()\n",
    "    conn.close()\n",
    "    final = []\n",
    "    for each in songs:\n",
    "        each = str(each)\n",
    "        i = len(each) - 2\n",
    "        each = int(each[1:i])\n",
    "        final.append(each)\n",
    "    return final"
   ]
  },
  {
   "cell_type": "code",
   "execution_count": 89,
   "metadata": {},
   "outputs": [
    {
     "data": {
      "text/plain": [
       "True"
      ]
     },
     "execution_count": 89,
     "metadata": {},
     "output_type": "execute_result"
    }
   ],
   "source": [
    "list_song_ids_by_album_letter('z') == [3028, 3029, 3030, 3031,\n",
    "                                       3032, 3033, 3034, 3035,\n",
    "                                       3036, 3037]"
   ]
  },
  {
   "cell_type": "markdown",
   "metadata": {},
   "source": [
    "5. Write a function `total_cost_by_album_letter` that takes as an argument a single character and returns the cost of buying every song whose album begins with that letter. This cost should be based on the tracks' unit prices, so that the cost of buying a set of tracks is simply the sum of the unit prices of all the tracks in the set. Again your function should ignore case and perform appropriate error checking."
   ]
  },
  {
   "cell_type": "code",
   "execution_count": 95,
   "metadata": {},
   "outputs": [],
   "source": [
    "def total_cost_by_album_letter(char):\n",
    "    if re.match(r'^[a-zA-Z]$', char) is None:\n",
    "        raise ValueError('Input should be single character')\n",
    "    conn = sqlite3.connect('Chinook_Sqlite.sqlite')\n",
    "    c = conn.cursor()\n",
    "    executable = \"SELECT UnitPrice FROM Track INNER JOIN Album on Track.AlbumId = Album.AlbumId WHERE Lower(Title) LIKE \"\n",
    "    execute = executable + \"'\" + char.lower() + \"%';\"\n",
    "    c.execute(execute)\n",
    "    songs = c.fetchall()\n",
    "    c.close()\n",
    "    conn.close()\n",
    "    final = []\n",
    "    for each in songs:\n",
    "        each = str(each)\n",
    "        i = len(each) - 2\n",
    "        each = float(each[1:i])\n",
    "        final.append(each)\n",
    "    return sum(final)"
   ]
  },
  {
   "cell_type": "code",
   "execution_count": 97,
   "metadata": {},
   "outputs": [
    {
     "data": {
      "text/plain": [
       "True"
      ]
     },
     "execution_count": 97,
     "metadata": {},
     "output_type": "execute_result"
    }
   ],
   "source": [
    "total_cost_by_album_letter('z') == 9.9"
   ]
  }
 ],
 "metadata": {
  "kernelspec": {
   "display_name": "Python 3",
   "language": "python",
   "name": "python3"
  },
  "language_info": {
   "codemirror_mode": {
    "name": "ipython",
    "version": 3
   },
   "file_extension": ".py",
   "mimetype": "text/x-python",
   "name": "python",
   "nbconvert_exporter": "python",
   "pygments_lexer": "ipython3",
   "version": "3.7.6"
  }
 },
 "nbformat": 4,
 "nbformat_minor": 2
}
