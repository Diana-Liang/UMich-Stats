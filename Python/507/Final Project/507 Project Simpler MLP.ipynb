{
 "cells": [
  {
   "cell_type": "markdown",
   "metadata": {},
   "source": [
    "# Title: Simple Multi-Layer Perceptron for 507 Project\n",
    "## Author: Diana Liang\n",
    "## Date: 4/15/2020"
   ]
  },
  {
   "cell_type": "code",
   "execution_count": 2,
   "metadata": {},
   "outputs": [
    {
     "name": "stderr",
     "output_type": "stream",
     "text": [
      "Using TensorFlow backend.\n"
     ]
    }
   ],
   "source": [
    "import pandas as pd\n",
    "from sklearn.model_selection import train_test_split\n",
    "from sklearn.experimental import enable_iterative_imputer\n",
    "from sklearn.impute import IterativeImputer\n",
    "from keras.models import Sequential\n",
    "from keras.layers import Dense\n",
    "from sklearn.metrics import classification_report, confusion_matrix, accuracy_score\n",
    "import seaborn as sns\n",
    "import matplotlib.pyplot as plt\n",
    "%matplotlib inline"
   ]
  },
  {
   "cell_type": "code",
   "execution_count": 4,
   "metadata": {},
   "outputs": [
    {
     "name": "stderr",
     "output_type": "stream",
     "text": [
      "c:\\users\\luxau\\appdata\\local\\programs\\python\\python37\\lib\\site-packages\\pandas\\core\\computation\\expressions.py:178: UserWarning: evaluating in Python space because the '+' operator is not supported by numexpr for the bool dtype, use '|' instead\n",
      "  f\"evaluating in Python space because the {repr(op_str)} \"\n"
     ]
    }
   ],
   "source": [
    "data = pd.read_csv('food_health.csv')\n",
    "data['is_1'] = data.health == 1\n",
    "data['is_2'] = data.health == 2\n",
    "data['is_3'] = data.health == 3\n",
    "data['is_healthy'] = data.is_1 + data.is_2 + data.is_3"
   ]
  },
  {
   "cell_type": "code",
   "execution_count": 5,
   "metadata": {},
   "outputs": [],
   "source": [
    "del data['health']\n",
    "del data['is_1']\n",
    "del data['is_2']\n",
    "del data['is_3']"
   ]
  },
  {
   "cell_type": "code",
   "execution_count": 6,
   "metadata": {},
   "outputs": [],
   "source": [
    "X = data.iloc[:, :9]\n",
    "Y = data.iloc[:, 9]"
   ]
  },
  {
   "cell_type": "code",
   "execution_count": 7,
   "metadata": {},
   "outputs": [],
   "source": [
    "X_train, X_test, Y_train, Y_test = train_test_split(X, Y, test_size=0.1,\n",
    "                                                   random_state=0)\n",
    "miss_train = IterativeImputer(max_iter=100, random_state=0)\n",
    "new_X_train = miss_train.fit_transform(X_train)\n",
    "miss_test = IterativeImputer(max_iter=100, random_state=0)\n",
    "new_X_test = miss_test.fit_transform(X_test)"
   ]
  },
  {
   "cell_type": "code",
   "execution_count": 30,
   "metadata": {},
   "outputs": [
    {
     "name": "stdout",
     "output_type": "stream",
     "text": [
      "Epoch 1/10\n",
      "16672/16672 [==============================] - 1s 70us/step - loss: 3.3394 - accuracy: 0.7822\n",
      "Epoch 2/10\n",
      "16672/16672 [==============================] - 1s 59us/step - loss: 3.3394 - accuracy: 0.7822\n",
      "Epoch 3/10\n",
      "16672/16672 [==============================] - 1s 71us/step - loss: 3.3394 - accuracy: 0.7822\n",
      "Epoch 4/10\n",
      "16672/16672 [==============================] - 1s 57us/step - loss: 3.3394 - accuracy: 0.7822\n",
      "Epoch 5/10\n",
      "16672/16672 [==============================] - 1s 62us/step - loss: 3.3394 - accuracy: 0.7822\n",
      "Epoch 6/10\n",
      "16672/16672 [==============================] - 1s 57us/step - loss: 3.3394 - accuracy: 0.7822\n",
      "Epoch 7/10\n",
      "16672/16672 [==============================] - 1s 59us/step - loss: 3.3394 - accuracy: 0.7822\n",
      "Epoch 8/10\n",
      "16672/16672 [==============================] - 1s 66us/step - loss: 3.3394 - accuracy: 0.7822\n",
      "Epoch 9/10\n",
      "16672/16672 [==============================] - 1s 59us/step - loss: 3.3394 - accuracy: 0.7822\n",
      "Epoch 10/10\n",
      "16672/16672 [==============================] - 1s 65us/step - loss: 3.3394 - accuracy: 0.7822\n",
      "16672/16672 [==============================] - 0s 24us/step\n",
      "Epoch 1/10\n",
      "16672/16672 [==============================] - 1s 62us/step - loss: 3.3394 - accuracy: 0.7822\n",
      "Epoch 2/10\n",
      "16672/16672 [==============================] - 1s 55us/step - loss: 3.3394 - accuracy: 0.7822\n",
      "Epoch 3/10\n",
      "16672/16672 [==============================] - 1s 56us/step - loss: 3.3394 - accuracy: 0.7822\n",
      "Epoch 4/10\n",
      "16672/16672 [==============================] - 1s 59us/step - loss: 3.3394 - accuracy: 0.7822\n",
      "Epoch 5/10\n",
      "16672/16672 [==============================] - 1s 56us/step - loss: 3.3394 - accuracy: 0.7822\n",
      "Epoch 6/10\n",
      "16672/16672 [==============================] - 1s 57us/step - loss: 3.3394 - accuracy: 0.7822\n",
      "Epoch 7/10\n",
      "16672/16672 [==============================] - 1s 65us/step - loss: 3.3394 - accuracy: 0.7822\n",
      "Epoch 8/10\n",
      "16672/16672 [==============================] - 1s 58us/step - loss: 3.3394 - accuracy: 0.7822\n",
      "Epoch 9/10\n",
      "16672/16672 [==============================] - 1s 57us/step - loss: 3.3394 - accuracy: 0.7822\n",
      "Epoch 10/10\n",
      "16672/16672 [==============================] - 1s 56us/step - loss: 3.3394 - accuracy: 0.7822\n",
      "16672/16672 [==============================] - 0s 25us/step\n",
      "Epoch 1/10\n",
      "16672/16672 [==============================] - 1s 72us/step - loss: 3.3394 - accuracy: 0.7822\n",
      "Epoch 2/10\n",
      "16672/16672 [==============================] - 1s 57us/step - loss: 3.3394 - accuracy: 0.7822\n",
      "Epoch 3/10\n",
      "16672/16672 [==============================] - 1s 60us/step - loss: 3.3394 - accuracy: 0.7822\n",
      "Epoch 4/10\n",
      "16672/16672 [==============================] - 2s 112us/step - loss: 3.3394 - accuracy: 0.7822\n",
      "Epoch 5/10\n",
      "16672/16672 [==============================] - 2s 102us/step - loss: 3.3394 - accuracy: 0.7822\n",
      "Epoch 6/10\n",
      "16672/16672 [==============================] - 1s 69us/step - loss: 3.3394 - accuracy: 0.7822\n",
      "Epoch 7/10\n",
      "16672/16672 [==============================] - 1s 59us/step - loss: 3.3394 - accuracy: 0.7822\n",
      "Epoch 8/10\n",
      "16672/16672 [==============================] - 1s 58us/step - loss: 3.3394 - accuracy: 0.7822\n",
      "Epoch 9/10\n",
      "16672/16672 [==============================] - 1s 59us/step - loss: 3.3394 - accuracy: 0.7822\n",
      "Epoch 10/10\n",
      "16672/16672 [==============================] - 1s 66us/step - loss: 3.3394 - accuracy: 0.7822\n",
      "16672/16672 [==============================] - 0s 30us/step\n",
      "Epoch 1/10\n",
      "16672/16672 [==============================] - 2s 99us/step - loss: 3.3394 - accuracy: 0.7822\n",
      "Epoch 2/10\n",
      "16672/16672 [==============================] - 1s 81us/step - loss: 3.3394 - accuracy: 0.7822\n",
      "Epoch 3/10\n",
      "16672/16672 [==============================] - 1s 78us/step - loss: 3.3394 - accuracy: 0.7822\n",
      "Epoch 4/10\n",
      "16672/16672 [==============================] - 1s 72us/step - loss: 3.3394 - accuracy: 0.7822\n",
      "Epoch 5/10\n",
      "16672/16672 [==============================] - 1s 65us/step - loss: 3.3394 - accuracy: 0.7822\n",
      "Epoch 6/10\n",
      "16672/16672 [==============================] - 2s 112us/step - loss: 3.3394 - accuracy: 0.7822\n",
      "Epoch 7/10\n",
      "16672/16672 [==============================] - 2s 90us/step - loss: 3.3394 - accuracy: 0.7822\n",
      "Epoch 8/10\n",
      "16672/16672 [==============================] - 1s 59us/step - loss: 3.3394 - accuracy: 0.7822\n",
      "Epoch 9/10\n",
      "16672/16672 [==============================] - 1s 58us/step - loss: 3.3394 - accuracy: 0.7822\n",
      "Epoch 10/10\n",
      "16672/16672 [==============================] - 1s 57us/step - loss: 3.3394 - accuracy: 0.7822\n",
      "16672/16672 [==============================] - 0s 24us/step\n",
      "Epoch 1/10\n",
      "16672/16672 [==============================] - 1s 63us/step - loss: 3.3394 - accuracy: 0.7822\n",
      "Epoch 2/10\n",
      "16672/16672 [==============================] - 1s 58us/step - loss: 3.3394 - accuracy: 0.7822\n",
      "Epoch 3/10\n",
      "16672/16672 [==============================] - 1s 56us/step - loss: 3.3394 - accuracy: 0.7822\n",
      "Epoch 4/10\n",
      "16672/16672 [==============================] - 1s 59us/step - loss: 3.3394 - accuracy: 0.7822\n",
      "Epoch 5/10\n",
      "16672/16672 [==============================] - 1s 68us/step - loss: 3.3394 - accuracy: 0.7822\n",
      "Epoch 6/10\n",
      "16672/16672 [==============================] - 1s 73us/step - loss: 3.3394 - accuracy: 0.7822\n",
      "Epoch 7/10\n",
      "16672/16672 [==============================] - 1s 85us/step - loss: 3.3394 - accuracy: 0.7822 0s - l\n",
      "Epoch 8/10\n",
      "16672/16672 [==============================] - 1s 84us/step - loss: 3.3394 - accuracy: 0.7822\n",
      "Epoch 9/10\n",
      "16672/16672 [==============================] - 2s 99us/step - loss: 3.3394 - accuracy: 0.7822\n",
      "Epoch 10/10\n",
      "16672/16672 [==============================] - 2s 120us/step - loss: 3.3394 - accuracy: 0.7822\n",
      "16672/16672 [==============================] - 1s 46us/step\n",
      "Epoch 1/10\n",
      "16672/16672 [==============================] - 1s 83us/step - loss: 3.3394 - accuracy: 0.7822\n",
      "Epoch 2/10\n",
      "16672/16672 [==============================] - 1s 67us/step - loss: 3.3394 - accuracy: 0.7822\n",
      "Epoch 3/10\n",
      "16672/16672 [==============================] - 2s 90us/step - loss: 3.3394 - accuracy: 0.7822\n",
      "Epoch 4/10\n",
      "16672/16672 [==============================] - 1s 65us/step - loss: 3.3394 - accuracy: 0.7822\n",
      "Epoch 5/10\n",
      "16672/16672 [==============================] - 1s 64us/step - loss: 3.3394 - accuracy: 0.7822\n",
      "Epoch 6/10\n",
      "16672/16672 [==============================] - 1s 67us/step - loss: 3.3394 - accuracy: 0.7822\n",
      "Epoch 7/10\n",
      "16672/16672 [==============================] - 1s 67us/step - loss: 3.3394 - accuracy: 0.7822\n",
      "Epoch 8/10\n",
      "16672/16672 [==============================] - 1s 77us/step - loss: 3.3394 - accuracy: 0.7822 1s -\n",
      "Epoch 9/10\n",
      "16672/16672 [==============================] - 1s 73us/step - loss: 3.3394 - accuracy: 0.7822\n",
      "Epoch 10/10\n",
      "16672/16672 [==============================] - 1s 84us/step - loss: 3.3394 - accuracy: 0.7822\n",
      "16672/16672 [==============================] - 1s 51us/step\n",
      "Epoch 1/10\n",
      "16672/16672 [==============================] - 1s 85us/step - loss: 3.3394 - accuracy: 0.7822\n",
      "Epoch 2/10\n",
      "16672/16672 [==============================] - 1s 73us/step - loss: 3.3394 - accuracy: 0.7822\n",
      "Epoch 3/10\n",
      "16672/16672 [==============================] - 1s 84us/step - loss: 3.3394 - accuracy: 0.7822\n",
      "Epoch 4/10\n",
      "16672/16672 [==============================] - 1s 77us/step - loss: 3.3394 - accuracy: 0.7822\n",
      "Epoch 5/10\n",
      "16672/16672 [==============================] - 1s 69us/step - loss: 3.3394 - accuracy: 0.7822\n",
      "Epoch 6/10\n",
      "16672/16672 [==============================] - 1s 65us/step - loss: 3.3394 - accuracy: 0.7822\n",
      "Epoch 7/10\n",
      "16672/16672 [==============================] - 1s 67us/step - loss: 3.3394 - accuracy: 0.7822\n",
      "Epoch 8/10\n",
      "16672/16672 [==============================] - 1s 68us/step - loss: 3.3394 - accuracy: 0.7822\n",
      "Epoch 9/10\n",
      "16672/16672 [==============================] - 1s 65us/step - loss: 3.3394 - accuracy: 0.7822\n",
      "Epoch 10/10\n",
      "16672/16672 [==============================] - 1s 66us/step - loss: 3.3394 - accuracy: 0.7822\n",
      "16672/16672 [==============================] - 1s 39us/step\n",
      "Epoch 1/10\n",
      "16672/16672 [==============================] - 1s 67us/step - loss: 3.3394 - accuracy: 0.7822\n",
      "Epoch 2/10\n",
      "16672/16672 [==============================] - 1s 63us/step - loss: 3.3394 - accuracy: 0.7822\n",
      "Epoch 3/10\n",
      "16672/16672 [==============================] - 1s 62us/step - loss: 3.3394 - accuracy: 0.7822\n",
      "Epoch 4/10\n",
      "16672/16672 [==============================] - 1s 57us/step - loss: 3.3394 - accuracy: 0.7822\n",
      "Epoch 5/10\n",
      "16672/16672 [==============================] - 1s 65us/step - loss: 3.3394 - accuracy: 0.7822\n",
      "Epoch 6/10\n",
      "16672/16672 [==============================] - 1s 63us/step - loss: 3.3394 - accuracy: 0.7822\n",
      "Epoch 7/10\n",
      "16672/16672 [==============================] - 1s 62us/step - loss: 3.3394 - accuracy: 0.7822\n",
      "Epoch 8/10\n",
      "16672/16672 [==============================] - 1s 60us/step - loss: 3.3394 - accuracy: 0.7822\n",
      "Epoch 9/10\n",
      "16672/16672 [==============================] - 1s 57us/step - loss: 3.3394 - accuracy: 0.7822\n",
      "Epoch 10/10\n",
      "16672/16672 [==============================] - 1s 55us/step - loss: 3.3394 - accuracy: 0.7822\n",
      "16672/16672 [==============================] - 0s 25us/step\n",
      "Epoch 1/10\n",
      "16672/16672 [==============================] - 1s 82us/step - loss: 3.3394 - accuracy: 0.7822\n",
      "Epoch 2/10\n",
      "16672/16672 [==============================] - 1s 79us/step - loss: 3.3394 - accuracy: 0.7822\n",
      "Epoch 3/10\n",
      "16672/16672 [==============================] - 1s 72us/step - loss: 3.3394 - accuracy: 0.7822\n",
      "Epoch 4/10\n",
      "16672/16672 [==============================] - 1s 71us/step - loss: 3.3394 - accuracy: 0.7822\n",
      "Epoch 5/10\n",
      "16672/16672 [==============================] - 1s 73us/step - loss: 3.3394 - accuracy: 0.7822\n",
      "Epoch 6/10\n",
      "16672/16672 [==============================] - 1s 83us/step - loss: 3.3394 - accuracy: 0.7822\n",
      "Epoch 7/10\n",
      "16672/16672 [==============================] - 1s 78us/step - loss: 3.3394 - accuracy: 0.7822\n",
      "Epoch 8/10\n",
      "16672/16672 [==============================] - 2s 94us/step - loss: 3.3394 - accuracy: 0.7822\n",
      "Epoch 9/10\n",
      "16672/16672 [==============================] - 2s 118us/step - loss: 3.3394 - accuracy: 0.7822\n",
      "Epoch 10/10\n",
      "16672/16672 [==============================] - 2s 122us/step - loss: 3.3394 - accuracy: 0.7822\n",
      "16672/16672 [==============================] - 1s 51us/step\n",
      "Epoch 1/10\n",
      "16672/16672 [==============================] - 2s 114us/step - loss: 3.3394 - accuracy: 0.7822\n",
      "Epoch 2/10\n",
      "16672/16672 [==============================] - 2s 99us/step - loss: 3.3394 - accuracy: 0.7822\n",
      "Epoch 3/10\n",
      "16672/16672 [==============================] - 2s 95us/step - loss: 3.3394 - accuracy: 0.7822\n",
      "Epoch 4/10\n",
      "16672/16672 [==============================] - 2s 91us/step - loss: 3.3394 - accuracy: 0.7822\n",
      "Epoch 5/10\n",
      "16672/16672 [==============================] - 2s 97us/step - loss: 3.3394 - accuracy: 0.7822\n",
      "Epoch 6/10\n",
      "16672/16672 [==============================] - 1s 89us/step - loss: 3.3394 - accuracy: 0.7822\n",
      "Epoch 7/10\n",
      "16672/16672 [==============================] - 2s 102us/step - loss: 3.3394 - accuracy: 0.7822\n",
      "Epoch 8/10\n",
      "16672/16672 [==============================] - 1s 84us/step - loss: 3.3394 - accuracy: 0.7822\n",
      "Epoch 9/10\n",
      "16672/16672 [==============================] - 2s 92us/step - loss: 3.3394 - accuracy: 0.7822\n",
      "Epoch 10/10\n",
      "16672/16672 [==============================] - 1s 85us/step - loss: 3.3394 - accuracy: 0.7822\n",
      "16672/16672 [==============================] - 1s 36us/step\n",
      "Epoch 1/10\n",
      "16672/16672 [==============================] - 2s 97us/step - loss: 3.3394 - accuracy: 0.7822\n",
      "Epoch 2/10\n",
      "16672/16672 [==============================] - 1s 82us/step - loss: 3.3394 - accuracy: 0.7822\n",
      "Epoch 3/10\n",
      "16672/16672 [==============================] - 1s 80us/step - loss: 3.3394 - accuracy: 0.7822\n",
      "Epoch 4/10\n",
      "16672/16672 [==============================] - 1s 82us/step - loss: 3.3394 - accuracy: 0.7822\n",
      "Epoch 5/10\n",
      "16672/16672 [==============================] - 1s 81us/step - loss: 3.3394 - accuracy: 0.7822\n",
      "Epoch 6/10\n",
      "16672/16672 [==============================] - 2s 95us/step - loss: 3.3394 - accuracy: 0.7822\n",
      "Epoch 7/10\n",
      "16672/16672 [==============================] - 1s 84us/step - loss: 3.3394 - accuracy: 0.7822\n",
      "Epoch 8/10\n",
      "16672/16672 [==============================] - 2s 120us/step - loss: 3.3394 - accuracy: 0.7822\n",
      "Epoch 9/10\n",
      "16672/16672 [==============================] - 2s 112us/step - loss: 3.3394 - accuracy: 0.7822\n",
      "Epoch 10/10\n",
      "16672/16672 [==============================] - 2s 120us/step - loss: 3.3394 - accuracy: 0.7822\n",
      "16672/16672 [==============================] - 1s 31us/step\n",
      "Epoch 1/10\n",
      "16672/16672 [==============================] - 1s 89us/step - loss: 3.3394 - accuracy: 0.7822\n",
      "Epoch 2/10\n",
      "16672/16672 [==============================] - 1s 84us/step - loss: 3.3394 - accuracy: 0.7822\n",
      "Epoch 3/10\n",
      "16672/16672 [==============================] - 1s 72us/step - loss: 3.3394 - accuracy: 0.7822\n",
      "Epoch 4/10\n",
      "16672/16672 [==============================] - 1s 72us/step - loss: 3.3394 - accuracy: 0.7822\n",
      "Epoch 5/10\n",
      "16672/16672 [==============================] - 1s 69us/step - loss: 3.3394 - accuracy: 0.7822\n",
      "Epoch 6/10\n",
      "16672/16672 [==============================] - 1s 74us/step - loss: 3.3394 - accuracy: 0.7822\n",
      "Epoch 7/10\n",
      "16672/16672 [==============================] - 1s 67us/step - loss: 3.3394 - accuracy: 0.7822\n",
      "Epoch 8/10\n",
      "16672/16672 [==============================] - 1s 67us/step - loss: 3.3394 - accuracy: 0.7822\n",
      "Epoch 9/10\n",
      "16672/16672 [==============================] - 1s 71us/step - loss: 3.3394 - accuracy: 0.7822\n",
      "Epoch 10/10\n",
      "16672/16672 [==============================] - 1s 75us/step - loss: 3.3394 - accuracy: 0.7822\n",
      "16672/16672 [==============================] - 1s 30us/step\n"
     ]
    }
   ],
   "source": [
    "train_acc = []\n",
    "for unit in [50, 100, 1000]:\n",
    "    for act in ['relu', 'elu', 'tanh', 'sigmoid']:\n",
    "        model = Sequential()\n",
    "        model.add(Dense(unit, input_dim=9, activation=act))\n",
    "        model.add(Dense(10, activation=act))\n",
    "        model.add(Dense(1, activation='softmax'))\n",
    "        model.compile(loss='binary_crossentropy', optimizer='adam', metrics=['accuracy'])\n",
    "        model.fit(new_X_train, Y_train, epochs=10, batch_size=32)\n",
    "        _, acc = model.evaluate(new_X_train, Y_train)\n",
    "        train_acc.append(acc)"
   ]
  },
  {
   "cell_type": "code",
   "execution_count": 32,
   "metadata": {},
   "outputs": [
    {
     "data": {
      "image/png": "[encoded data removed]",
      "text/plain": [
       "<Figure size 432x288 with 1 Axes>"
      ]
     },
     "metadata": {
      "needs_background": "light"
     },
     "output_type": "display_data"
    }
   ],
   "source": [
    "plt.title(\"Accuracy for Different Parameters (Simple MLP)\")\n",
    "plt.xlabel(\"Different Parameters\")\n",
    "plt.ylabel(\"Accuracy\")\n",
    "plt.plot(train_acc)\n",
    "#plt.savefig('mlp_acc.png')"
   ]
  },
  {
   "cell_type": "code",
   "execution_count": 8,
   "metadata": {},
   "outputs": [
    {
     "name": "stdout",
     "output_type": "stream",
     "text": [
      "Epoch 1/10\n",
      "16672/16672 [==============================] - 1s 74us/step - loss: 3.3394 - accuracy: 0.7822\n",
      "Epoch 2/10\n",
      "16672/16672 [==============================] - 1s 54us/step - loss: 3.3394 - accuracy: 0.7822\n",
      "Epoch 3/10\n",
      "16672/16672 [==============================] - 1s 57us/step - loss: 3.3394 - accuracy: 0.7822\n",
      "Epoch 4/10\n",
      "16672/16672 [==============================] - 1s 60us/step - loss: 3.3394 - accuracy: 0.7822\n",
      "Epoch 5/10\n",
      "16672/16672 [==============================] - 1s 60us/step - loss: 3.3394 - accuracy: 0.7822\n",
      "Epoch 6/10\n",
      "16672/16672 [==============================] - 1s 84us/step - loss: 3.3394 - accuracy: 0.7822\n",
      "Epoch 7/10\n",
      "16672/16672 [==============================] - 1s 74us/step - loss: 3.3394 - accuracy: 0.7822\n",
      "Epoch 8/10\n",
      "16672/16672 [==============================] - 1s 63us/step - loss: 3.3394 - accuracy: 0.7822\n",
      "Epoch 9/10\n",
      "16672/16672 [==============================] - 1s 58us/step - loss: 3.3394 - accuracy: 0.7822\n",
      "Epoch 10/10\n",
      "16672/16672 [==============================] - 1s 57us/step - loss: 3.3394 - accuracy: 0.7822\n"
     ]
    },
    {
     "data": {
      "text/plain": [
       "0.7981651376146789"
      ]
     },
     "execution_count": 8,
     "metadata": {},
     "output_type": "execute_result"
    }
   ],
   "source": [
    "model = Sequential()\n",
    "model.add(Dense(50, input_dim=9, activation='relu'))\n",
    "model.add(Dense(10, activation='relu'))\n",
    "model.add(Dense(1, activation='softmax'))\n",
    "model.compile(loss='binary_crossentropy', optimizer='adam', metrics=['accuracy'])\n",
    "model.fit(new_X_train, Y_train, epochs=10, batch_size=32)\n",
    "Y_pred = model.predict_classes(new_X_test)\n",
    "accuracy_score(Y_pred, Y_test)"
   ]
  },
  {
   "cell_type": "code",
   "execution_count": 9,
   "metadata": {},
   "outputs": [
    {
     "data": {
      "image/png": "[encoded data removed]",
      "text/plain": [
       "<Figure size 432x288 with 2 Axes>"
      ]
     },
     "metadata": {
      "needs_background": "light"
     },
     "output_type": "display_data"
    }
   ],
   "source": [
    "sns.heatmap(confusion_matrix(Y_test, Y_pred), annot=True)\n",
    "plt.title(\"Predicted vs Actual Health Confusion Matrix (Simple MLP)\")\n",
    "plt.xlabel(\"Predicted Health\")\n",
    "plt.ylabel(\"Actual Health\")\n",
    "#plt.savefig(\"mlp_con_mat.png\")"
   ]
  }
 ],
 "metadata": {
  "kernelspec": {
   "display_name": "Python 3",
   "language": "python",
   "name": "python3"
  },
  "language_info": {
   "codemirror_mode": {
    "name": "ipython",
    "version": 3
   },
   "file_extension": ".py",
   "mimetype": "text/x-python",
   "name": "python",
   "nbconvert_exporter": "python",
   "pygments_lexer": "ipython3",
   "version": "3.7.6"
  }
 },
 "nbformat": 4,
 "nbformat_minor": 4
}
