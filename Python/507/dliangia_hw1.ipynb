{
 "cells": [
  {
   "cell_type": "markdown",
   "metadata": {},
   "source": [
    "# Stats 507: HW 1\n",
    "\n",
    "## Diana Liang\n",
    "1/19/2020"
   ]
  },
  {
   "cell_type": "markdown",
   "metadata": {},
   "source": [
    "## Problem 1: Textbook Exercises\n",
    "(Approximately 1.5 hours)\n",
    "\n",
    "### Chapter 1\n",
    "\n",
    "1.3: A compiler translates the written code into machine code and then interprets that machine code whereas a interpreter interprets the written code without needing the compiling intermediate step.\n",
    "\n",
    "1.5: There is no built-in function primt but there is a built-in function print which takes a string as an argument in parentheses. So for this code to work: print(‘Hello world!’)."
   ]
  },
  {
   "cell_type": "code",
   "execution_count": 52,
   "metadata": {},
   "outputs": [
    {
     "name": "stdout",
     "output_type": "stream",
     "text": [
      "Hello world!\n"
     ]
    }
   ],
   "source": [
    "print('Hello world!')"
   ]
  },
  {
   "cell_type": "markdown",
   "metadata": {},
   "source": [
    "1.6: \"x\" will be momentarily saved until the Python program is closed, so it is stored in (2) Main Memory.\n",
    "\n",
    "1.8: The human equivalent of a (1) Central processing unit could be active thinking, (2) Main Memory short-term memory, (3) Secondary Memory long-term memory, (4) Input Device as physical sensing, and (5) Output Device as voluntary muscle movement.\n",
    "\n",
    "### Chapter 2\n",
    "\n",
    "2.3: Compute gross pay with input"
   ]
  },
  {
   "cell_type": "code",
   "execution_count": 57,
   "metadata": {},
   "outputs": [
    {
     "name": "stdout",
     "output_type": "stream",
     "text": [
      "Enter Hours: 35\n",
      "Enter Rate: 2.75\n",
      "Pay: 96.25\n"
     ]
    }
   ],
   "source": [
    "hours = float(input('Enter Hours: ')) # try 35\n",
    "rate = float(input('Enter Rate: ')) # try 2.75\n",
    "print('Pay: %.2f'% (hours*rate)) # should print 96.25"
   ]
  },
  {
   "cell_type": "markdown",
   "metadata": {},
   "source": [
    "2.4: Assume width = 17 and height = 12.0.\n",
    "    1. width//2 = 8 as an integer\n",
    "    2. width/2.0 = 8.5 as a float\n",
    "    3. height/3 = 4.0 as a float\n",
    "    4. 1 + 2 * 5 = 11 as an integer"
   ]
  },
  {
   "cell_type": "code",
   "execution_count": 59,
   "metadata": {},
   "outputs": [
    {
     "name": "stdout",
     "output_type": "stream",
     "text": [
      "True\n",
      "True\n",
      "True\n",
      "True\n"
     ]
    }
   ],
   "source": [
    "width = 17; height = 12.0\n",
    "print(width//2 == 8); print(width/2.0 == 8.5); \n",
    "print(height/3 == 4.0); print(1+2*5 == 11)"
   ]
  },
  {
   "cell_type": "markdown",
   "metadata": {},
   "source": [
    "### Chapter 3\n",
    "\n",
    "3.1: The computation from 2.3 has been rewritten so that employees will be paid 1.5*hourly rate if they work more than 40 hours (not really sure why the book has the expected pay at 475.0)."
   ]
  },
  {
   "cell_type": "code",
   "execution_count": 62,
   "metadata": {},
   "outputs": [
    {
     "name": "stdout",
     "output_type": "stream",
     "text": [
      "Enter Hours: 45\n",
      "Enter Rate: 10\n",
      "Pay: 675.00\n"
     ]
    }
   ],
   "source": [
    "hours = float(input('Enter Hours: ')) # try 45\n",
    "rate = float(input('Enter Rate: ')) # try 10\n",
    "if hours > 40:\n",
    "    print('Pay: %.2f'% (hours*1.5*rate)) # should print 675.00\n",
    "else:\n",
    "    print('Pay: %.2f'% (hours*rate))"
   ]
  },
  {
   "cell_type": "markdown",
   "metadata": {},
   "source": [
    "3.2: The pay computation is again rewritten to print error messages if the inputs are not numeric."
   ]
  },
  {
   "cell_type": "code",
   "execution_count": 1,
   "metadata": {},
   "outputs": [
    {
     "name": "stdout",
     "output_type": "stream",
     "text": [
      "Enter Hours: 30\n",
      "Enter Rate: nine\n",
      "Error, please enter numeric input\n"
     ]
    }
   ],
   "source": [
    "hours = input('Enter Hours: ')\n",
    "try:\n",
    "    hours = float(hours)\n",
    "    rate = input('Enter Rate: ')\n",
    "    try:\n",
    "        rate = float(rate)\n",
    "        \n",
    "        if hours > 40:\n",
    "            print('Pay: %.2f'% (hours*1.5*rate)) \n",
    "        else:\n",
    "            print('Pay: %.2f'% (hours*rate))\n",
    "    except:\n",
    "        print('Error, please enter numeric input')\n",
    "        exit()\n",
    "except:\n",
    "    print('Error, please enter numeric input')\n",
    "    exit()"
   ]
  },
  {
   "cell_type": "markdown",
   "metadata": {},
   "source": [
    "### Chapter 4\n",
    "\n",
    "4.6: Here is a function that to compute pay."
   ]
  },
  {
   "cell_type": "code",
   "execution_count": 2,
   "metadata": {},
   "outputs": [
    {
     "name": "stdout",
     "output_type": "stream",
     "text": [
      "Enter Hours: 45\n",
      "Enter Rate: 10\n",
      "Pay: 675.00\n"
     ]
    }
   ],
   "source": [
    "def computepay(hours, rate):\n",
    "    if hours > 40:\n",
    "        print('Pay: %.2f'% (hours*1.5*rate))\n",
    "    else:\n",
    "        print('Pay: %.2f'% (hours*rate))\n",
    "\n",
    "hours = float(input(\"Enter Hours: \")) \n",
    "rate = float(input(\"Enter Rate: \"))\n",
    "computepay(hours, rate)"
   ]
  },
  {
   "cell_type": "markdown",
   "metadata": {},
   "source": [
    "### Chapter 5\n",
    "\n",
    "5.1: Here is a program that repeatedly asks for numbers until the input 'done' and prints total, count and average of numbers."
   ]
  },
  {
   "cell_type": "code",
   "execution_count": 8,
   "metadata": {},
   "outputs": [
    {
     "name": "stdout",
     "output_type": "stream",
     "text": [
      "Enter a number: green\n",
      "Invalid input\n",
      "Enter a number: 5\n",
      "Enter a number: 3\n",
      "Enter a number: two\n",
      "Invalid input\n",
      "Enter a number: 8\n",
      "Enter a number: done\n",
      "16.0 3 5.3\n"
     ]
    }
   ],
   "source": [
    "all_numbers = []\n",
    "num_input = ''\n",
    "while num_input != 'done':\n",
    "    num_input = input('Enter a number: ')\n",
    "    try:\n",
    "        num_input = float(num_input)\n",
    "        all_numbers.append(num_input)\n",
    "    except:\n",
    "        if num_input != 'done':\n",
    "            print('Invalid input')\n",
    "print('%.1f %d %.1f' % (sum(all_numbers), len(all_numbers), sum(all_numbers)/len(all_numbers)))"
   ]
  },
  {
   "cell_type": "markdown",
   "metadata": {},
   "source": [
    "## Problem 2: GCD by Euclid's Algorithm\n",
    "(Approximately 30 min)\n",
    "\n",
    "### Part 1: The Function\n",
    "\n",
    "The function below was written based on the pseudo code available on the the Wikipedia page on Euclid's algorithm (https://en.wikipedia.org/wiki/Euclidean_algorithm)."
   ]
  },
  {
   "cell_type": "code",
   "execution_count": 2,
   "metadata": {},
   "outputs": [],
   "source": [
    "## this function takes in two numbers and finds the GCD by Euclid's algorithm\n",
    "def euclid_gcd(a, b):\n",
    "    ## input: two integers\n",
    "    ## output: GCD of the two integers\n",
    "    \n",
    "    # find quotient and remainder of a/b until remainder is zero\n",
    "    while b != 0:\n",
    "        t = b\n",
    "        b = a%b\n",
    "        a = t\n",
    "    \n",
    "    # return the GCD\n",
    "    return a"
   ]
  },
  {
   "cell_type": "markdown",
   "metadata": {},
   "source": [
    "### Part 2: Examples\n"
   ]
  },
  {
   "cell_type": "code",
   "execution_count": 22,
   "metadata": {},
   "outputs": [
    {
     "data": {
      "text/plain": [
       "1"
      ]
     },
     "execution_count": 22,
     "metadata": {},
     "output_type": "execute_result"
    }
   ],
   "source": [
    "euclid_gcd(2019,2020)"
   ]
  },
  {
   "cell_type": "code",
   "execution_count": 23,
   "metadata": {},
   "outputs": [
    {
     "data": {
      "text/plain": [
       "400"
      ]
     },
     "execution_count": 23,
     "metadata": {},
     "output_type": "execute_result"
    }
   ],
   "source": [
    "euclid_gcd(1600,400)"
   ]
  },
  {
   "cell_type": "code",
   "execution_count": 24,
   "metadata": {},
   "outputs": [
    {
     "data": {
      "text/plain": [
       "60"
      ]
     },
     "execution_count": 24,
     "metadata": {},
     "output_type": "execute_result"
    }
   ],
   "source": [
    "euclid_gcd(5040,60)"
   ]
  },
  {
   "cell_type": "markdown",
   "metadata": {},
   "source": [
    "### Part 3: Negative Arguments\n",
    "\n",
    "By the function above, having two negative inputs would require the greatest common divisor to also be negative, which does not always make sense as it's common to see positive integer n as greater than the negative of the same integer -n. In most instances having the GCD as a positive number is preferred.\n",
    "\n",
    "Below is an example."
   ]
  },
  {
   "cell_type": "code",
   "execution_count": 3,
   "metadata": {},
   "outputs": [
    {
     "data": {
      "text/plain": [
       "-400"
      ]
     },
     "execution_count": 3,
     "metadata": {},
     "output_type": "execute_result"
    }
   ],
   "source": [
    "euclid_gcd(-1600,-400)"
   ]
  },
  {
   "cell_type": "markdown",
   "metadata": {},
   "source": [
    "## Problem 3: Approximating Euler's Number\n",
    "(Approximately 1 hour)\n",
    "\n",
    "There have been many methods of calculating Euler's number for either mathematical or computation purposes. Below are a few examples of such methods and a brief comparison on which is more accurate.\n",
    "\n",
    "### Part 1: Limit Approach\n",
    "\n",
    "The first function utilizes an equation that estimates Euler's number with the limit as goes to infinity."
   ]
  },
  {
   "cell_type": "code",
   "execution_count": 6,
   "metadata": {},
   "outputs": [],
   "source": [
    "# this function estimates euler's number with the limit as x goes to infinity\n",
    "def euler_limit(n):\n",
    "    ## input: positive integer number\n",
    "    ## output: estimate of euler's number\n",
    "    \n",
    "    e = (1+(1/n))**n\n",
    "    return e\n",
    "\n",
    "print(euler_limit(10))"
   ]
  },
  {
   "cell_type": "markdown",
   "metadata": {},
   "source": [
    "\n",
    "### Part 2: As n Approaches Infinity\n",
    "\n",
    "While this function works in theory, the way that this equation is computed in Python when the input is a larger ineteger gives an unsatisfactory answer."
   ]
  },
  {
   "cell_type": "code",
   "execution_count": 7,
   "metadata": {},
   "outputs": [
    {
     "data": {
      "text/plain": [
       "1.0"
      ]
     },
     "execution_count": 7,
     "metadata": {},
     "output_type": "execute_result"
    }
   ],
   "source": [
    "euler_limit(1e16)"
   ]
  },
  {
   "cell_type": "markdown",
   "metadata": {},
   "source": [
    "The (1/n) part of the function will become increasingly small as n becomes increasing big. In mathematics, this number approaches zero but never becomes zero, but here (1/n) becomes zero. The equation is then calculated as 1^n which will always be 1.\n",
    "\n",
    "### Part 3: Sum Approach\n",
    "\n",
    "Another method to estimate Euler's number is an infinite sum of inverted factorials."
   ]
  },
  {
   "cell_type": "code",
   "execution_count": 8,
   "metadata": {},
   "outputs": [],
   "source": [
    "# load math module for factorials (and later the euler's number representation in Python)\n",
    "import math\n",
    "\n",
    "# this function estimates euler's number as the sum of inverted factorials\n",
    "def euler_sum(n):\n",
    "    ## input: positive integer number\n",
    "    ## output: estimate of euler's number\n",
    "    \n",
    "    e = 0\n",
    "    while n>0:\n",
    "        e = e + (1/math.factorial(n-1))\n",
    "        n = n-1\n",
    "    return e\n",
    "\n",
    "print(euler_sum(10))"
   ]
  },
  {
   "cell_type": "markdown",
   "metadata": {},
   "source": [
    "\n",
    "### Part 4: Sum Approximation within Error Bound\n",
    "\n",
    "Below is a function that utilizes the euler_sum function until the approximation reaches an acceptable error bound of one epsilon above or below the actual Euler's number (or at least the representation provided by Python)."
   ]
  },
  {
   "cell_type": "code",
   "execution_count": 9,
   "metadata": {},
   "outputs": [],
   "source": [
    "# this function estimates euler's number by the sum approach within a certain error bound by the input epsilon\n",
    "def euler_approx(epsilon):\n",
    "    ## input: positive number epsilon as an error bound for the estimation of euler's number\n",
    "    ## output: estimate of euler's number\n",
    "    \n",
    "    e = 0\n",
    "    n = 0\n",
    "    while e > math.exp(1)+epsilon or e < math.exp(1)-epsilon:\n",
    "        e = euler_sum(n)\n",
    "        n = n+1\n",
    "    return e\n",
    "\n",
    "print(euler_approx(0.1))"
   ]
  },
  {
   "cell_type": "markdown",
   "metadata": {},
   "source": [
    "\n",
    "### Part 5: Quality of Approximation\n",
    "\n",
    "Below are two functions to calculate and display the difference between the actual Euler's number and the approximation, in effect showing the quality of these approximations."
   ]
  },
  {
   "cell_type": "code",
   "execution_count": 19,
   "metadata": {},
   "outputs": [],
   "source": [
    "# this function uses euler_sum to show how close the approximation comes to the actual number for a range of iterations\n",
    "def print_euler_sum_table(n):\n",
    "    ## input: positive integer of iterations\n",
    "    ## output: difference between the actual number and approximation\n",
    "    \n",
    "    for i in range(n):\n",
    "        print(math.exp(1)-euler_sum(i))\n",
    "        \n",
    "        \n",
    "# this function uses euler_sum to show how close the approximation comes to the actual number for a range of iterations\n",
    "def print_euler_lim_table(n):\n",
    "    ## input: positive integer of iterations\n",
    "    ## output: difference between the actual number and approximation\n",
    "    \n",
    "    for i in range(n):\n",
    "        print(math.exp(1)-euler_limit(i+1))"
   ]
  },
  {
   "cell_type": "markdown",
   "metadata": {},
   "source": [
    "\n",
    "### Part 6: Comparing Sum Approach and Limit Approach\n",
    "\n",
    "The two approaches were tested using the print_euler_sum_table and print_euler_lim_table functions to see how close these approximations come to the actual Euler's number within some arbitrary number of iterations. Since both of these approaches require some part approaching infinity, a greater number of these iterations should give a closer approximation to the actual number. Below, 10 iterations were shown and the difference between the actual and approximation displayed."
   ]
  },
  {
   "cell_type": "code",
   "execution_count": 20,
   "metadata": {},
   "outputs": [
    {
     "name": "stdout",
     "output_type": "stream",
     "text": [
      "2.718281828459045\n",
      "1.718281828459045\n",
      "0.7182818284590451\n",
      "0.2182818284590451\n",
      "0.05161516179237857\n",
      "0.009948495125712054\n",
      "0.0016151617923783057\n",
      "0.0002262729034896438\n",
      "2.7860205076724043e-05\n",
      "3.058617775497652e-06\n"
     ]
    }
   ],
   "source": [
    "print_euler_sum_table(10)"
   ]
  },
  {
   "cell_type": "code",
   "execution_count": 21,
   "metadata": {},
   "outputs": [
    {
     "name": "stdout",
     "output_type": "stream",
     "text": [
      "0.7182818284590451\n",
      "0.4682818284590451\n",
      "0.3479114580886753\n",
      "0.2768755784590451\n",
      "0.22996182845904567\n",
      "0.19665545671693163\n",
      "0.17178213141833298\n",
      "0.1524973145086972\n",
      "0.13710703674584668\n",
      "0.12453936835904278\n"
     ]
    }
   ],
   "source": [
    "print_euler_lim_table(10)"
   ]
  },
  {
   "cell_type": "markdown",
   "metadata": {},
   "source": [
    "The first 4 iterations suggest that the limit approach is better at approximating Euler's number, but this approximation shortly stagnates. Afterwards, the sum approach proves to be a much better approximation as it nearly exactly matches the actual number by the 10th iteration and will most likely comes even closer by the 11th iteration.\n",
    "\n",
    "\n",
    "## Problem 4: The Power of a Number\n",
    "(Approximately 30 min)\n",
    "\n",
    "### Part 1: Power of 2\n",
    "\n",
    "The function below finds whether a positive integer is a power of 2."
   ]
  },
  {
   "cell_type": "code",
   "execution_count": 50,
   "metadata": {},
   "outputs": [
    {
     "name": "stdout",
     "output_type": "stream",
     "text": [
      "False\n",
      "True\n"
     ]
    }
   ],
   "source": [
    "def is_power_of_2(n):\n",
    "    if n==1:\n",
    "        return True\n",
    "    else:\n",
    "        if n%2 != 0:\n",
    "            return False\n",
    "        else:\n",
    "            return is_power_of_2(n//2)\n",
    "\n",
    "print(is_power_of_2(10))\n",
    "print(is_power_of_2(16))"
   ]
  },
  {
   "cell_type": "markdown",
   "metadata": {},
   "source": [
    "\n",
    "### Part 2: Power of Number\n",
    "\n",
    "The function below finds whether a positive integer (n) is a power of some chosen number (b)."
   ]
  },
  {
   "cell_type": "code",
   "execution_count": 51,
   "metadata": {},
   "outputs": [
    {
     "name": "stdout",
     "output_type": "stream",
     "text": [
      "True\n",
      "False\n"
     ]
    }
   ],
   "source": [
    "def is_power(b,n):\n",
    "    if n==1:\n",
    "        return True\n",
    "    else:\n",
    "        if n%b != 0:\n",
    "            return False\n",
    "        else:\n",
    "            return is_power(b, n//b)\n",
    "\n",
    "print(is_power(3,27))\n",
    "print(is_power(10, 1200))"
   ]
  }
 ],
 "metadata": {
  "kernelspec": {
   "display_name": "Python 3",
   "language": "python",
   "name": "python3"
  },
  "language_info": {
   "codemirror_mode": {
    "name": "ipython",
    "version": 3
   },
   "file_extension": ".py",
   "mimetype": "text/x-python",
   "name": "python",
   "nbconvert_exporter": "python",
   "pygments_lexer": "ipython3",
   "version": "3.7.6"
  }
 },
 "nbformat": 4,
 "nbformat_minor": 4
}
