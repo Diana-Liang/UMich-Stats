{
 "cells": [
  {
   "cell_type": "markdown",
   "metadata": {
    "colab_type": "text",
    "id": "ZhHD4J_XLCBv"
   },
   "source": [
    "# Homework 4: numpy and matplotlib\n",
    "dliangia@umich\n",
    "\n",
    "\n",
    "\n",
    "\n",
    "I took 2 hours for problem 1. I took 3 hours for problem 2. I took 3 hours for problem 3."
   ]
  },
  {
   "cell_type": "markdown",
   "metadata": {
    "colab_type": "text",
    "id": "HhqZ-jt5LSH3"
   },
   "source": [
    "## Submission Instructions"
   ]
  },
  {
   "cell_type": "markdown",
   "metadata": {
    "colab_type": "text",
    "id": "IypooG19LlDc"
   },
   "source": [
    "Your homework solutions should be written in this jupyter notebook file. You should submit your solutions via Canvas as a zip file called __yourUniqueName_hwX.zip__, where X is the homework number. So, if I were to hand in a file for homework 4, it would be called __regier_hw4.zip__.\n",
    "\n",
    "When I extract your compressed file, the result should be a directory, also called __yourUniqueName_hwX__. In that directory, at a minimum, should be a jupyter notebook file, called __yourUniqueName.hwX.ipynb__, where again X is the number of the current homework.\n",
    "You should feel free to define supplementary functions in other Python scripts, which you should include in your compressed directory.\n",
    "So, for example, if the code in your notebook file imports a function from a Python file called __supplementary.py__, then the file __supplementary.py__ should be included in your submission. In short, I should be able to extract your archived file and run your notebook file on my own machine by opening it in jupyter and clicking, for example, __Cells->Run__ all. Please ensure that none of the code in your submitted notebook file results in errors. Errors in your code cause problems for our auto-grader. Thus, even though we frequently ask you to check for errors in your functions, you should not include in your submission any examples of your functions\n",
    "actually raising those errors.\n",
    "\n",
    "Please include in your notebook file a list of any and all people with whom you discussed this homework assignment. Even if you discussed the assignment with others, your homework submission must not trigger the MOSS plagerism detector. Finally, please also include an estimate of how many hours you spent on each of the sections of this homework assignment."
   ]
  },
  {
   "cell_type": "code",
   "execution_count": 1,
   "metadata": {
    "colab": {
     "base_uri": "https://localhost:8080/",
     "height": 150
    },
    "colab_type": "code",
    "executionInfo": {
     "elapsed": 454,
     "status": "ok",
     "timestamp": 1580254543910,
     "user": {
      "displayName": "Zi Wang",
      "photoUrl": "",
      "userId": "11486725180904698367"
     },
     "user_tz": 300
    },
    "id": "rXbprqlPb-zU",
    "outputId": "442fde86-2357-4b04-c2e9-58b7c5648fe4"
   },
   "outputs": [],
   "source": [
    "%load_ext pycodestyle_magic\n",
    "%pycodestyle_on"
   ]
  },
  {
   "cell_type": "code",
   "execution_count": 2,
   "metadata": {},
   "outputs": [],
   "source": [
    "import numpy as np"
   ]
  },
  {
   "cell_type": "markdown",
   "metadata": {
    "colab_type": "text",
    "id": "tLEjz4sALypC"
   },
   "source": [
    "## 1  Warmup: Around the Semicircular Law (6 points)"
   ]
  },
  {
   "cell_type": "markdown",
   "metadata": {
    "colab_type": "text",
    "id": "9O86vsfFNvFB"
   },
   "source": [
    "The (comparatively) young field of random matrix theory (RMT) concerns the behavior of certain matrices with independent random entries.\n",
    "A landmark result in RMT concerns the behavior of the eigenvalues of a random symmetric matrix with normal entries. Under the proper scaling, the joint distribution of the eigenvalues of such a matrix follows the Wigner semicircular distribution, which has density\n",
    "\\begin{equation} \n",
    "f(x) = \\begin{cases} \\frac{ \\sqrt{4-x^2} }{ 2\\pi }\n",
    "\t\t\t&\\mbox{ if } -2 \\le x \\le 2 \\\\\n",
    "\t\t0 &\\mbox{ otherwise.} \\end{cases}\n",
    "\\end{equation}\n",
    "That is, a symmetric matrix with random normal entries will have eigenvalues whose histogram looks more and more like a semicircle of radius $2$ as $n$ increases to $\\infty$. In particular, define a matrix-valued random variable $Z \\in R^{n \\times n}$ by generating\n",
    "$Z_{i,j}$ i.i.d. normal with mean $0$ and variance $1/n$ for all $1 \\le i \\le j \\le n$, and set $Z_{j,i} = Z_{i,j}$ for $1 \\le j \\le i \\le n$. Then the matrix $Z \\in R^{n \\times n}$ is called a Wigner matrix."
   ]
  },
  {
   "cell_type": "markdown",
   "metadata": {
    "colab_type": "text",
    "id": "cE-U3ZboPbpW"
   },
   "source": [
    "1. Define a function __wigner_density__ that takes a single number (integer or float) as its input and returns a float as its output, given by the value of the semicircular density evaluated at the input. That is, for a number x, __wigner_density(x)__ should return $f(x)$, where $f$ is defined above in the Equation. You do not need to perform any error checking in this function, but note that your function should operate equally well on Python ints/floats and on __numpy__ ints/floats, and you should be able to accomplish this without checking the type of the input. Use the __numpy.sqrt__ function for the square root, not the Python __math.sqrt__ function."
   ]
  },
  {
   "cell_type": "code",
   "execution_count": 5,
   "metadata": {
    "colab": {},
    "colab_type": "code",
    "id": "E38jTPADLDb3"
   },
   "outputs": [],
   "source": [
    "import math\n",
    "\n",
    "\n",
    "def wigner_density(x):\n",
    "    f = ((4-x**2)**(1/2))/(2*math.pi)\n",
    "    return f"
   ]
  },
  {
   "cell_type": "code",
   "execution_count": 6,
   "metadata": {
    "colab": {
     "base_uri": "https://localhost:8080/",
     "height": 34
    },
    "colab_type": "code",
    "executionInfo": {
     "elapsed": 584,
     "status": "ok",
     "timestamp": 1580252461082,
     "user": {
      "displayName": "Zi Wang",
      "photoUrl": "",
      "userId": "11486725180904698367"
     },
     "user_tz": 300
    },
    "id": "DI_Zeb4VVk78",
    "outputId": "6865c85e-90d2-48a7-b083-b561f2cb5559"
   },
   "outputs": [
    {
     "data": {
      "text/plain": [
       "True"
      ]
     },
     "execution_count": 6,
     "metadata": {},
     "output_type": "execute_result"
    }
   ],
   "source": [
    "wigner_density(2) == 0"
   ]
  },
  {
   "cell_type": "markdown",
   "metadata": {
    "colab_type": "text",
    "id": "MewYI_XXm91q"
   },
   "source": [
    "2.  Define a function __generate_wigner__ that takes a single positive integer $n$ as its argument and returns a random $n$-by-$n$ Wigner matrix. Your function should raise an appropriate error in the event that the input is not an integer or if it is not positive. The output of your function may be either a __numpy__ matrix or simply a __numpy__ array. I would slightly recommend the former, for ease of use in the next subproblem. You can cast a 2-dimensional __numpy__ array a to a matrix by writing __np.matrix(a)__. __Hint:__ depending on the solution you choose, you may find the __numpy.triu__ and __numpy.tril__ functions to be useful. A different solution makes use of the __scipy.spatial.distance.squareform__ function."
   ]
  },
  {
   "cell_type": "code",
   "execution_count": 7,
   "metadata": {
    "colab": {},
    "colab_type": "code",
    "id": "Pxw8U895nE0l"
   },
   "outputs": [],
   "source": [
    "def generate_wigner(n):\n",
    "    if type(n) is not int:\n",
    "        raise TypeError(\"Input is not integer\")\n",
    "    elif n < 1:\n",
    "        raise ValueError(\"Input is not a positive integer\")\n",
    "    x = np.random.normal(0, (1/n), (n*n))\n",
    "    mat = np.reshape(x, (n, n))\n",
    "    mat = np.matrix(np.tril(mat))\n",
    "    for i in range(n):\n",
    "        for j in range(n):\n",
    "            if i < j:\n",
    "                mat[i, j] = mat[j, i]\n",
    "            else:\n",
    "                next\n",
    "    return mat"
   ]
  },
  {
   "cell_type": "markdown",
   "metadata": {
    "colab_type": "text",
    "id": "R3kQccEvnbwH"
   },
   "source": [
    "3. The RMT result referenced above states that the joint distribution of the eigenvalues of a random Wigner matrix converges to the semicircular law. Write a function __get_spectrum__ that takes a __numpy__ matrix or 2-dimensional __numpy__ array and returns a __numpy__ array of its eigenvalues in non-decreasing order. You do not need to perform any error checking for this function. You fill find the following documentation useful: https://docs.scipy.org/doc/numpy/reference/generated/numpy.linalg.eigh.html#numpy.linalg.eigh."
   ]
  },
  {
   "cell_type": "code",
   "execution_count": 9,
   "metadata": {
    "colab": {},
    "colab_type": "code",
    "id": "IE_NwEl0nm84"
   },
   "outputs": [],
   "source": [
    "def get_spectrum(matrix):\n",
    "    x = np.linalg.eigh(matrix)[0]\n",
    "    return x"
   ]
  },
  {
   "cell_type": "code",
   "execution_count": 10,
   "metadata": {
    "colab": {
     "base_uri": "https://localhost:8080/",
     "height": 34
    },
    "colab_type": "code",
    "executionInfo": {
     "elapsed": 1239,
     "status": "ok",
     "timestamp": 1580253034903,
     "user": {
      "displayName": "Zi Wang",
      "photoUrl": "",
      "userId": "11486725180904698367"
     },
     "user_tz": 300
    },
    "id": "-oF2bAdhaBTV",
    "outputId": "bebb5402-c0a3-4f3a-eabc-d1ed139b597e",
    "scrolled": true
   },
   "outputs": [
    {
     "name": "stdout",
     "output_type": "stream",
     "text": [
      "[ True  True  True]\n"
     ]
    }
   ],
   "source": [
    "print(get_spectrum(np.diag([1, 2, 5])) == np.array([1, 2, 5]))"
   ]
  },
  {
   "cell_type": "markdown",
   "metadata": {
    "colab_type": "text",
    "id": "sbsXWI0fnwle"
   },
   "source": [
    "4. Create a plot with four subplots, arranged vertically, each showing a (normalized) histogram, in blue, of the eigenvalues of a\n",
    "\trandom $n$-by-$n$ Wigner matrix for $n=100,200,500$ and $1000$. In each subplot, overlay a red curve indicating the density of the\n",
    "\tsemicircular law, as defined in the Equation.\n",
    "\n",
    "\t__Hint:__ depending on how you implemented __wigner_density__ above, you may find the __numpy.vectorize__ function helpful.\n",
    "\n",
    "\tHow big does $n$ have to be before the semicircular law appears to be a good fit? Of course, in practice, we would answer this question more rigorously with, for example, a Kolmogorov-Smirnov test, which you can find in the __scipy.stats__ module, but that is entirely optional. __Note:__ this experiment involves some matrix eigenvalue computations, which are comparatively expensive. If you set $n$ larger than about $5000$, be prepared to wait a few minutes for your answer, especially if you are running on a laptop."
   ]
  },
  {
   "cell_type": "code",
   "execution_count": 11,
   "metadata": {},
   "outputs": [],
   "source": [
    "import matplotlib as mpl\n",
    "import matplotlib.pyplot as plt\n",
    "from matplotlib.colors import ListedColormap\n",
    "%matplotlib inline"
   ]
  },
  {
   "cell_type": "code",
   "execution_count": 16,
   "metadata": {
    "scrolled": true
   },
   "outputs": [
    {
     "data": {
      "image/png": "[encoded data removed]",
      "text/plain": [
       "<Figure size 432x288 with 4 Axes>"
      ]
     },
     "metadata": {
      "needs_background": "light"
     },
     "output_type": "display_data"
    }
   ],
   "source": [
    "w_d = np.vectorize(wigner_density)\n",
    "plot_label = ('100 Eigen', '200 Eigen', '500 Eigen', '1000 Eigen')\n",
    "n = (100, 200, 500, 1000)\n",
    "subplt = (221, 222, 223, 224)\n",
    "for i in range(4):\n",
    "    mat = generate_wigner(n[i])\n",
    "    eig = get_spectrum(mat)\n",
    "    x = np.array(mat).flatten()\n",
    "    x = np.sort(x)\n",
    "    plt.subplot(subplt[i])\n",
    "    plt.hist(eig, 50, density=False, facecolor='blue', label=plot_label[i])\n",
    "    plt.plot(x, w_d(x), 'r', label='Wigner Density')\n",
    "    plt.legend(loc='best')"
   ]
  },
  {
   "cell_type": "code",
   "execution_count": 20,
   "metadata": {},
   "outputs": [
    {
     "data": {
      "text/plain": [
       "[<matplotlib.lines.Line2D at 0x1edbd0bc888>]"
      ]
     },
     "execution_count": 20,
     "metadata": {},
     "output_type": "execute_result"
    },
    {
     "data": {
      "image/png": "[encoded data removed]",
      "text/plain": [
       "<Figure size 432x288 with 1 Axes>"
      ]
     },
     "metadata": {
      "needs_background": "light"
     },
     "output_type": "display_data"
    }
   ],
   "source": [
    "mat = generate_wigner(5000)\n",
    "eig = get_spectrum(mat)\n",
    "x = np.array(mat).flatten()\n",
    "x = np.sort(x)\n",
    "plt.hist(eig, 50, density=False, facecolor='blue', label='Eigen')\n",
    "plt.plot(x, w_d(x), 'r', label='Wigner Density')"
   ]
  },
  {
   "cell_type": "markdown",
   "metadata": {
    "colab_type": "text",
    "id": "xKzRuJTWoGHG"
   },
   "source": [
    "## 2 Plotting a Mixture of Normals (6 points)\n",
    "The whole reason that we use plotting software is to visualize the data that we are working with, so let's do that. The file __points.dlm__ is a tab-delimited file (__.dlm__ stands for “delimited”). Such a format is common when writing reasonably small files, and is useful if you expect to use a data set across different programs or platforms. See the documentation for the command __numpy.loadtxt__ to see how\n",
    "to read this file. The file __labels.npy__ is a numpy binary file, representing a __numpy__ object. The __.npy__ file format is specific to __numpy__. Many languages (e.g., R and MATLAB) have their own such language-specific file formats for saving variables, workspaces, etc. These formats tend to be more space-efficient, typically at the cost of program-dependence. It is best to avoid such files if you expect to deal with the same data set in several different environments (e.g., you run experiments in MATLAB and do your statistical analysis in R). __.npy__ files are opened using __numpy.load__. \n",
    "\n",
    "The observations in my experiment were generated from a distribution that is _approximately_ normal, but not precisely so. Let's explore how well the normal approximation holds."
   ]
  },
  {
   "cell_type": "markdown",
   "metadata": {
    "colab_type": "text",
    "id": "EX1HtY_IoLkA"
   },
   "source": [
    "1. Download the .npy and .dlm file, and read the two files into __numpy__. Please include both __labels.npy__ and __points.dlm__ in your final submission. The former of these should yield a __numpy__ array of $0$s and $1$s, and the latter should yield a $100$-by-$2$ __numpy__ array, in which each row corresponds to a $2$-dimensional point. The $i$-th entry of the array in __labels.npy__ corresponds to the cluster membership label of the $i$-th row of the matrix stored in __points.dlm__."
   ]
  },
  {
   "cell_type": "code",
   "execution_count": 22,
   "metadata": {
    "colab": {},
    "colab_type": "code",
    "id": "PhqbAuL3dTgC"
   },
   "outputs": [],
   "source": [
    "labels = np.load('labels.npy')\n",
    "points = np.loadtxt('points.dlm')"
   ]
  },
  {
   "cell_type": "markdown",
   "metadata": {
    "colab_type": "text",
    "id": "ltKrAiRBdoC1"
   },
   "source": [
    "2. Generate a scatter plot of the data. Each data point should appear as an __x__ (often called a _cross_ in data visualization packages), colored according to its cluster membership as given by __points.npy__. The points with cluster label $0$ should be colored blue, and those with cluster label $1$ should be colored red. Set the x and y axes to both range from 0 to 1. Adjust the size of the point markers to what you believe to be reasonable (i.e., aesthetically pleasing, visible, etc)."
   ]
  },
  {
   "cell_type": "code",
   "execution_count": 23,
   "metadata": {},
   "outputs": [],
   "source": [
    "index0 = []\n",
    "index1 = []\n",
    "for i in range(100):\n",
    "    if labels[i] == 0:\n",
    "        index0.append(i)\n",
    "    elif labels[i] == 1:\n",
    "        index1.append(i)\n",
    "    else:\n",
    "        next"
   ]
  },
  {
   "cell_type": "code",
   "execution_count": 25,
   "metadata": {},
   "outputs": [
    {
     "data": {
      "image/png": "[encoded data removed]",
      "text/plain": [
       "<Figure size 432x288 with 1 Axes>"
      ]
     },
     "metadata": {
      "needs_background": "light"
     },
     "output_type": "display_data"
    }
   ],
   "source": [
    "plt.xlim([0, 1])\n",
    "plt.ylim([0, 1])\n",
    "plt.plot(points[index0, 0], points[index0, 1], 'bx', label=\"Label 0\")\n",
    "plt.plot(points[index1, 0], points[index1, 1], 'rx', label=\"Label 1\")\n",
    "_ = plt.legend(loc='best')"
   ]
  },
  {
   "cell_type": "markdown",
   "metadata": {
    "colab_type": "text",
    "id": "Kj3uzCgveBsg"
   },
   "source": [
    "3. Theoretically, the data should approximate a mixture of normals with means and covariance matrices given by \n",
    "$$ \\mu_0 = (0.2 , 0.7)^T,\n",
    "        \\Sigma_0 = \\begin{bmatrix} 0.015 & -0.011 \\\\\n",
    "                          -0.011  & 0.018 \n",
    "                          \\end{bmatrix}, $$\n",
    "$$ \\mu_1 = (0.65, 0.3)^T,\n",
    "        \\Sigma_1 = \\begin{bmatrix} 0.016 & -0.011 \\\\\n",
    "                          -0.011 & 0.016 \n",
    "                          \\end{bmatrix}. $$\n",
    "For each of these two normal distributions, add two contour lines corresponding to 1 and 2 \"standard deviations\" of the distribution. We will take the 1-standard deviation contour to be the level set (which is an ellipse) of the normal distribution that encloses probability mass 0.68 of the distribution, and the 2-standard deviation contour to be the level set that encloses probability mass 0.95 of the distribution. The contour lines for cluster $0$ should be colored blue, and the lines for cluster $1$ should be colored red. The contour lines will go off the edge of the 1-by-1 square that we have plotted. Do not worry about that. __Hint:__ these ellipses are really just confidence regions given by\n",
    "$$ (x-\\mu)^T \\Sigma^{-1} (x - \\mu) \\le \\chi^2_2(p), $$\n",
    "where $p$ is a probability and $\\chi^2_d$ is the quantile function for the $\\chi^2$ distribution with $d$ degrees of freedom. __Hint:__ use the optional argument __levels__ for the __pyplot.contour__ function."
   ]
  },
  {
   "cell_type": "code",
   "execution_count": 26,
   "metadata": {},
   "outputs": [],
   "source": [
    "import scipy.stats"
   ]
  },
  {
   "cell_type": "code",
   "execution_count": 28,
   "metadata": {
    "colab": {},
    "colab_type": "code",
    "id": "s54UgfG5d_qj"
   },
   "outputs": [],
   "source": [
    "# label 0\n",
    "mu0 = np.array([0.2, 0.7])\n",
    "sigma0 = np.array([[0.015, -0.011], [-0.011, 0.018]])\n",
    "mvn0 = scipy.stats.multivariate_normal(mu0, sigma0)\n",
    "# label 1\n",
    "mu1 = np.array([0.65, 0.3])\n",
    "sigma1 = np.array([[0.016, -0.011], [-0.011, 0.016]])\n",
    "mvn1 = scipy.stats.multivariate_normal(mu1, sigma1)"
   ]
  },
  {
   "cell_type": "code",
   "execution_count": 41,
   "metadata": {},
   "outputs": [
    {
     "data": {
      "image/png": "[encoded data removed]",
      "text/plain": [
       "<Figure size 432x288 with 1 Axes>"
      ]
     },
     "metadata": {
      "needs_background": "light"
     },
     "output_type": "display_data"
    }
   ],
   "source": [
    "x, y = np.mgrid[0:1:0.01, 0:1:0.01]\n",
    "pos = np.empty(x.shape + (2, ))\n",
    "pos[:, :, 0] = x\n",
    "pos[:, :, 1] = y\n",
    "plt.plot(points[index0, 0], points[index0, 1], 'bx', label=\"Label 0\")\n",
    "plt.contour(x, y, mvn0.pdf(pos), levels=[0.68, 0.95], colors='blue')\n",
    "plt.plot(points[index1, 0], points[index1, 1], 'rx', label=\"Label 1\")\n",
    "plt.contour(x, y, mvn1.pdf(pos), levels=[.68, .95], colors='red')\n",
    "_ = plt.legend(loc='best')"
   ]
  },
  {
   "cell_type": "markdown",
   "metadata": {
    "colab_type": "text",
    "id": "lXSZL8moeEGL"
   },
   "source": [
    "4. Do the data appear normal? There should be at least one obvious outlier. Add an annotation to your figure indicating one or more such outlier(s)."
   ]
  },
  {
   "cell_type": "markdown",
   "metadata": {
    "colab": {},
    "colab_type": "code",
    "id": "E3ZUy0c7eFC3"
   },
   "source": [
    "Answer:"
   ]
  },
  {
   "cell_type": "code",
   "execution_count": 47,
   "metadata": {},
   "outputs": [
    {
     "data": {
      "image/png": "[encoded data removed]",
      "text/plain": [
       "<Figure size 432x288 with 1 Axes>"
      ]
     },
     "metadata": {
      "needs_background": "light"
     },
     "output_type": "display_data"
    }
   ],
   "source": [
    "# Add an annotation to your figure indicating one or more such outlier(s):\n",
    "plt.plot(points[index0, 0], points[index0, 1], 'bx', label=\"Label 0\")\n",
    "plt.contour(x, y, mvn0.pdf(pos), levels=[0.68, 0.95], colors='blue')\n",
    "plt.plot(points[index1, 0], points[index1, 1], 'rx', label=\"Label 1\")\n",
    "plt.contour(x, y, mvn1.pdf(pos), levels=[.68, .95], colors='red')\n",
    "plt.annotate(\"Outlier\", xy=(0.99, 0.25), xytext=(0.8, 0.6),\n",
    "             fontsize=12, arrowprops=dict(facecolor='black', shrink=0.02))\n",
    "_ = plt.show()"
   ]
  },
  {
   "cell_type": "markdown",
   "metadata": {
    "colab_type": "text",
    "id": "E0d4e94hfZPO"
   },
   "source": [
    "## 3. Conway's Game of Life (8 points)\n",
    "Conway's Game of Life (__https://en.wikipedia.org/wiki/Conway%27s_Game_of_Life__) is a classic example of a _cellular automaton_ devised by mathematician John Conway. The game is a classic example of how simple rules can give rise to complex behavior. The game is played on an $m$-by-$n$ board, which we will represent as an $m$-by-$n$ matrix. The game proceeds in steps. At any given time, each cell of the board (i.e., entry of our matrix), is either alive (which we will represent as a $1$) or dead (which we will represent as a $0$).\n",
    "At each step, the board evolves according to a few simple rules:\n",
    "\n",
    "- A live cell with fewer than two live neighbors becomes a dead cell.\n",
    "- A live cell with more than three live neighbors becomes a dead cell.\n",
    "- A live cell with two or three live neighbors remains alive.\n",
    "- A dead cell with _exactly_ three live neighbors becomes alive.\n",
    "- All other dead cells remain dead.\n",
    "\n",
    "The neighbors of a cell are the 8 cells adjacent to it, i.e., left, right, above, below, upper-left, lower-left, upper-right and lower-right. We will follow the convention that the board is _toroidal_, so that using matrix-like notation (i.e., the cell $(0,0)$ is in the upper-left of the board and the first coordinate specifies a row), the upper neighbor of the cell $(0,0)$ is $(m-1,0)$, the right neighbor of the cell $(m-1,n-1)$ is $(m-1,0)$, etc. That is, the board \"wraps around\". __Note:__ you are not required to use this matrix-like indexing. It's just what I chose to use to explain the toroidal property."
   ]
  },
  {
   "cell_type": "markdown",
   "metadata": {
    "colab_type": "text",
    "id": "8ODi8Mr4ft30"
   },
   "source": [
    "1. Write a function __is_valid_board__ that takes an $m$-by-$n$ __numpy__ array (i.e., an __ndarray__) as its only argument and returns a Python Boolean that is __True__ if and only if the argument is a valid representation of a Game of Life board. A valid board is any two-dimensional numpy __ndarray__ of integers with all entries either 0 or 1."
   ]
  },
  {
   "cell_type": "code",
   "execution_count": 92,
   "metadata": {
    "colab": {
     "base_uri": "https://localhost:8080/",
     "height": 150
    },
    "colab_type": "code",
    "executionInfo": {
     "elapsed": 597,
     "status": "ok",
     "timestamp": 1580254653871,
     "user": {
      "displayName": "Zi Wang",
      "photoUrl": "",
      "userId": "11486725180904698367"
     },
     "user_tz": 300
    },
    "id": "zrU-2W08ftNF",
    "outputId": "bffc7e36-76a4-4980-8a0e-827c45e647e4"
   },
   "outputs": [],
   "source": [
    "def is_valid_board(mat):\n",
    "    valid = False\n",
    "    if len(mat.shape) == 2 or type(mat) == np.ndarray:\n",
    "        if np.all(np.logical_or(mat == 0, mat == 1)) == True:\n",
    "            valid = True\n",
    "    return valid"
   ]
  },
  {
   "cell_type": "code",
   "execution_count": 93,
   "metadata": {},
   "outputs": [
    {
     "data": {
      "text/plain": [
       "[True, True]"
      ]
     },
     "execution_count": 93,
     "metadata": {},
     "output_type": "execute_result"
    }
   ],
   "source": [
    "[is_valid_board(np.array([1, 1, 1, 1]).reshape(2, 2)) == (True),\n",
    " is_valid_board(np.array([1, 1, 1, 1.1]).reshape(2, 2)) == (False)]"
   ]
  },
  {
   "cell_type": "markdown",
   "metadata": {
    "colab_type": "text",
    "id": "w8JgZGofhPVh"
   },
   "source": [
    "2. Write a function called __gol_step__ that takes an $m$-by-$n$ __numpy__ array as its argument and returns another __numpy__ array of the same size (i.e., also $m$-by-$n$), corresponding to the board at the next step of the game. Your function should perform error checking to ensure that the provided argument is a valid Game of Life board."
   ]
  },
  {
   "cell_type": "code",
   "execution_count": 133,
   "metadata": {
    "colab": {},
    "colab_type": "code",
    "id": "8sDRPTLZgMBT"
   },
   "outputs": [],
   "source": [
    "def gol_step(mat):\n",
    "    if is_valid_board(mat) == False:\n",
    "        raise TypeError(\"Input not a 2 dimensional array of 0s and 1s\")\n",
    "    (m,n) = mat.shape\n",
    "    new = np.zeros((m,n))\n",
    "    for i in range(m):\n",
    "        for j in range(n):\n",
    "            if i == 0:\n",
    "                up = m-1\n",
    "                down = i+1\n",
    "            elif i == (m-1):\n",
    "                up = i-1\n",
    "                down = 0\n",
    "            else:\n",
    "                up = i-1\n",
    "                down = i+1\n",
    "            if j == 0:\n",
    "                left = n-1\n",
    "                right = j+1\n",
    "            elif j == (n-1):\n",
    "                left = j-1\n",
    "                right = 0\n",
    "            else:\n",
    "                left = j-1\n",
    "                right = j+1\n",
    "            total = mat[up, j] + mat[down, j] + mat[i, left] + mat[i, right] + mat[up, left] + mat[up, right] + mat[down, left] + mat[down, right]\n",
    "            if mat[i,j] == 1:\n",
    "                if total > 3 or total < 2:\n",
    "                    new[i, j] = 0\n",
    "                else:\n",
    "                    new[i, j] = 1\n",
    "            else:\n",
    "                if total == 3:\n",
    "                    new[i, j] = 1\n",
    "                else:\n",
    "                    new[i, j] = 0\n",
    "    return(new)"
   ]
  },
  {
   "cell_type": "code",
   "execution_count": 134,
   "metadata": {},
   "outputs": [
    {
     "data": {
      "text/plain": [
       "True"
      ]
     },
     "execution_count": 134,
     "metadata": {},
     "output_type": "execute_result"
    }
   ],
   "source": [
    "myboard = np.array([1, 1, 1, 1,\n",
    "                    0, 0, 0, 1,\n",
    "                    0, 0, 0, 0,\n",
    "                    0, 1, 0, 0]).reshape(4, 4)\n",
    "myboardans = np.array([0, 1, 0, 1,\n",
    "                       0, 1, 0, 1,\n",
    "                       0, 0, 0, 0,\n",
    "                       0, 1, 0, 1]).reshape(4, 4)\n",
    "\n",
    "(gol_step(myboard) == myboardans).all()"
   ]
  },
  {
   "cell_type": "markdown",
   "metadata": {
    "colab_type": "text",
    "id": "FlH56tSthQd6"
   },
   "source": [
    "3. Write a function called __draw_gol_board__ that takes an $m$-by-$n$ __numpy__ array (i.e., an __ndarray__) as its only argument and draws the board as an $m$-by-$n$ set of tiles, colored black or white correspond to whether the corresponding cell is alive or dead, respectively. Your plot should _not_ have any grid lines, nor should it have any axis labels or axis ticks. __Hint:__ see the functions __plt.xticks()__ and __plt.yticks()__ for changing axis ticks. __Hint:__ you may find the function __plt.get_cmap__ to be useful for working with the __matplotlib__ __Colormap__ objects."
   ]
  },
  {
   "cell_type": "code",
   "execution_count": 252,
   "metadata": {
    "colab": {},
    "colab_type": "code",
    "id": "-5kO-fL_hQ5D"
   },
   "outputs": [],
   "source": [
    "def draw_gol_board(mat):\n",
    "    if is_valid_board(mat) == False:\n",
    "        raise TypeError(\"Input is not a 2 dimension array of 0s and 1s\")\n",
    "    cmap = ListedColormap(['w','k'])\n",
    "    plt.matshow(mat, cmap=cmap)\n",
    "    plt.xticks([])\n",
    "    plt.yticks([])"
   ]
  },
  {
   "cell_type": "code",
   "execution_count": 253,
   "metadata": {},
   "outputs": [
    {
     "data": {
      "image/png": "[encoded data removed]",
      "text/plain": [
       "<Figure size 288x288 with 1 Axes>"
      ]
     },
     "metadata": {},
     "output_type": "display_data"
    }
   ],
   "source": [
    "data = np.array([1, 0, 1, 1,\n",
    "              0, 1, 0, 1,\n",
    "              0, 0, 0, 0,\n",
    "              0, 1, 0, 0]).reshape(4, 4)\n",
    "draw_gol_board(data)"
   ]
  },
  {
   "cell_type": "markdown",
   "metadata": {
    "colab_type": "text",
    "id": "xHnqaO0XhTQS"
   },
   "source": [
    "4. Create a 20-by-20 numpy array corresponding to a Game of Life board in which all cells are dead, with the exception that the top-left 5-by-5 section of the board looks like this: \n",
    "<img src=\"./glider.png\">\n",
    "Plot this 20-by-20 board using __draw_gol_board__."
   ]
  },
  {
   "cell_type": "code",
   "execution_count": 263,
   "metadata": {},
   "outputs": [
    {
     "data": {
      "image/png": "[encoded data removed]",
      "text/plain": [
       "<Figure size 288x288 with 1 Axes>"
      ]
     },
     "metadata": {},
     "output_type": "display_data"
    }
   ],
   "source": [
    "data = np.array([0, 0, 0, 0, 0, 0, 0, 0, 0, 0, 0, 0, 0, 0, 0, 0, 0, 0, 0, 0,\n",
    "                 0, 0, 1, 0, 0, 0, 0, 0, 0, 0, 0, 0, 0, 0, 0, 0, 0, 0, 0, 0,\n",
    "                 0, 0, 0, 1, 0, 0, 0, 0, 0, 0, 0, 0, 0, 0, 0, 0, 0, 0, 0, 0,\n",
    "                 0, 1, 1, 1, 0, 0, 0, 0, 0, 0, 0, 0, 0, 0, 0, 0, 0, 0, 0, 0])\n",
    "data = np.append(data, np.zeros(20*16)).reshape((20,20))\n",
    "draw_gol_board(data)"
   ]
  },
  {
   "cell_type": "markdown",
   "metadata": {
    "colab_type": "text",
    "id": "WBKorfkchUSX"
   },
   "source": [
    "5. Generate a plot with 5 subplots, arranged in a 1-by-5 grid (i.e., horizontal array of 5 subplots), showing the first five steps of the Game of Life when started with the board you just created, with the steps ordered from left to right. The first plot should be the starting board just described, so that the first plot is the state of the board before we execute any steps. The figure in the 5-by-5 sub-board above is called a _glider_, and it is interesting in that, as you can see from your plot, it seems to move along the board as you run the game."
   ]
  },
  {
   "cell_type": "code",
   "execution_count": 270,
   "metadata": {},
   "outputs": [
    {
     "data": {
      "image/png": "[encoded data removed]",
      "text/plain": [
       "<Figure size 432x288 with 5 Axes>"
      ]
     },
     "metadata": {},
     "output_type": "display_data"
    }
   ],
   "source": [
    "first = gol_step(data)\n",
    "second = gol_step(first)\n",
    "third = gol_step(second)\n",
    "fourth = gol_step(third)\n",
    "fig = plt.figure()\n",
    "one = fig.add_subplot(151)\n",
    "one.matshow(data, cmap=cmap)\n",
    "two = fig.add_subplot(152)\n",
    "two.matshow(first, cmap=cmap)\n",
    "three = fig.add_subplot(153)\n",
    "three.matshow(second, cmap=cmap)\n",
    "four = fig.add_subplot(154)\n",
    "four.matshow(third, cmap=cmap)\n",
    "five = fig.add_subplot(155)\n",
    "five.matshow(fourth, cmap=cmap)\n",
    "plt.setp(plt.gcf().get_axes(), xticks=[], yticks=[])\n",
    "_ = plt.draw()"
   ]
  },
  {
   "cell_type": "markdown",
   "metadata": {},
   "source": [
    "__Optional additional exercise:__ create a function that takes two arguments, a Game of Life board and a number of steps, and generates an animation of the game as it runs for the given number of steps."
   ]
  },
  {
   "cell_type": "code",
   "execution_count": null,
   "metadata": {},
   "outputs": [],
   "source": []
  }
 ],
 "metadata": {
  "colab": {
   "authorship_tag": "ABX9TyMyvlJiZfABCLKw1zdQkUa3",
   "collapsed_sections": [],
   "name": "Homework 4.ipynb",
   "provenance": []
  },
  "kernelspec": {
   "display_name": "Python 3",
   "language": "python",
   "name": "python3"
  },
  "language_info": {
   "codemirror_mode": {
    "name": "ipython",
    "version": 3
   },
   "file_extension": ".py",
   "mimetype": "text/x-python",
   "name": "python",
   "nbconvert_exporter": "python",
   "pygments_lexer": "ipython3",
   "version": "3.7.6"
  }
 },
 "nbformat": 4,
 "nbformat_minor": 1
}
