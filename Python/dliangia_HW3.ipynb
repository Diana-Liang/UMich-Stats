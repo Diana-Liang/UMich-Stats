{
 "cells": [
  {
   "cell_type": "markdown",
   "metadata": {},
   "source": [
    "## Stats507 Homework 3, Winter 2020\n",
    "### Diana Liang\n",
    "#### dliangia@umich.edu\n",
    "\n",
    "1. Problem 1 took me 1 hour.\n",
    "2. Problem 2 took me 1 hour.\n",
    "3. Problem 3 took me 1.5 hours.\n",
    "4. Problem 4 took me 0.75 hours.\n",
    "5. Problem 5 took me 0.75 hours.\n",
    "6. Problem 6 took me 0.5 hours."
   ]
  },
  {
   "cell_type": "code",
   "execution_count": 1,
   "metadata": {},
   "outputs": [],
   "source": [
    "# you might need to install pycodestyle_magic and flake8\n",
    "%load_ext pycodestyle_magic\n",
    "%pycodestyle_on"
   ]
  },
  {
   "cell_type": "markdown",
   "metadata": {},
   "source": [
    "### Problem 1: Counting Word Bigrams\n",
    "1. Write a function count_bigrams_in_file that takes a filename as its only argument."
   ]
  },
  {
   "cell_type": "code",
   "execution_count": 2,
   "metadata": {},
   "outputs": [
    {
     "name": "stderr",
     "output_type": "stream",
     "text": [
      "8:5: E722 do not use bare 'except'\n"
     ]
    }
   ],
   "source": [
    "import string\n",
    "\n",
    "\n",
    "def count_bigrams_in_file(file_name):\n",
    "    # check if file is proper for function\n",
    "    try:\n",
    "        f = open(file_name)\n",
    "    except:\n",
    "        if type(file_name) is str:\n",
    "            raise ValueError(\"File cannot be opened\")\n",
    "        else:\n",
    "            raise TypeError(\"Input not a file name as string\")\n",
    "    # create a list of all the words\n",
    "    word_list = []\n",
    "    for line in f:\n",
    "        for word in line.split():\n",
    "            word = word.lower()\n",
    "            word = word.translate(str.maketrans('', '', string.punctuation))\n",
    "            word_list.append(word)\n",
    "    # create dictionary of word bigrams\n",
    "    d = dict()\n",
    "    for i in range(len(word_list)-1):\n",
    "        temp = (word_list[i], word_list[i+1])\n",
    "        if temp in d:\n",
    "            d[temp] += 1\n",
    "        else:\n",
    "            d[temp] = 1\n",
    "    f.close()\n",
    "    return d"
   ]
  },
  {
   "cell_type": "code",
   "execution_count": 3,
   "metadata": {},
   "outputs": [
    {
     "data": {
      "text/plain": [
       "True"
      ]
     },
     "execution_count": 3,
     "metadata": {},
     "output_type": "execute_result"
    }
   ],
   "source": [
    "with open('./test.txt', 'w') as f:\n",
    "    f.write('Half a league, half a league,\\n Half a league onward.')\n",
    "\n",
    "count_bigrams_in_file('test.txt') == {('a', 'league'): 3,\n",
    "                                      ('half', 'a'): 3,\n",
    "                                      ('league', 'half'): 2,\n",
    "                                      ('league', 'onward'): 1}"
   ]
  },
  {
   "cell_type": "markdown",
   "metadata": {},
   "source": [
    "2. Run your function on this file, and pickle the resulting dictionary in a file called mb.bigrams.pickle."
   ]
  },
  {
   "cell_type": "code",
   "execution_count": 4,
   "metadata": {},
   "outputs": [],
   "source": [
    "import pickle\n",
    "\n",
    "\n",
    "obj = count_bigrams_in_file('WandP.txt')\n",
    "new_file = open('mb.bigrams.pickle', 'wb')\n",
    "pickle.dump(obj, new_file)\n",
    "new_file.close()"
   ]
  },
  {
   "cell_type": "markdown",
   "metadata": {},
   "source": [
    "3. Write a function collocations that takes a file name as its only argument and returns a dictionary."
   ]
  },
  {
   "cell_type": "code",
   "execution_count": 5,
   "metadata": {},
   "outputs": [
    {
     "name": "stderr",
     "output_type": "stream",
     "text": [
      "4:5: E722 do not use bare 'except'\n"
     ]
    }
   ],
   "source": [
    "def collocations(file_name):\n",
    "    try:\n",
    "        f = open(file_name)\n",
    "    except:\n",
    "        if type(file_name) is str:\n",
    "            raise ValueError(\"File cannot be opened\")\n",
    "        else:\n",
    "            raise TypeError(\"Input not a file name as string\")\n",
    "    word_list = []\n",
    "    for line in f:\n",
    "        for word in line.split():\n",
    "            word = word.lower()\n",
    "            word = word.translate(str.maketrans('', '', string.punctuation))\n",
    "            word_list.append(word)\n",
    "    bigram = []\n",
    "    for i in range(len(word_list)-1):\n",
    "        temp = (word_list[i], word_list[i+1])\n",
    "        temp2 = (word_list[i+1], word_list[i])\n",
    "        bigram.append(temp)\n",
    "        bigram.append(temp2)\n",
    "    bigram = set(bigram)\n",
    "    d = dict()\n",
    "    for bg in bigram:\n",
    "        if bg[0] not in d:\n",
    "            d[bg[0]] = []\n",
    "        if bg[1] not in d[bg[0]]:\n",
    "            d[bg[0]].append(bg[1])\n",
    "    for each in d:\n",
    "        d[each] = set(d[each])\n",
    "    return d"
   ]
  },
  {
   "cell_type": "code",
   "execution_count": 6,
   "metadata": {},
   "outputs": [
    {
     "data": {
      "text/plain": [
       "True"
      ]
     },
     "execution_count": 6,
     "metadata": {},
     "output_type": "execute_result"
    }
   ],
   "source": [
    "collocations('test.txt') == {'half': {'league', 'a'},\n",
    "                             'a': {'half', 'league'},\n",
    "                             'league': {'onward', 'half', 'a'},\n",
    "                             'onward': {'league'}}"
   ]
  },
  {
   "cell_type": "markdown",
   "metadata": {},
   "source": [
    "4. Run your function on the file WandP.txt and pickle the resulting dictionary in a file called mb.colloc.pickle."
   ]
  },
  {
   "cell_type": "code",
   "execution_count": 7,
   "metadata": {},
   "outputs": [],
   "source": [
    "obj = collocations('WandP.txt')\n",
    "new_file = open('mb.colloc.pickle', 'wb')\n",
    "pickle.dump(obj, new_file)\n",
    "new_file.close()"
   ]
  },
  {
   "cell_type": "markdown",
   "metadata": {},
   "source": [
    "### Problem 2: More Fun with Vectors\n",
    "#### Define the class Vector in one code cell below, since class can't be declared several times."
   ]
  },
  {
   "cell_type": "code",
   "execution_count": 23,
   "metadata": {},
   "outputs": [],
   "source": [
    "class Vector:\n",
    "    '''Represents a vector'''\n",
    "\n",
    "    def __init__(self, dim=0, vt=()):\n",
    "        if type(dim) is not float and type(dim) is not int:\n",
    "            raise TypeError(\"dim is not numeric\")\n",
    "        if len(vt) != dim:\n",
    "            raise ValueError(\"dim does not fit length of Vector\")\n",
    "        self.dim = dim\n",
    "        self.vt = vt\n",
    "\n",
    "    def __eq__(self, other):\n",
    "        if self.dim != other.dim:\n",
    "            raise ValueError(\"Vectors have different dimensions\")\n",
    "        return(self.vt == other.vt)\n",
    "\n",
    "    def __lt__(self, other):\n",
    "        if self.dim != other.dim:\n",
    "            raise ValueError(\"Vectors have different dimensions\")\n",
    "        return(self.vt < other.vt)\n",
    "\n",
    "    def __gt__(self, other):\n",
    "        if self.dim != other.dim:\n",
    "            raise ValueError(\"Vectors have different dimensions\")\n",
    "        return(self.vt > other.vt)\n",
    "\n",
    "    def __le__(self, other):\n",
    "        if self.dim != other.dim:\n",
    "            raise ValueError(\"Vectors have different dimensions\")\n",
    "        return(self.vt <= other.vt)\n",
    "\n",
    "    def __ge__(self, other):\n",
    "        if self.dim != other.dim:\n",
    "            raise ValueError(\"Vectors have different dimensions\")\n",
    "        return(self.vt >= other.vt)\n",
    "\n",
    "    def dot(self, other):\n",
    "        if isinstance(other, Vector):\n",
    "            pass\n",
    "        else:\n",
    "            raise TypeError(\"Input is not a Vector\")\n",
    "        if self.dim != other.dim:\n",
    "            raise ValueError(\"Vectors have different dimensions\")\n",
    "        final = 0\n",
    "        for i in range(self.dim):\n",
    "            temp = self.vt[i] * other.vt[i]\n",
    "            final = final + temp\n",
    "        return final\n",
    "\n",
    "    def __mul__(self, other):\n",
    "        if isinstance(other, float) or isinstance(other, int):\n",
    "            final = tuple([x * other for x in self.vt])\n",
    "            return(Vector(self.dim, final))\n",
    "        elif isinstance(other, Vector):\n",
    "            if self.dim != other.dim:\n",
    "                raise ValueError(\"Vectors have different dimensions\")\n",
    "            else:\n",
    "                final = []\n",
    "                for i in range(self.dim):\n",
    "                    temp = self.vt[i] * other.vt[i]\n",
    "                    final.append(temp)\n",
    "                return(Vector(self.dim, tuple(final)))\n",
    "        else:\n",
    "            raise TypeError(\"Input cannot be multiplied with Vector\")\n",
    "\n",
    "    def __rmul__(self, other):\n",
    "        if isinstance(other, float) or isinstance(other, int):\n",
    "            final = tuple([x * other for x in self.vt])\n",
    "            return(Vector(self.dim, final))\n",
    "        elif isinstance(other, Vector):\n",
    "            if self.dim != other.dim:\n",
    "                raise ValueError(\"Vectors have different dimensions\")\n",
    "            else:\n",
    "                final = []\n",
    "                for i in range(self.dim):\n",
    "                    temp = self.vt[i] * other.vt[i]\n",
    "                    final.append(temp)\n",
    "                return(Vector(self.dim, tuple(final)))\n",
    "        else:\n",
    "            raise TypeError(\"Input cannot be multiplied with Vector\")\n",
    "\n",
    "    def norm(self, p):\n",
    "        if isinstance(p, int) and isinstance(p, float):\n",
    "            raise TypeError(\"Input is not numeric\")\n",
    "        if p < 0:\n",
    "            raise ValueError(\"Input is not non-negative\")\n",
    "        x = tuple(map(abs, self.vt))\n",
    "        if p == 0:\n",
    "            ones = 0\n",
    "            for i in self.vt:\n",
    "                if i != 0:\n",
    "                    ones += 1\n",
    "            return(float(ones))\n",
    "        elif p == float('inf'):\n",
    "            big = max(self.vt)\n",
    "            return(float(big))\n",
    "        else:\n",
    "            temp = tuple(map(lambda x: x**p, self.vt))\n",
    "            temp = sum(temp)**(1/p)\n",
    "            return(temp)"
   ]
  },
  {
   "cell_type": "markdown",
   "metadata": {},
   "source": [
    "2.2: The vector entries are a tuple since the exact position of each element matters in a vector."
   ]
  },
  {
   "cell_type": "markdown",
   "metadata": {},
   "source": [
    "2.3: The dimension and entries are instance attributes because they should be distinct to that specifically created vector rather to all the vectors created under this class."
   ]
  },
  {
   "cell_type": "code",
   "execution_count": 15,
   "metadata": {},
   "outputs": [
    {
     "name": "stdout",
     "output_type": "stream",
     "text": [
      "True\n",
      "True\n",
      "True\n",
      "True\n",
      "True\n",
      "True\n",
      "True\n",
      "True\n",
      "True\n",
      "True\n"
     ]
    }
   ],
   "source": [
    "# 2.1\n",
    "print(isinstance(Vector(3, (1, 2, 3)), Vector))\n",
    "\n",
    "# 2.4\n",
    "print((Vector(3, (1, 2, 3)) > Vector(3, (1, 2, 2))) == (True))\n",
    "print((Vector(3, (1, 2, 3)) >= Vector(3, (1, 2, 2))) == (True))\n",
    "print((Vector(3, (1, 2, 3)) < Vector(3, (1, 2, 2))) == (False))\n",
    "print((Vector(3, (1, 2, 3)) <= Vector(3, (1, 2, 2))) == (False))\n",
    "print((Vector(3, (1, 2, 3)) == Vector(3, (1, 2, 2))) == (False))\n",
    "\n",
    "# 2.5\n",
    "print((Vector(3, (1, 2, 3)).dot(Vector(3, (1, 2, 2)))) == 11.0)\n",
    "\n",
    "# 2.6\n",
    "print(2 * Vector(3, (1, 2, 3)) == Vector(3, (2, 4, 6)))\n",
    "print(Vector(3, (1, 2, 3)) * 2 == Vector(3, (2, 4, 6)))\n",
    "\n",
    "# 2.7\n",
    "print(Vector(3, (1, 2, 3)).norm(1) == 6.0)"
   ]
  },
  {
   "cell_type": "markdown",
   "metadata": {},
   "source": [
    "###  Problem 3: Iterators and Generators\n",
    "1. Define a class Fibo of iterators that enumerate the Fibonacci numbers."
   ]
  },
  {
   "cell_type": "code",
   "execution_count": 17,
   "metadata": {},
   "outputs": [],
   "source": [
    "class Fibo:\n",
    "    def __init__(self):\n",
    "        self.fo = 0\n",
    "        self.f1 = 1\n",
    "\n",
    "    def __next__(self):\n",
    "        out = self.fo\n",
    "        (self.fo, self.f1) = (self.f1, self.fo + self.f1)\n",
    "        return(out)\n",
    "\n",
    "    def __iter__(self):\n",
    "        return(self)"
   ]
  },
  {
   "cell_type": "code",
   "execution_count": 18,
   "metadata": {},
   "outputs": [
    {
     "data": {
      "text/plain": [
       "True"
      ]
     },
     "execution_count": 18,
     "metadata": {},
     "output_type": "execute_result"
    }
   ],
   "source": [
    "ans = Fibo()\n",
    "[next(ans) for _ in range(10)] == [0, 1, 1, 2, 3, 5, 8, 13, 21, 34]"
   ]
  },
  {
   "cell_type": "markdown",
   "metadata": {},
   "source": [
    "2. Define a class GenFibo of iterators that enumerate generalized Fibonacci numbers."
   ]
  },
  {
   "cell_type": "code",
   "execution_count": 22,
   "metadata": {},
   "outputs": [],
   "source": [
    "class GenFibo:\n",
    "    def __init__(self, fo=0, f1=1):\n",
    "        self.fo = fo\n",
    "        self.f1 = f1\n",
    "\n",
    "    def __next__(self):\n",
    "        out = self.fo\n",
    "        (self.fo, self.f1) = (self.f1, self.fo + self.f1)\n",
    "        return(out)\n",
    "\n",
    "    def __iter__(self):\n",
    "        return(self)"
   ]
  },
  {
   "cell_type": "code",
   "execution_count": 24,
   "metadata": {},
   "outputs": [
    {
     "data": {
      "text/plain": [
       "True"
      ]
     },
     "execution_count": 24,
     "metadata": {},
     "output_type": "execute_result"
    }
   ],
   "source": [
    "ans = GenFibo(2, 1)\n",
    "[next(ans) for _ in range(10)] == [2, 1, 3, 4, 7, 11, 18, 29, 47, 76]"
   ]
  },
  {
   "cell_type": "markdown",
   "metadata": {},
   "source": [
    "3. Define a generator primes that enumerates the prime numbers.\n",
    "#### You may use the function is_prime that we defined in class (or something similar to it), but such solutions will not receive full credit"
   ]
  },
  {
   "cell_type": "code",
   "execution_count": 26,
   "metadata": {},
   "outputs": [],
   "source": [
    "def primes():\n",
    "    num = int(2)\n",
    "    num_list = []\n",
    "    while True:\n",
    "        div_list = list(map(lambda x: num % x, num_list))\n",
    "        if all(div_list) != 0:\n",
    "            yield num\n",
    "        num_list.append(num)\n",
    "        num += 1"
   ]
  },
  {
   "cell_type": "code",
   "execution_count": 27,
   "metadata": {},
   "outputs": [
    {
     "data": {
      "text/plain": [
       "True"
      ]
     },
     "execution_count": 27,
     "metadata": {},
     "output_type": "execute_result"
    }
   ],
   "source": [
    "ans = primes()\n",
    "[next(ans) for _ in range(10)] == [2, 3, 5, 7, 11, 13, 17, 19, 23, 29]"
   ]
  },
  {
   "cell_type": "markdown",
   "metadata": {},
   "source": [
    "4. Define a generator ulam that enumerates the Ulam numbers."
   ]
  },
  {
   "cell_type": "code",
   "execution_count": 28,
   "metadata": {},
   "outputs": [],
   "source": [
    "def ulam():\n",
    "    ulam_list = []\n",
    "    sum_list = []\n",
    "    u = 1\n",
    "    while True:\n",
    "        if sum(list(map(lambda x: x == u, sum_list))) < 2:\n",
    "            for i in range(len(ulam_list)):\n",
    "                sum_list.append(ulam_list[i] + u)\n",
    "            ulam_list.append(u)\n",
    "            yield u\n",
    "        u += 1"
   ]
  },
  {
   "cell_type": "code",
   "execution_count": 29,
   "metadata": {},
   "outputs": [
    {
     "data": {
      "text/plain": [
       "True"
      ]
     },
     "execution_count": 29,
     "metadata": {},
     "output_type": "execute_result"
    }
   ],
   "source": [
    "ans = ulam()\n",
    "[next(ans) for _ in range(10)] == [1, 2, 3, 4, 6, 8, 11, 13, 16, 18]"
   ]
  },
  {
   "cell_type": "markdown",
   "metadata": {},
   "source": [
    "###  Problem 4: List Comprehensions and Generator Expressions (5 points)\n",
    "1. Write a list comprehension that enumerates the sequence $3^n - 1$ for n = 1, 2, 3, ..., 20."
   ]
  },
  {
   "cell_type": "code",
   "execution_count": 31,
   "metadata": {},
   "outputs": [],
   "source": [
    "pow3minus1 = [(3**n)-1 for n in range(1, 21)]"
   ]
  },
  {
   "cell_type": "markdown",
   "metadata": {},
   "source": [
    "2. Write a generator expression that enumerates the Lazy Caterer's sequence. Please assign this generator expression to a variable called caterer."
   ]
  },
  {
   "cell_type": "code",
   "execution_count": 32,
   "metadata": {},
   "outputs": [],
   "source": [
    "def nonneg_int():\n",
    "    n = 0\n",
    "    while True:\n",
    "        yield n\n",
    "        n += 1"
   ]
  },
  {
   "cell_type": "code",
   "execution_count": 33,
   "metadata": {},
   "outputs": [],
   "source": [
    "caterer = (((n**2)+n+2)/2 for n in nonneg_int())"
   ]
  },
  {
   "cell_type": "markdown",
   "metadata": {},
   "source": [
    "3. Write a generator expression that enumerates the pyramid numbers."
   ]
  },
  {
   "cell_type": "code",
   "execution_count": 34,
   "metadata": {},
   "outputs": [],
   "source": [
    "def pos_int():\n",
    "    n = 1\n",
    "    while True:\n",
    "        yield n\n",
    "        n += 1"
   ]
  },
  {
   "cell_type": "code",
   "execution_count": 35,
   "metadata": {},
   "outputs": [],
   "source": [
    "pyramid = ((n*(n+1)*(2*n+1))/6 for n in pos_int())"
   ]
  },
  {
   "cell_type": "markdown",
   "metadata": {},
   "source": [
    "4. Write a generator expression that enumerates the octahedral numbers."
   ]
  },
  {
   "cell_type": "code",
   "execution_count": 36,
   "metadata": {},
   "outputs": [],
   "source": [
    "octe = ((n*(2*n**2+1))/3 for n in pos_int())"
   ]
  },
  {
   "cell_type": "markdown",
   "metadata": {},
   "source": [
    "### Problem 5: Map, Filter and Reduce\n",
    "1. Write a one-line expression that computes the sum of the first 10 odd  (starting from 1)."
   ]
  },
  {
   "cell_type": "code",
   "execution_count": 37,
   "metadata": {},
   "outputs": [],
   "source": [
    "sum_of_odd_numbers = sum(filter(lambda x: x % 2 == 1, range(1, 20)))"
   ]
  },
  {
   "cell_type": "markdown",
   "metadata": {},
   "source": [
    "2. Write a one-line expression that computes the product of the first 13 primes. You may use the primes generator that you defined above. Please assign the output of this expression to a variable called product_of_primes."
   ]
  },
  {
   "cell_type": "code",
   "execution_count": 40,
   "metadata": {},
   "outputs": [
    {
     "name": "stderr",
     "output_type": "stream",
     "text": [
      "4:80: E501 line too long (84 > 79 characters)\n"
     ]
    }
   ],
   "source": [
    "import functools\n",
    "\n",
    "n = primes()\n",
    "product_of_primes = functools.reduce(lambda x, y: x*y, [next(n) for _ in range(13)])"
   ]
  },
  {
   "cell_type": "markdown",
   "metadata": {},
   "source": [
    "3. Write a one-line expression that computes the sum of the squares of the first 31 primes. You may use the primes generator that you defined above. Please assign the output of this expression to a variable called squared_primes."
   ]
  },
  {
   "cell_type": "code",
   "execution_count": 41,
   "metadata": {},
   "outputs": [],
   "source": [
    "n = primes()\n",
    "squared_primes = sum(list(map(lambda x: x**2, [next(n) for _ in range(31)])))"
   ]
  },
  {
   "cell_type": "markdown",
   "metadata": {},
   "source": [
    "4. Write a one-line expression that computes a list of the first twenty harmonic numbers. Please assign the output of this expression to a variable called harmonics."
   ]
  },
  {
   "cell_type": "code",
   "execution_count": 43,
   "metadata": {},
   "outputs": [
    {
     "name": "stderr",
     "output_type": "stream",
     "text": [
      "1:80: E501 line too long (80 > 79 characters)\n"
     ]
    }
   ],
   "source": [
    "harmonics = list(map(lambda n: sum([1/k for k in range(1, n+1)]), range(1, 21)))"
   ]
  },
  {
   "cell_type": "markdown",
   "metadata": {},
   "source": [
    "5. Write a one-line expression that computes the geometric mean of the first 12 octahedral numbers."
   ]
  },
  {
   "cell_type": "code",
   "execution_count": 45,
   "metadata": {},
   "outputs": [
    {
     "name": "stderr",
     "output_type": "stream",
     "text": [
      "1:80: E501 line too long (98 > 79 characters)\n"
     ]
    }
   ],
   "source": [
    "octa_geom = (functools.reduce(lambda x, y: x*y, [(n*(2*(n**2)+1))/3 for n in range(1, 4)]))**(1/3)"
   ]
  },
  {
   "cell_type": "markdown",
   "metadata": {},
   "source": [
    "### Problem 6: Fun with Polynomials\n",
    "1. Write a function make_poly that takes a list of numbers (ints and/or foats) coeffs as its only argument and returns a function p."
   ]
  },
  {
   "cell_type": "code",
   "execution_count": 47,
   "metadata": {},
   "outputs": [],
   "source": [
    "def make_poly(coeffs):\n",
    "    def p(x, coeffs=coeffs):\n",
    "        poly_list = []\n",
    "        for i in range(len(coeffs)):\n",
    "            poly_list.append(coeffs[i]*(x**i))\n",
    "        return(sum(poly_list))\n",
    "    return p"
   ]
  },
  {
   "cell_type": "code",
   "execution_count": 48,
   "metadata": {},
   "outputs": [
    {
     "data": {
      "text/plain": [
       "True"
      ]
     },
     "execution_count": 48,
     "metadata": {},
     "output_type": "execute_result"
    }
   ],
   "source": [
    "make_poly([1, 3, 4])(2) == 23"
   ]
  },
  {
   "cell_type": "markdown",
   "metadata": {},
   "source": [
    "2. Write a function eval_poly that takes two lists of numbers (ints and/or foats), coeffs and args."
   ]
  },
  {
   "cell_type": "code",
   "execution_count": 49,
   "metadata": {},
   "outputs": [],
   "source": [
    "def eval_poly(coeffs, args):\n",
    "    result_list = []\n",
    "    for i in range(len(args)):\n",
    "        result_list.append(make_poly(coeffs)(args[i]))\n",
    "    return result_list"
   ]
  },
  {
   "cell_type": "code",
   "execution_count": 50,
   "metadata": {},
   "outputs": [
    {
     "data": {
      "text/plain": [
       "True"
      ]
     },
     "execution_count": 50,
     "metadata": {},
     "output_type": "execute_result"
    }
   ],
   "source": [
    "eval_poly([1, 3, 4], [2, 3]) == [23, 46]"
   ]
  }
 ],
 "metadata": {
  "kernelspec": {
   "display_name": "Python 3",
   "language": "python",
   "name": "python3"
  },
  "language_info": {
   "codemirror_mode": {
    "name": "ipython",
    "version": 3
   },
   "file_extension": ".py",
   "mimetype": "text/x-python",
   "name": "python",
   "nbconvert_exporter": "python",
   "pygments_lexer": "ipython3",
   "version": "3.7.6"
  }
 },
 "nbformat": 4,
 "nbformat_minor": 2
}
