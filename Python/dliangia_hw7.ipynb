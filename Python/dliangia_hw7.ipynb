{
 "cells": [
  {
   "cell_type": "markdown",
   "metadata": {},
   "source": [
    "# Homework 7: Multilayer Perceptrons\n",
    "\n",
    "**name:** Diana Liang\n",
    "\n",
    "**email:** dliangia@umich.edu\n",
    "\n",
    "**I did not discuss the homework with anyone.**\n",
    "\n",
    "**This homework assignment took me 9 hours in total to complete.** Most of the time was spent waiting for compilation to complete since Windows 10 does not support multicore processes.\n",
    "\n",
    "### Submission Instructions\n",
    "Your homework solutions should be written entirely in this Jupyter notebook file. Once it contains your solutions, you should submit this notebook through Canvas. Before submitting, please make sure make sure __Cells->Run__ executes without errors; errors in your code cause problems for our auto-grader. Thus, even though we frequently ask you to check for errors in your functions, you should not include in your submission any examples of your functions actually raising those errors.\n",
    "\n",
    "### Pillow\n",
    "Note that Python's Imaging Library (PIL) can be installed via\n",
    "\n",
    "    conda install pillow\n",
    "    \n",
    "or\n",
    "\n",
    "    pip install pillow\n",
    "\n",
    "\n",
    "### Credits\n",
    "This homework assignment is based on a homework assignment written by Sebastian Raschka (sraschka@wisc.edu)\n",
    "The dataset is from him too. Please do not distribute this modified version of his work.\n",
    "\n",
    "### Supplemental Data Files\n",
    "Run the following code to download the supplemental files you will need to complete this homework:"
   ]
  },
  {
   "cell_type": "code",
   "execution_count": 1,
   "metadata": {},
   "outputs": [],
   "source": [
    "from urllib import request\n",
    "from os import path\n",
    "from zipfile import ZipFile\n",
    "\n",
    "url = \"https://regier.stat.lsa.umich.edu/stats507/\"\n",
    "fn = \"hw7data.zip\"\n",
    "if not path.exists(fn):\n",
    "    data = request.urlopen(url + fn).read()\n",
    "    with open(fn, 'wb') as fhand:\n",
    "        fhand.write(data)\n",
    "    with ZipFile(fn, 'r') as zipObj:\n",
    "        zipObj.extractall()"
   ]
  },
  {
   "cell_type": "markdown",
   "metadata": {},
   "source": [
    "### Coding style\n",
    "Please follow the [PEP8 guidelines](https://www.python.org/dev/peps/pep-0008/). The `pycodestyle_magic` package will remind you if you are not. To install it, run\n",
    "```\n",
    "pip install flake8 pycodestyle_magic\n",
    "```\n",
    "Once it is installed the following two Jupyter directives will enable syntax checking:"
   ]
  },
  {
   "cell_type": "code",
   "execution_count": 2,
   "metadata": {},
   "outputs": [],
   "source": [
    "%load_ext pycodestyle_magic\n",
    "%pycodestyle_on"
   ]
  },
  {
   "cell_type": "markdown",
   "metadata": {},
   "source": [
    "## Problem 1 (20 points)\n",
    "\n",
    "Modify the Multilayer Perceptron implementation below to achieve a better performance. In particular,\n",
    "- Your Validation and Test set accuracies should be >= 92%\n",
    "- Answer the questions at the bottom of this notebook"
   ]
  },
  {
   "cell_type": "markdown",
   "metadata": {},
   "source": [
    "Please read and execute this notebook first to make sure everything works correctly. Then, make any changes to the architecture, i.e., you can change\n",
    "\n",
    "- the number of layers\n",
    "- the activation function(s) (logistic sigmoid, tanh, relu, leaky relu, ...)\n",
    "- the learning rate\n",
    "- the number of hidden layers\n",
    "- the number of units in the hidden layer(s)\n",
    "- the number of epochs\n",
    "- the minibatch size\n",
    "\n",
    "However,\n",
    "\n",
    "- don't change the weight initialization\n",
    "- don't change the random seed\n",
    "- don't change the optimization algorithm"
   ]
  },
  {
   "cell_type": "code",
   "execution_count": 1,
   "metadata": {},
   "outputs": [],
   "source": [
    "import torch\n",
    "import os\n",
    "import pandas as pd\n",
    "import numpy as np\n",
    "import time\n",
    "from PIL import Image\n",
    "from torch.utils.data import Dataset\n",
    "from torchvision import transforms\n",
    "from torch.utils.data import DataLoader\n",
    "import torch.nn.functional as F\n",
    "import matplotlib.pyplot as plt\n",
    "%matplotlib inline"
   ]
  },
  {
   "cell_type": "code",
   "execution_count": 2,
   "metadata": {},
   "outputs": [],
   "source": [
    "# No need to change anything here!\n",
    "# If there is a GPU available, it will use it,\n",
    "# otherwise, it will use the CPU\n",
    "\n",
    "RANDOM_SEED = 123\n",
    "DEVICE = torch.device('cuda:0' if torch.cuda.is_available() else 'cpu')\n",
    "\n",
    "# NOTE: I actually noticed that this code runs faster on the CPU than on the\n",
    "# GPU, because the dataset is so small. However, you are encouraged to try\n",
    "# out training on a GPU, e.g., via Google Colab."
   ]
  },
  {
   "cell_type": "markdown",
   "metadata": {},
   "source": [
    "### Loading the Dataset"
   ]
  },
  {
   "cell_type": "markdown",
   "metadata": {},
   "source": [
    "The dataset consists of 3 classes:\n",
    "- Drawings of \"birds\" (class 0)\n",
    "- Drawings of \"pizzas\" (class 1)\n",
    "- Drawings of \"screwdrivers\" (class 2)\n",
    "\n",
    "(The dataset is based on Google Quickdraw: I wrote a script to fetch the images from the database here: https://quickdraw.withgoogle.com/data)"
   ]
  },
  {
   "cell_type": "markdown",
   "metadata": {},
   "source": [
    "The dataset is very small on purpose so that the training should be relatively fast (but this wouldn't be an ideal DL dataset because of its small size)."
   ]
  },
  {
   "cell_type": "code",
   "execution_count": 3,
   "metadata": {},
   "outputs": [
    {
     "name": "stdout",
     "output_type": "stream",
     "text": [
      "Class distribution Train [8005 7669 6826]\n"
     ]
    }
   ],
   "source": [
    "df_train = pd.read_csv('train.csv')\n",
    "print('Class distribution Train', np.bincount(df_train['Class Label'].values))"
   ]
  },
  {
   "cell_type": "markdown",
   "metadata": {},
   "source": [
    "The images are 28x28 dimensional (grayscale)."
   ]
  },
  {
   "cell_type": "markdown",
   "metadata": {},
   "source": [
    "Some examples:"
   ]
  },
  {
   "cell_type": "code",
   "execution_count": 5,
   "metadata": {},
   "outputs": [
    {
     "name": "stdout",
     "output_type": "stream",
     "text": [
      "png-files\\bird_000043.png\n"
     ]
    },
    {
     "data": {
      "image/png": "[encoded data removed]",
      "text/plain": [
       "<Figure size 432x288 with 1 Axes>"
      ]
     },
     "metadata": {
      "needs_background": "light"
     },
     "output_type": "display_data"
    },
    {
     "name": "stdout",
     "output_type": "stream",
     "text": [
      "png-files\\bird_000107.png\n"
     ]
    },
    {
     "data": {
      "image/png": "[encoded data removed]",
      "text/plain": [
       "<Figure size 432x288 with 1 Axes>"
      ]
     },
     "metadata": {
      "needs_background": "light"
     },
     "output_type": "display_data"
    },
    {
     "name": "stdout",
     "output_type": "stream",
     "text": [
      "png-files\\pizza_000000.png\n"
     ]
    },
    {
     "data": {
      "image/png": "[encoded data removed]",
      "text/plain": [
       "<Figure size 432x288 with 1 Axes>"
      ]
     },
     "metadata": {
      "needs_background": "light"
     },
     "output_type": "display_data"
    },
    {
     "name": "stdout",
     "output_type": "stream",
     "text": [
      "png-files\\pizza_000002.png\n"
     ]
    },
    {
     "data": {
      "image/png": "[encoded data removed]",
      "text/plain": [
       "<Figure size 432x288 with 1 Axes>"
      ]
     },
     "metadata": {
      "needs_background": "light"
     },
     "output_type": "display_data"
    },
    {
     "name": "stdout",
     "output_type": "stream",
     "text": [
      "png-files\\screwdriver_000001.png\n"
     ]
    },
    {
     "data": {
      "image/png": "[encoded data removed]",
      "text/plain": [
       "<Figure size 432x288 with 1 Axes>"
      ]
     },
     "metadata": {
      "needs_background": "light"
     },
     "output_type": "display_data"
    },
    {
     "name": "stdout",
     "output_type": "stream",
     "text": [
      "png-files\\screwdriver_000012.png\n"
     ]
    },
    {
     "data": {
      "image/png": "[encoded data removed]",
      "text/plain": [
       "<Figure size 432x288 with 1 Axes>"
      ]
     },
     "metadata": {
      "needs_background": "light"
     },
     "output_type": "display_data"
    }
   ],
   "source": [
    "import glob\n",
    "image_paths = sorted(glob.glob('png-files/*.png'))\n",
    "for i in (12, 25, 30000, 30001, 60000, 60005):\n",
    "    im_path = image_paths[i]\n",
    "    print(im_path)\n",
    "    im = Image.open(im_path)\n",
    "    plt.imshow(im)\n",
    "    plt.show()"
   ]
  },
  {
   "cell_type": "markdown",
   "metadata": {},
   "source": [
    "---\n",
    "\n",
    "- The only thing you should change in this section during experimenting is the batch size\n",
    "- However, it is not required to make changes to the batch size"
   ]
  },
  {
   "cell_type": "code",
   "execution_count": 3,
   "metadata": {},
   "outputs": [],
   "source": [
    "class QuickdrawDataset(Dataset):\n",
    "    \"\"\"Custom Dataset for loading Quickdraw images\"\"\"\n",
    "\n",
    "    def __init__(self, csv_path, img_dir, transform=None):\n",
    "\n",
    "        df = pd.read_csv(csv_path)\n",
    "        self.img_dir = img_dir\n",
    "        self.img_names = df['Filename'].values\n",
    "        self.y = df['Class Label'].values\n",
    "        self.transform = transform\n",
    "\n",
    "    def __getitem__(self, index):\n",
    "        img = Image.open(os.path.join(self.img_dir,\n",
    "                                      self.img_names[index]))\n",
    "\n",
    "        if self.transform is not None:\n",
    "            img = self.transform(img)\n",
    "\n",
    "        label = self.y[index]\n",
    "        return img, label\n",
    "\n",
    "    def __len__(self):\n",
    "        return self.y.shape[0]"
   ]
  },
  {
   "cell_type": "code",
   "execution_count": 4,
   "metadata": {},
   "outputs": [],
   "source": [
    "# Note that transforms.ToTensor()\n",
    "# already divides pixels by 255. internally\n",
    "custom_transform = transforms.Compose([transforms.ToTensor()])\n",
    "\n",
    "\n",
    "train_dataset = QuickdrawDataset(csv_path='train.csv',\n",
    "                                 img_dir='png-files/',\n",
    "                                 transform=custom_transform)\n",
    "\n",
    "train_loader = DataLoader(dataset=train_dataset,\n",
    "                          batch_size=128,  # CHANGE IF YOU LIKE\n",
    "                          shuffle=True,\n",
    "                          num_workers=0)\n",
    "\n",
    "\n",
    "valid_dataset = QuickdrawDataset(csv_path='valid.csv',\n",
    "                                 img_dir='png-files/',\n",
    "                                 transform=custom_transform)\n",
    "\n",
    "valid_loader = DataLoader(dataset=valid_dataset,\n",
    "                          batch_size=128,\n",
    "                          shuffle=False,\n",
    "                          num_workers=0)\n",
    "\n",
    "test_dataset = QuickdrawDataset(csv_path='test.csv',\n",
    "                                img_dir='png-files/',\n",
    "                                transform=custom_transform)\n",
    "\n",
    "test_loader = DataLoader(dataset=test_dataset,\n",
    "                         batch_size=128,\n",
    "                         shuffle=False,\n",
    "                         num_workers=0)"
   ]
  },
  {
   "cell_type": "markdown",
   "metadata": {},
   "source": [
    "The cell below just checks if the dataset can be loaded correctly."
   ]
  },
  {
   "cell_type": "code",
   "execution_count": 6,
   "metadata": {},
   "outputs": [
    {
     "name": "stdout",
     "output_type": "stream",
     "text": [
      "Epoch: 1 | Batch index: 0 | Batch size: 128\n",
      "break minibatch for-loop\n",
      "Epoch: 2 | Batch index: 0 | Batch size: 128\n",
      "break minibatch for-loop\n"
     ]
    }
   ],
   "source": [
    "torch.manual_seed(0)\n",
    "\n",
    "num_epochs = 2\n",
    "for epoch in range(num_epochs):\n",
    "\n",
    "    for batch_idx, (x, y) in enumerate(train_loader):\n",
    "\n",
    "        print('Epoch:', epoch+1, end='')\n",
    "        print(' | Batch index:', batch_idx, end='')\n",
    "        print(' | Batch size:', y.size()[0])\n",
    "\n",
    "        x = x.to(DEVICE)\n",
    "        y = y.to(DEVICE)\n",
    "\n",
    "        print('break minibatch for-loop')\n",
    "        break"
   ]
  },
  {
   "cell_type": "markdown",
   "metadata": {},
   "source": [
    "If you get an error, make sure the `png-files` folder is unzipped and it the same directory as this notebook!"
   ]
  },
  {
   "cell_type": "markdown",
   "metadata": {},
   "source": [
    "### Multilayer Perceptron Model"
   ]
  },
  {
   "cell_type": "markdown",
   "metadata": {},
   "source": [
    "The cell below contains the multi-layer perceptron model. This is the main section where you want to make changes to the architecture."
   ]
  },
  {
   "cell_type": "code",
   "execution_count": 22,
   "metadata": {},
   "outputs": [],
   "source": [
    "class MLP(torch.nn.Module):\n",
    "\n",
    "    def __init__(self, num_features, num_hidden_1, num_hidden_2, num_hidden_3, num_classes):\n",
    "        super(MLP, self).__init__()\n",
    "\n",
    "        self.num_classes = num_classes\n",
    "\n",
    "        # ADD ADDITIONAL LAYERS BELOW IF YOU LIKE\n",
    "        self.linear_1 = torch.nn.Linear(num_features, num_hidden_1)\n",
    "        self.linear_2 = torch.nn.Linear(num_hidden_1, num_hidden_2)\n",
    "        self.linear_3 = torch.nn.Linear(num_hidden_2, num_hidden_3)\n",
    "        self.linear_out = torch.nn.Linear(num_hidden_3, num_classes)\n",
    "\n",
    "    def forward(self, x):\n",
    "        # MAKE SURE YOU CONNECT THE LAYERS PROPERLY IF YOU CHANGED\n",
    "        # ANYTHNG IN THE __init__ METHOD ABOVE\n",
    "        first = self.linear_1(x)\n",
    "        first = F.leaky_relu(first)\n",
    "        second = self.linear_2(first)\n",
    "        second = F.leaky_relu(second)\n",
    "        out = self.linear_3(second)\n",
    "        out = F.leaky_relu(out)\n",
    "\n",
    "        logits = self.linear_out(out)\n",
    "        probas = F.softmax(logits, dim=1)\n",
    "        return logits, probas\n",
    "\n",
    "\n",
    "# Model Initialization\n",
    "\n",
    "\n",
    "# the random seed makes sure that the random weight initialization\n",
    "# in the model is always the same.\n",
    "# In practice, some weights don't work well, and we may also want\n",
    "# to try different random seeds. In this homework, this is not\n",
    "# necessary.\n",
    "torch.manual_seed(RANDOM_SEED)\n",
    "\n",
    "# IF YOU CHANGED THE ARCHITECTURE ABOVE, MAKE SURE YOU\n",
    "# ACCOUNT FOR IT VIA THE PARAMETERS BELOW. I.e., if you\n",
    "# added a second hidden layer, you may want to add a\n",
    "# hidden_2 parameter here. Also you may want to play\n",
    "# with the number of hidden units.\n",
    "model = MLP(num_features=28*28,\n",
    "            num_hidden_1=10000,\n",
    "            num_hidden_2=5000,\n",
    "            num_hidden_3=1000,\n",
    "            num_classes=3)\n",
    "\n",
    "model = model.to(DEVICE)\n",
    "\n",
    "\n",
    "# For this homework, do not change the optimizer. However, you\n",
    "# likely want to experiment with the learning rate!\n",
    "optimizer = torch.optim.SGD(model.parameters(), lr=0.05)"
   ]
  },
  {
   "cell_type": "code",
   "execution_count": 23,
   "metadata": {},
   "outputs": [
    {
     "name": "stdout",
     "output_type": "stream",
     "text": [
      "Epoch: 001/020 | Batch 000/176 | Cost: 1.0982\n",
      "Epoch: 001/020 | Batch 050/176 | Cost: 0.8249\n",
      "Epoch: 001/020 | Batch 100/176 | Cost: 0.6646\n",
      "Epoch: 001/020 | Batch 150/176 | Cost: 0.3913\n",
      "Epoch: 001/020 Train Cost: 0.4109\n",
      "Train Accuracy: 85.369 | Validation Accuracy: 85.720\n",
      "Time elapsed: 5.10 min\n",
      "Epoch: 002/020 | Batch 000/176 | Cost: 0.4101\n",
      "Epoch: 002/020 | Batch 050/176 | Cost: 0.3157\n",
      "Epoch: 002/020 | Batch 100/176 | Cost: 0.3202\n",
      "Epoch: 002/020 | Batch 150/176 | Cost: 0.4226\n",
      "Epoch: 002/020 Train Cost: 0.3279\n",
      "Train Accuracy: 88.902 | Validation Accuracy: 88.480\n",
      "Time elapsed: 10.06 min\n",
      "Epoch: 003/020 | Batch 000/176 | Cost: 0.2455\n",
      "Epoch: 003/020 | Batch 050/176 | Cost: 0.2769\n",
      "Epoch: 003/020 | Batch 100/176 | Cost: 0.3550\n",
      "Epoch: 003/020 | Batch 150/176 | Cost: 0.2130\n",
      "Epoch: 003/020 Train Cost: 0.2821\n",
      "Train Accuracy: 91.027 | Validation Accuracy: 90.520\n",
      "Time elapsed: 14.99 min\n",
      "Epoch: 004/020 | Batch 000/176 | Cost: 0.3814\n",
      "Epoch: 004/020 | Batch 050/176 | Cost: 0.3095\n",
      "Epoch: 004/020 | Batch 100/176 | Cost: 0.2377\n",
      "Epoch: 004/020 | Batch 150/176 | Cost: 0.2618\n",
      "Epoch: 004/020 Train Cost: 0.2610\n",
      "Train Accuracy: 91.609 | Validation Accuracy: 90.680\n",
      "Time elapsed: 20.07 min\n",
      "Epoch: 005/020 | Batch 000/176 | Cost: 0.3419\n",
      "Epoch: 005/020 | Batch 050/176 | Cost: 0.3151\n",
      "Epoch: 005/020 | Batch 100/176 | Cost: 0.2521\n",
      "Epoch: 005/020 | Batch 150/176 | Cost: 0.2794\n",
      "Epoch: 005/020 Train Cost: 0.2519\n",
      "Train Accuracy: 91.733 | Validation Accuracy: 90.200\n",
      "Time elapsed: 25.20 min\n",
      "Epoch: 006/020 | Batch 000/176 | Cost: 0.2891\n",
      "Epoch: 006/020 | Batch 050/176 | Cost: 0.2867\n",
      "Epoch: 006/020 | Batch 100/176 | Cost: 0.2057\n",
      "Epoch: 006/020 | Batch 150/176 | Cost: 0.1962\n",
      "Epoch: 006/020 Train Cost: 0.2067\n",
      "Train Accuracy: 93.702 | Validation Accuracy: 92.040\n",
      "Time elapsed: 30.15 min\n",
      "Epoch: 007/020 | Batch 000/176 | Cost: 0.2027\n",
      "Epoch: 007/020 | Batch 050/176 | Cost: 0.3181\n",
      "Epoch: 007/020 | Batch 100/176 | Cost: 0.2761\n",
      "Epoch: 007/020 | Batch 150/176 | Cost: 0.2207\n",
      "Epoch: 007/020 Train Cost: 0.2453\n",
      "Train Accuracy: 90.996 | Validation Accuracy: 89.200\n",
      "Time elapsed: 35.51 min\n",
      "Epoch: 008/020 | Batch 000/176 | Cost: 0.2555\n",
      "Epoch: 008/020 | Batch 050/176 | Cost: 0.1375\n",
      "Epoch: 008/020 | Batch 100/176 | Cost: 0.2741\n",
      "Epoch: 008/020 | Batch 150/176 | Cost: 0.2723\n",
      "Epoch: 008/020 Train Cost: 0.2234\n",
      "Train Accuracy: 92.053 | Validation Accuracy: 89.840\n",
      "Time elapsed: 40.37 min\n",
      "Epoch: 009/020 | Batch 000/176 | Cost: 0.2250\n",
      "Epoch: 009/020 | Batch 050/176 | Cost: 0.1957\n",
      "Epoch: 009/020 | Batch 100/176 | Cost: 0.1708\n",
      "Epoch: 009/020 | Batch 150/176 | Cost: 0.2403\n",
      "Epoch: 009/020 Train Cost: 0.1678\n",
      "Train Accuracy: 94.618 | Validation Accuracy: 90.960\n",
      "Time elapsed: 45.29 min\n",
      "Epoch: 010/020 | Batch 000/176 | Cost: 0.1557\n",
      "Epoch: 010/020 | Batch 050/176 | Cost: 0.2179\n",
      "Epoch: 010/020 | Batch 100/176 | Cost: 0.1292\n",
      "Epoch: 010/020 | Batch 150/176 | Cost: 0.0910\n",
      "Epoch: 010/020 Train Cost: 0.1588\n",
      "Train Accuracy: 94.747 | Validation Accuracy: 91.440\n",
      "Time elapsed: 50.24 min\n",
      "Epoch: 011/020 | Batch 000/176 | Cost: 0.1230\n",
      "Epoch: 011/020 | Batch 050/176 | Cost: 0.1063\n",
      "Epoch: 011/020 | Batch 100/176 | Cost: 0.1000\n",
      "Epoch: 011/020 | Batch 150/176 | Cost: 0.1707\n",
      "Epoch: 011/020 Train Cost: 0.1376\n",
      "Train Accuracy: 95.636 | Validation Accuracy: 91.760\n",
      "Time elapsed: 55.14 min\n",
      "Epoch: 012/020 | Batch 000/176 | Cost: 0.1292\n",
      "Epoch: 012/020 | Batch 050/176 | Cost: 0.1481\n",
      "Epoch: 012/020 | Batch 100/176 | Cost: 0.0914\n",
      "Epoch: 012/020 | Batch 150/176 | Cost: 0.2584\n",
      "Epoch: 012/020 Train Cost: 0.0980\n",
      "Train Accuracy: 97.271 | Validation Accuracy: 93.240\n",
      "Time elapsed: 60.03 min\n",
      "Epoch: 013/020 | Batch 000/176 | Cost: 0.0767\n",
      "Epoch: 013/020 | Batch 050/176 | Cost: 0.0668\n",
      "Epoch: 013/020 | Batch 100/176 | Cost: 0.0934\n",
      "Epoch: 013/020 | Batch 150/176 | Cost: 0.1784\n",
      "Epoch: 013/020 Train Cost: 0.0835\n",
      "Train Accuracy: 97.773 | Validation Accuracy: 93.280\n",
      "Time elapsed: 64.89 min\n",
      "Epoch: 014/020 | Batch 000/176 | Cost: 0.1291\n",
      "Epoch: 014/020 | Batch 050/176 | Cost: 0.0769\n",
      "Epoch: 014/020 | Batch 100/176 | Cost: 0.0940\n",
      "Epoch: 014/020 | Batch 150/176 | Cost: 0.1064\n",
      "Epoch: 014/020 Train Cost: 0.0883\n",
      "Train Accuracy: 97.480 | Validation Accuracy: 91.960\n",
      "Time elapsed: 69.76 min\n",
      "Epoch: 015/020 | Batch 000/176 | Cost: 0.0530\n",
      "Epoch: 015/020 | Batch 050/176 | Cost: 0.0824\n",
      "Epoch: 015/020 | Batch 100/176 | Cost: 0.0490\n",
      "Epoch: 015/020 | Batch 150/176 | Cost: 0.0697\n",
      "Epoch: 015/020 Train Cost: 0.0791\n",
      "Train Accuracy: 97.720 | Validation Accuracy: 93.040\n",
      "Time elapsed: 74.62 min\n",
      "Epoch: 016/020 | Batch 000/176 | Cost: 0.0201\n",
      "Epoch: 016/020 | Batch 050/176 | Cost: 0.0620\n",
      "Epoch: 016/020 | Batch 100/176 | Cost: 0.0466\n",
      "Epoch: 016/020 | Batch 150/176 | Cost: 0.0596\n",
      "Epoch: 016/020 Train Cost: 0.0504\n",
      "Train Accuracy: 98.849 | Validation Accuracy: 93.120\n",
      "Time elapsed: 79.54 min\n",
      "Epoch: 017/020 | Batch 000/176 | Cost: 0.0261\n",
      "Epoch: 017/020 | Batch 050/176 | Cost: 0.0677\n",
      "Epoch: 017/020 | Batch 100/176 | Cost: 0.0721\n",
      "Epoch: 017/020 | Batch 150/176 | Cost: 0.0586\n",
      "Epoch: 017/020 Train Cost: 0.0619\n",
      "Train Accuracy: 98.147 | Validation Accuracy: 92.600\n",
      "Time elapsed: 84.52 min\n",
      "Epoch: 018/020 | Batch 000/176 | Cost: 0.0323\n",
      "Epoch: 018/020 | Batch 050/176 | Cost: 0.1364\n",
      "Epoch: 018/020 | Batch 100/176 | Cost: 0.0300\n",
      "Epoch: 018/020 | Batch 150/176 | Cost: 0.0338\n",
      "Epoch: 018/020 Train Cost: 0.0395\n",
      "Train Accuracy: 99.107 | Validation Accuracy: 93.240\n",
      "Time elapsed: 89.79 min\n",
      "Epoch: 019/020 | Batch 000/176 | Cost: 0.0143\n",
      "Epoch: 019/020 | Batch 050/176 | Cost: 0.0320\n",
      "Epoch: 019/020 | Batch 100/176 | Cost: 0.0690\n",
      "Epoch: 019/020 | Batch 150/176 | Cost: 0.0535\n",
      "Epoch: 019/020 Train Cost: 0.0285\n",
      "Train Accuracy: 99.427 | Validation Accuracy: 93.320\n",
      "Time elapsed: 94.90 min\n",
      "Epoch: 020/020 | Batch 000/176 | Cost: 0.0197\n",
      "Epoch: 020/020 | Batch 050/176 | Cost: 0.0164\n",
      "Epoch: 020/020 | Batch 100/176 | Cost: 0.0120\n",
      "Epoch: 020/020 | Batch 150/176 | Cost: 0.0667\n",
      "Epoch: 020/020 Train Cost: 0.0259\n",
      "Train Accuracy: 99.542 | Validation Accuracy: 93.440\n",
      "Time elapsed: 100.53 min\n",
      "Total Training Time: 100.53 min\n"
     ]
    }
   ],
   "source": [
    "# Training\n",
    "\n",
    "\n",
    "# PLEASE DON'T CHANGE THE compute_epoch_loss\n",
    "# and the compute accuracy functions\n",
    "\n",
    "def compute_epoch_loss(model, data_loader):\n",
    "    curr_loss, num_examples = 0., 0\n",
    "    with torch.no_grad():\n",
    "        for features, targets in data_loader:\n",
    "            features = features.view(-1, 28*28).to(DEVICE)\n",
    "            targets = targets.to(DEVICE)\n",
    "            logits, probas = model(features)\n",
    "            loss = F.cross_entropy(logits, targets, reduction='sum')\n",
    "            num_examples += targets.size(0)\n",
    "            curr_loss += loss\n",
    "\n",
    "        curr_loss = curr_loss / num_examples\n",
    "        return curr_loss\n",
    "\n",
    "\n",
    "def compute_accuracy(model, data_loader):\n",
    "    correct_pred, num_examples = 0, 0\n",
    "    with torch.no_grad():\n",
    "        for features, targets in data_loader:\n",
    "            features = features.view(-1, 28*28).to(DEVICE)\n",
    "            targets = targets.to(DEVICE)\n",
    "            logits, probas = model.forward(features)\n",
    "            predicted_labels = torch.argmax(probas, 1)\n",
    "            num_examples += targets.size(0)\n",
    "            correct_pred += (predicted_labels == targets).sum()\n",
    "        return correct_pred.float()/num_examples * 100\n",
    "\n",
    "\n",
    "start_time = time.time()\n",
    "minibatch_cost = []\n",
    "epoch_cost = []\n",
    "\n",
    "# NO NEED TO CHANGE ANYTHING BELOW. HOWEVER, YOU CAN CHANGE\n",
    "# THE NUMBER OF EPOCHS IF YOU LIKE\n",
    "\n",
    "NUM_EPOCHS = 20\n",
    "\n",
    "for epoch in range(NUM_EPOCHS):\n",
    "    model.train()\n",
    "    for batch_idx, (features, targets) in enumerate(train_loader):\n",
    "        features = features.view(-1, 28*28).to(DEVICE)\n",
    "        targets = targets.to(DEVICE)\n",
    "\n",
    "        # FORWARD AND BACK PROP\n",
    "        logits, probas = model(features)\n",
    "        cost = F.cross_entropy(logits, targets)\n",
    "        optimizer.zero_grad()\n",
    "        cost.backward()\n",
    "        minibatch_cost.append(cost)\n",
    "\n",
    "        # UPDATE MODEL PARAMETERS\n",
    "        optimizer.step()\n",
    "\n",
    "        # LOGGING\n",
    "        if not batch_idx % 50:\n",
    "            print('Epoch: %03d/%03d | Batch %03d/%03d | Cost: %.4f'\n",
    "                  % (epoch+1, NUM_EPOCHS, batch_idx,\n",
    "                     len(train_loader), cost))\n",
    "\n",
    "    model.eval()\n",
    "    cost = compute_epoch_loss(model, train_loader)\n",
    "    epoch_cost.append(cost)\n",
    "\n",
    "    train_accuracy = compute_accuracy(model, train_loader)\n",
    "    valid_accuracy = compute_accuracy(model, valid_loader)\n",
    "\n",
    "    print('Epoch: %03d/%03d Train Cost: %.4f' % (\n",
    "            epoch+1, NUM_EPOCHS, cost))\n",
    "    print('Train Accuracy: %.3f | Validation Accuracy: %.3f'\n",
    "          % (train_accuracy, valid_accuracy))\n",
    "    print('Time elapsed: %.2f min' % ((time.time() - start_time)/60))\n",
    "    \n",
    "\n",
    "print('Total Training Time: %.2f min' % ((time.time() - start_time)/60))"
   ]
  },
  {
   "cell_type": "markdown",
   "metadata": {},
   "source": [
    "### Evaluation (No Need To Change Any Code in This Section!)"
   ]
  },
  {
   "cell_type": "code",
   "execution_count": 24,
   "metadata": {},
   "outputs": [
    {
     "data": {
      "image/png": "[encoded data removed]",
      "text/plain": [
       "<Figure size 432x288 with 1 Axes>"
      ]
     },
     "metadata": {
      "needs_background": "light"
     },
     "output_type": "display_data"
    },
    {
     "data": {
      "image/png": "[encoded data removed]",
      "text/plain": [
       "<Figure size 432x288 with 1 Axes>"
      ]
     },
     "metadata": {
      "needs_background": "light"
     },
     "output_type": "display_data"
    }
   ],
   "source": [
    "plt.plot(range(len(minibatch_cost)), minibatch_cost)\n",
    "plt.ylabel('Cross Entropy')\n",
    "plt.xlabel('Minibatch')\n",
    "plt.show()\n",
    "\n",
    "plt.plot(range(len(epoch_cost)), epoch_cost)\n",
    "plt.ylabel('Cross Entropy')\n",
    "plt.xlabel('Epoch')\n",
    "plt.show()"
   ]
  },
  {
   "cell_type": "code",
   "execution_count": 25,
   "metadata": {},
   "outputs": [
    {
     "name": "stdout",
     "output_type": "stream",
     "text": [
      "Test Accuracy: 93.13\n"
     ]
    }
   ],
   "source": [
    "print('Test Accuracy: %.2f' % compute_accuracy(model, test_loader))"
   ]
  },
  {
   "cell_type": "markdown",
   "metadata": {},
   "source": [
    "### Conclusions (YOUR ANSWERS REQUIRED)"
   ]
  },
  {
   "cell_type": "markdown",
   "metadata": {},
   "source": [
    "**1) What is your training, validation, and test accuracy (paste your numbers from above)? Also, do you notice any overfitting? If yes, why do you think your model is overfitting, and what would be a simple technique to reduce overfitting?**\n",
    "\n",
    "Training Accuracy: 99.542%\n",
    "\n",
    "Validation Accuracy: 93.440%\n",
    "\n",
    "Test Accuracy: 93.13%\n",
    "\n",
    "There were multiple epochs when the cost increased rather than decreased with each additional epoch, which may have been the result of overfitting. During those epochs, the model may have relied too heavily on the same combinations of batches. To reduce overfitting from this cause, one can increase the number of epochs, which is shown by the above Epoch vs. Cross Entropy plot to overall decrease cost and reduce validation error."
   ]
  },
  {
   "cell_type": "markdown",
   "metadata": {},
   "source": [
    "**2) What architectual changes did you make to improve the performance?**\n",
    "\n",
    "I added 2 more hidden layers and changed the activation function to all leaky ReLu's. The number of units within each hidden layer was dramatically increase (now 10,000; 5,000; 1,000; 3).\n",
    "\n",
    "I also decreased the number of epochs to 20 because I didn't want compilation time to be over 2 hours."
   ]
  },
  {
   "cell_type": "markdown",
   "metadata": {},
   "source": [
    "**3) Assuming you increased the accuracy by 3%, how many more correct predictions did the improved model make in the test set?**"
   ]
  },
  {
   "cell_type": "code",
   "execution_count": 39,
   "metadata": {},
   "outputs": [
    {
     "data": {
      "text/plain": [
       "1950.0"
      ]
     },
     "execution_count": 39,
     "metadata": {},
     "output_type": "execute_result"
    }
   ],
   "source": [
    "num_pred = 65000\n",
    "more_correct = (0.03)*num_pred\n",
    "more_correct"
   ]
  }
 ],
 "metadata": {
  "kernelspec": {
   "display_name": "Python 3",
   "language": "python",
   "name": "python3"
  },
  "language_info": {
   "codemirror_mode": {
    "name": "ipython",
    "version": 3
   },
   "file_extension": ".py",
   "mimetype": "text/x-python",
   "name": "python",
   "nbconvert_exporter": "python",
   "pygments_lexer": "ipython3",
   "version": "3.7.6"
  }
 },
 "nbformat": 4,
 "nbformat_minor": 2
}
